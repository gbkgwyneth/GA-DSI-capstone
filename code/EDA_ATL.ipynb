{
 "cells": [
  {
   "cell_type": "markdown",
   "metadata": {},
   "source": [
    "<img src=\"../images/bikes_banner.jpg\" width=\"1000\" />"
   ]
  },
  {
   "cell_type": "markdown",
   "metadata": {},
   "source": [
    "# <span style=\"color:#37535e\">Initial EDA for Bicycle Share Usage Project</span>\n",
    "\n",
    "##  <span style='color:#3b748a'>Basic EDA for July 2018 data from Relay Atlanta</span>\n",
    "\n",
    "<span style='color:#4095b5'>This notebook performs initial explorations of one month (July 2018) of data from the Atlanta bike share system to better understand potential issues which may be encountered while standardizing the numerous data sets over various cities and for larger periods of time.</span>"
   ]
  },
  {
   "cell_type": "markdown",
   "metadata": {},
   "source": [
    "## <span style='color:#3b748a'>Table of contents</span>\n",
    "<ul>\n",
    "    <li><span style='color:#4095b5'>I.  <a href=\"#checking\"><span style='color:#4095b5'>Data checking functions.</span></a></span></li>\n",
    "    <li><span style='color:#4095b5'>II. <a href=\"#cleaning\"><span style='color:#4095b5'>Data cleaning functions.</span></a></span></li>\n",
    "    <li><span style='color:#4095b5'>III. <a href=\"#data\"><span style='color:#4095b5'>Obtain the data.</span></a></span></li>\n",
    "    <li><span style='color:#4095b5'>IV. <a href=\"#dict\"><span style='color:#4095b5'>Explore the data dictionary.</span></a></span></li>\n",
    "    <li><span style='color:#4095b5'>V. <a href=\"#clean\"><span style='color:#4095b5'>Clean the data.</span></a></span></li>\n",
    "    <li><span style='color:#4095b5'>VI. <a href=\"#plot\"><span style='color:#4095b5'>Plot some of the data.</span></a></span></li>\n",
    "</ul>\n",
    "\n",
    "## <span style='color:#3b748a'>External data required</span>\n",
    "<ul>\n",
    "    <li><span style='color:#4095b5'><a href=\"../data/atl/trips_201807.csv\"><span style='color:#4095b5'>../data/atl/trips_201807.csv</span></a> (available in GitHub)</span></li>\n",
    "</ul>\n",
    "\n",
    "## <span style='color:#3b748a'>Links</span>\n",
    "<ul>\n",
    "    <li><a href=\"http://relaybikeshare.com/system-data/\"><span style='color:#4095b5'>Atlanta Relay data</span></a></li>\n",
    "</ul>"
   ]
  },
  {
   "cell_type": "code",
   "execution_count": 63,
   "metadata": {},
   "outputs": [],
   "source": [
    "# Let's get the administrative stuff done first\n",
    "# import all the libraries and set up the plotting\n",
    "\n",
    "import pandas as pd\n",
    "import numpy as np\n",
    "from datetime import datetime,timedelta\n",
    "from geopy.distance import vincenty\n",
    "\n",
    "import matplotlib.pyplot as plt\n",
    "import seaborn as sns\n",
    "%matplotlib inline\n",
    "\n",
    "# GnBu_d\n",
    "colors = ['#37535e', '#3b748a', '#4095b5', '#52aec9', '#72bfc4', '#93d0bf']"
   ]
  },
  {
   "cell_type": "markdown",
   "metadata": {},
   "source": [
    "<hr>\n",
    "<a name=\"checking\"> </a>\n",
    "## <span style='color:#3b748a'>I. Data checking functions</span>"
   ]
  },
  {
   "cell_type": "code",
   "execution_count": 64,
   "metadata": {},
   "outputs": [],
   "source": [
    "# Check which non-numeric columns are missing values and what the possible values are for each object column\n",
    "\n",
    "def check_cols(df):\n",
    "    cols = df.select_dtypes([np.object]).columns\n",
    "    for col in cols:\n",
    "        print(\"{} is {} and values are {}.\".format(col,df[col].dtype,df[col].unique()))\n",
    "        n_nan = df[col].isnull().sum()\n",
    "        if n_nan > 0:\n",
    "            print(\"{} has {} NaNs\".format(col,n_nan))\n",
    "            \n",
    "    cols = df.select_dtypes([np.int64,np.float64,np.uint64]).columns\n",
    "    for col in cols:\n",
    "        print(\"{} is {} and values are {} to {}.\".format(col,df[col].dtype,df[col].min(),df[col].max()))\n",
    "        n_nan = df[col].isnull().sum()\n",
    "        if n_nan > 0:\n",
    "            print(\"{} has {} NaNs\".format(col,n_nan))\n",
    "    return"
   ]
  },
  {
   "cell_type": "code",
   "execution_count": 65,
   "metadata": {},
   "outputs": [],
   "source": [
    "# Check which numeric columns are missing values\n",
    "\n",
    "def check_data(df):\n",
    "    s = df.shape\n",
    "\n",
    "    # Check for null values\n",
    "    null_data = df.isnull().sum()\n",
    "    null_data_count = sum(null_data)\n",
    "    print(\"Rows: {}\\t Cols: {}\\t NaNs: {}\".format(s[0],s[1],null_data_count))\n",
    "    if  null_data_count > 0:\n",
    "        print(\"Columns with NaN: {}\".format(list(null_data[null_data > 0].index)))\n",
    "\n",
    "    return"
   ]
  },
  {
   "cell_type": "markdown",
   "metadata": {},
   "source": [
    "<hr>\n",
    "<a name=\"cleaning\"></a>\n",
    "## <span style='color:#3b748a'> II. Data cleaning functions</span>\n",
    "\n",
    "<span style='color:#4095b5'>These functions clean the trip data.</span>"
   ]
  },
  {
   "cell_type": "markdown",
   "metadata": {},
   "source": [
    "### <span style='color:#4095b5'>Drop most of the columns.</span>\n",
    "<span style='color:#52aec9'>As I understand the data more and want to do more modeling, I may choose to drop fewer columns. Many of these are not used yet by Relay.</span>"
   ]
  },
  {
   "cell_type": "code",
   "execution_count": 66,
   "metadata": {},
   "outputs": [],
   "source": [
    "def drop_columns(df):\n",
    "    cols_drop = ['User ID', 'Route ID', 'Payment Plan', 'Bike ID', 'Member Type', 'Start Area',\n",
    "                 'End Area', 'Ride cost', 'Fees', 'Bonuses', 'Total cost','Multiple Rental',\n",
    "                 'Trip Type','Rental Access Path','Bike Region ID','Start Special Area',\n",
    "                 'End Special Area']\n",
    "\n",
    "    # Can't drop a column that isn't there\n",
    "    cols_drop = list(set(df.columns) & set(cols_drop))\n",
    "    df.drop(cols_drop, axis=1, inplace=True)\n",
    "\n",
    "    return df"
   ]
  },
  {
   "cell_type": "markdown",
   "metadata": {},
   "source": [
    "### <span style='color:#4095b5'>Drop rows with nulls.</span>\n",
    "<span style='color:#52aec9'>Don't have any to drop right now. Replace NaN is Hubs with 'NONE'.</span>"
   ]
  },
  {
   "cell_type": "code",
   "execution_count": 67,
   "metadata": {},
   "outputs": [],
   "source": [
    "def drop_nans(df):\n",
    "    df['Start Hub'] = df['Start Hub'].fillna('NONE')\n",
    "    df['End Hub'] = df['End Hub'].fillna('NONE')\n",
    "\n",
    "    return df"
   ]
  },
  {
   "cell_type": "markdown",
   "metadata": {},
   "source": [
    "### <span style='color:#4095b5'>Use appropriate datatypes.</span>\n",
    "<span style='color:#52aec9'>For example, fix Date/Time objects and cast Latitude and Longitude to floats.</span>"
   ]
  },
  {
   "cell_type": "code",
   "execution_count": 68,
   "metadata": {},
   "outputs": [],
   "source": [
    "def clean_datatypes(df):\n",
    "    df['Start Latitude'] = df['Start Latitude'].astype(float)\n",
    "    df['Start Longitude'] = df['Start Longitude'].astype(float)\n",
    "    df['End Latitude'] = df['End Latitude'].astype(float)\n",
    "    df['End Longitude'] = df['End Longitude'].astype(float)\n",
    "\n",
    "    # Turn times in datetime\n",
    "    df['Start Time'] = pd.to_datetime(df['Start Date'] + ' ' + df['Start Time'])\n",
    "    df['End Time'] = pd.to_datetime(df['End Date'] + ' ' + df['End Time'])\n",
    "\n",
    "    # Turn dates in datetime\n",
    "    df['Start Date'] = pd.to_datetime(df['Start Date'])\n",
    "    df['End Date'] = pd.to_datetime(df['End Date'])\n",
    "\n",
    "    # Fix the durations\n",
    "    df['Duration'] = pd.to_timedelta(df['Duration'])\n",
    "    \n",
    "    return df"
   ]
  },
  {
   "cell_type": "markdown",
   "metadata": {},
   "source": [
    "### <span style='color:#4095b5'>Drop trivial trips.</span>\n",
    "<span style='color:#52aec9'>Trivial trips are of short length or the trip time is less than 3 mins. Further exploration might be needed.</span>"
   ]
  },
  {
   "cell_type": "code",
   "execution_count": 69,
   "metadata": {},
   "outputs": [],
   "source": [
    "def drop_trivial_trips_distance(df):\n",
    "    df = df[df[\"Distance [Miles]\"] > 0.02].copy()\n",
    "    return df"
   ]
  },
  {
   "cell_type": "code",
   "execution_count": 70,
   "metadata": {},
   "outputs": [],
   "source": [
    "def drop_trivial_trips_duration(df):\n",
    "    df = df[df[\"Duration\"] >= pd.to_timedelta('00:03:00')].copy()\n",
    "    return df"
   ]
  },
  {
   "cell_type": "code",
   "execution_count": 71,
   "metadata": {},
   "outputs": [],
   "source": [
    "def drop_trivial_trips(df):\n",
    "    df = drop_trivial_trips_distance(df)\n",
    "    df = drop_trivial_trips_duration(df)\n",
    "    return df"
   ]
  },
  {
   "cell_type": "markdown",
   "metadata": {},
   "source": [
    "### <span style='color:#4095b5'>Drop outliers.</span>\n",
    "<ul>\n",
    "    <li><span style='color:#52aec9'>Some of the ATL bikes are reported to be in Athens or in NYC.</span></li> \n",
    "    <li><span style='color:#52aec9'>One ATL bike was out for 36 days; 174 trips were for longer than 24 hours.</span></li> \n",
    "    <li><span style='color:#52aec9'>One ATL bike went 3913.01 miles.</span></li> \n",
    "</ul>"
   ]
  },
  {
   "cell_type": "code",
   "execution_count": 72,
   "metadata": {},
   "outputs": [],
   "source": [
    "def drop_outliers_latlon(df):\n",
    "    df = df[df[\"Start Latitude\"] < 33.9].copy()\n",
    "    df = df[df[\"End Latitude\"] < 33.9].copy()\n",
    "    df = df[df[\"Start Latitude\"] > 33.5].copy()\n",
    "    df = df[df[\"End Latitude\"] > 33.5].copy()\n",
    "\n",
    "    df = df[df[\"Start Longitude\"] < -83.0].copy()\n",
    "    df = df[df[\"End Longitude\"] < -83.0].copy()\n",
    "\n",
    "    return df"
   ]
  },
  {
   "cell_type": "code",
   "execution_count": 73,
   "metadata": {},
   "outputs": [],
   "source": [
    "def drop_outliers_duration(df):\n",
    "    df = df[df[\"Duration\"] <= pd.to_timedelta('24:00:00')].copy()\n",
    "    return df"
   ]
  },
  {
   "cell_type": "code",
   "execution_count": 74,
   "metadata": {},
   "outputs": [],
   "source": [
    "def drop_outliers_distance(df):\n",
    "    df = df[df[\"Distance [Miles]\"] < 100.0].copy()\n",
    "    return df"
   ]
  },
  {
   "cell_type": "code",
   "execution_count": 75,
   "metadata": {},
   "outputs": [],
   "source": [
    "def drop_outliers(df):\n",
    "    df = drop_outliers_latlon(df)\n",
    "    df = drop_outliers_duration(df)\n",
    "    df = drop_outliers_distance(df)\n",
    "\n",
    "    return df"
   ]
  },
  {
   "cell_type": "markdown",
   "metadata": {},
   "source": [
    "### <span style='color:#4095b5'>Pull all of the cleaning together.</span>"
   ]
  },
  {
   "cell_type": "code",
   "execution_count": 76,
   "metadata": {},
   "outputs": [],
   "source": [
    "def clean_df(df, df_hubs=None):\n",
    "    df = drop_columns(df)\n",
    "    df = drop_nans(df)\n",
    "    df = clean_datatypes(df)\n",
    "    df = drop_trivial_trips(df)\n",
    "    df = drop_outliers(df)\n",
    "    return df"
   ]
  },
  {
   "cell_type": "markdown",
   "metadata": {},
   "source": [
    "<hr>\n",
    "<a name=\"data\"></a>\n",
    "## <span style=\"color:#37535e\">III. Obtain the data.</span>\n",
    " \n",
    "<span style='color:#3b748a'>Each row (observation) data describes each bike ride on which a Relay bike is taken. Each trip includes a starting place and time, a ending place and time, as well as distance, user, and bike information. We have 11 months worh of data to use for Atlanta.</span>\n",
    "\n",
    "* <span style='color:#3b748a'><a href=\"http://relaybikeshare.com/system-data/\">Relay (Atlanta) Data</a></span>"
   ]
  },
  {
   "cell_type": "code",
   "execution_count": 77,
   "metadata": {},
   "outputs": [
    {
     "data": {
      "text/plain": [
       "(10986, 30)"
      ]
     },
     "execution_count": 77,
     "metadata": {},
     "output_type": "execute_result"
    }
   ],
   "source": [
    "df = pd.read_csv(\"../data/atl/trips_201807.csv\")\n",
    "df.shape"
   ]
  },
  {
   "cell_type": "code",
   "execution_count": 78,
   "metadata": {},
   "outputs": [
    {
     "data": {
      "text/plain": [
       "Index(['User ID', 'Route ID', 'Bike Region ID', 'Payment Plan', 'Start Hub',\n",
       "       'Start Area', 'Start Special Area', 'Start Latitude', 'Start Longitude',\n",
       "       'Start Date', 'Start Time', 'End Hub', 'End Area', 'End Special Area',\n",
       "       'End Latitude', 'End Longitude', 'End Date', 'End Time', 'Member Type',\n",
       "       'Trip Type', 'Bike ID', 'Bike Name', 'Distance [Miles]', 'Duration',\n",
       "       'Rental Access Path', 'Multiple Rental', 'Ride cost', 'Fees', 'Bonuses',\n",
       "       'Total cost'],\n",
       "      dtype='object')"
      ]
     },
     "execution_count": 78,
     "metadata": {},
     "output_type": "execute_result"
    }
   ],
   "source": [
    "df.columns"
   ]
  },
  {
   "cell_type": "markdown",
   "metadata": {},
   "source": [
    "<hr>\n",
    "<a name=\"dict\"></a>\n",
    "## <span style=\"color:#37535e\">IV. Explore the data dictionary for July 2018 in Atlanta</span>\n",
    "<span style='color:#3b748a'>Each row describes a \"trip\" on a bicycle.\n",
    "<ul>\n",
    "    <li><span style='color:#4095b5'><b>User ID:</b> A six digit integer ID, unique per user.</span></li>\n",
    "    <li><span style='color:#4095b5'><b>Route ID:</b> A seven digit integer ID, uniqque for each \"trip\".</span></li>\n",
    "    <li><span style='color:#4095b5'><b>Bike Region ID:</b> All NaNs; not useful.</span></li>\n",
    "    <li><span style='color:#4095b5'><b>Payment Plan:</b> String describing payemnt plan; includes corporate plans, monthly subscriptions, studentd subscriptions, etc.</span></li>\n",
    "    <li><span style='color:#3b748a'><b>Start Hub:</b> String describing starting hubs/virtual hubs.</span></li>\n",
    "    <li><span style='color:#4095b5'><b>Start Area:</b> String, either NaN or \"Relay System\".</span></li>\n",
    "    <li><span style='color:#4095b5'><b>Start Special Area:</b> All NaNs; not useful.</span></li>\n",
    "    <li><span style='color:#3b748a'><b>Start Latitude:</b> String with latitude of starting point.</span></li>\n",
    "    <li><span style='color:#3b748a'><b>Start Longitude:</b> String with longitude of starting point.</span></li>\n",
    "    <li><span style='color:#3b748a'><b>Start Date</b> Date that the trip starts (string).</span></li>\n",
    "    <li><span style='color:#3b748a'><b>Start Time</b> Time that the trip starts (string).</span></li>\n",
    "    <li><span style='color:#3b748a'><b>End Hub</b> String describing ending hubs/virtual hubs.</span></li>\n",
    "    <li><span style='color:#4095b5'><b>End Area</b> String, either NaN or \"Relay System\".</span></li>\n",
    "    <li><span style='color:#4095b5'><b>End Special Area</b> All NaNs; not useful.</span></li>\n",
    "    <li><span style='color:#3b748a'><b>End Latitude</b> String with latitude of ending point.</span></li>\n",
    "    <li><span style='color:#3b748a'><b>End Longitude</b> String with longitude of ending point.</span></li>\n",
    "    <li><span style='color:#3b748a'><b>End Date:</b> Date that the trip ends.</span></li>\n",
    "    <li><span style='color:#3b748a'><b>End Time:</b> Time that the trip ends.</span></li>\n",
    "    <li><span style='color:#4095b5'><b>Member Type:</b> \"User\" or \"Admin\".</span></li>\n",
    "    <li><span style='color:#4095b5'><b>Trip Type:</b> 'commute', 'recreation', etc.</span></li>\n",
    "    <li><span style='color:#3b748a'><b>Bike ID:</b> 5-digit integer ID</span></li>\n",
    "    <li><span style='color:#4095b5'><b>Bike Name:</b> String with 4 digit # and maybe an asterisk.</span></li>\n",
    "    <li><span style='color:#3b748a'><b>Distance (Miles):</b> Floating point describing distance.</span></li>\n",
    "    <li><span style='color:#3b748a'><b>Duration:</b> Time that the trip lasts (string).</span></li>\n",
    "    <li><span style='color:#4095b5'><b>Rental Access Path:</b> String describing how user rented bike (web, mobile, keypad).</span></li>\n",
    "    <li><span style='color:#4095b5'><b>Multiple Rental:</b> Boolean True/False. Not sure.</span></li>\n",
    "    <li><span style='color:#4095b5'><b>Ride cost:</b> All are 0.0; not useful.</span></li>\n",
    "    <li><span style='color:#4095b5'><b>Fees:</b> All are 0.0; not useful.</span></li>\n",
    "    <li><span style='color:#4095b5'><b>Bonuses:</b> All are 0.0; not useful.</span></li>\n",
    "    <li><span style='color:#4095b5'><b>Total cost:</b> All are 0.0; not useful.</span></li>\n",
    "</ul>"
   ]
  },
  {
   "cell_type": "markdown",
   "metadata": {},
   "source": [
    "<hr>\n",
    "<a name=\"clean\"></a>\n",
    "## <span style='color:#3b748a'>V. Clean the data for July 2018 in Atlanta</span>\n",
    "<ul>\n",
    "    <li><span style='color:#4095b5'>For now, drop most of the columns.</span></li>\n",
    "    <li><span style='color:#4095b5'>Drop the trivial trips.</span></li>\n",
    "    <li><span style='color:#4095b5'>Drop the outliers.</span></li>\n",
    "    <li><span style='color:#4095b5'>Use appropriate coumn types.</span></li>\n",
    "</ul>"
   ]
  },
  {
   "cell_type": "code",
   "execution_count": 79,
   "metadata": {},
   "outputs": [
    {
     "name": "stdout",
     "output_type": "stream",
     "text": [
      "Rows: 10384\t Cols: 13\t NaNs: 0\n"
     ]
    },
    {
     "data": {
      "text/plain": [
       "Index(['Start Hub', 'Start Latitude', 'Start Longitude', 'Start Date',\n",
       "       'Start Time', 'End Hub', 'End Latitude', 'End Longitude', 'End Date',\n",
       "       'End Time', 'Bike Name', 'Distance [Miles]', 'Duration'],\n",
       "      dtype='object')"
      ]
     },
     "execution_count": 79,
     "metadata": {},
     "output_type": "execute_result"
    }
   ],
   "source": [
    "df = clean_df(df)\n",
    "check_data(df)\n",
    "df.columns"
   ]
  },
  {
   "cell_type": "markdown",
   "metadata": {},
   "source": [
    "<hr>\n",
    "<a name=\"plot\"></a>\n",
    "## <span style='color:#3b748a'>VI. Plot some of the data for July 2018 in Atlanta.</span>\n",
    "<ul>\n",
    "    <li> <span style='color:#4095b5'>Number of times a bike leaves each station.</span> </li>\n",
    "    <li> <span style='color:#4095b5'>Number of times a bike arrives at each station.</span> </li>\n",
    "</ul>   "
   ]
  },
  {
   "cell_type": "code",
   "execution_count": 80,
   "metadata": {},
   "outputs": [
    {
     "data": {
      "image/png": "[encoded data removed]",
      "text/plain": [
       "<Figure size 1296x720 with 1 Axes>"
      ]
     },
     "metadata": {},
     "output_type": "display_data"
    }
   ],
   "source": [
    "# Plot start stations\n",
    "df_temp = pd.DataFrame(df.groupby(['Start Hub']).size(), columns=['count'])\n",
    "df_temp = df_temp[df_temp['count'] > 75].copy()\n",
    "df_temp.sort_values('count', inplace=True)\n",
    "\n",
    "fig, ax = plt.subplots(figsize=(18, 10))\n",
    "sns.barplot(x=df_temp['count'], y=df_temp.index, ax=ax);\n",
    "ax.set_xlabel(\"Number of trips\")\n",
    "ax.set_title(\"Number of trips from each hub in July 2018\");"
   ]
  },
  {
   "cell_type": "code",
   "execution_count": 81,
   "metadata": {},
   "outputs": [
    {
     "data": {
      "image/png": "[encoded data removed]",
      "text/plain": [
       "<Figure size 1296x720 with 1 Axes>"
      ]
     },
     "metadata": {},
     "output_type": "display_data"
    }
   ],
   "source": [
    "# Plot end stations\n",
    "df_temp = pd.DataFrame(df.groupby(['End Hub']).size(), columns=['count'])\n",
    "df_temp = df_temp[df_temp['count'] > 75].copy()\n",
    "df_temp.sort_values('count', inplace=True)\n",
    "\n",
    "fig, ax = plt.subplots(figsize=(18, 10))\n",
    "sns.barplot(x=df_temp['count'], y=df_temp.index, ax=ax);\n",
    "ax.set_xlabel(\"Number of trips\")\n",
    "ax.set_title(\"Number of trips to each hub in July 2018\");"
   ]
  },
  {
   "cell_type": "code",
   "execution_count": 82,
   "metadata": {},
   "outputs": [
    {
     "data": {
      "text/html": [
       "<div>\n",
       "<style scoped>\n",
       "    .dataframe tbody tr th:only-of-type {\n",
       "        vertical-align: middle;\n",
       "    }\n",
       "\n",
       "    .dataframe tbody tr th {\n",
       "        vertical-align: top;\n",
       "    }\n",
       "\n",
       "    .dataframe thead th {\n",
       "        text-align: right;\n",
       "    }\n",
       "</style>\n",
       "<table border=\"1\" class=\"dataframe\">\n",
       "  <thead>\n",
       "    <tr style=\"text-align: right;\">\n",
       "      <th></th>\n",
       "      <th>Start Latitude</th>\n",
       "      <th>Start Longitude</th>\n",
       "      <th>End Latitude</th>\n",
       "      <th>End Longitude</th>\n",
       "      <th>Distance [Miles]</th>\n",
       "      <th>Duration</th>\n",
       "    </tr>\n",
       "  </thead>\n",
       "  <tbody>\n",
       "    <tr>\n",
       "      <th>count</th>\n",
       "      <td>10384.000000</td>\n",
       "      <td>10384.000000</td>\n",
       "      <td>10384.000000</td>\n",
       "      <td>10384.000000</td>\n",
       "      <td>10384.000000</td>\n",
       "      <td>10384</td>\n",
       "    </tr>\n",
       "    <tr>\n",
       "      <th>mean</th>\n",
       "      <td>33.770910</td>\n",
       "      <td>-84.375084</td>\n",
       "      <td>33.771078</td>\n",
       "      <td>-84.374571</td>\n",
       "      <td>2.330791</td>\n",
       "      <td>0 days 00:36:22.533994</td>\n",
       "    </tr>\n",
       "    <tr>\n",
       "      <th>std</th>\n",
       "      <td>0.014681</td>\n",
       "      <td>0.015504</td>\n",
       "      <td>0.014661</td>\n",
       "      <td>0.015533</td>\n",
       "      <td>2.068197</td>\n",
       "      <td>0 days 00:47:57.271945</td>\n",
       "    </tr>\n",
       "    <tr>\n",
       "      <th>min</th>\n",
       "      <td>33.719245</td>\n",
       "      <td>-84.442350</td>\n",
       "      <td>33.719135</td>\n",
       "      <td>-84.436015</td>\n",
       "      <td>0.030000</td>\n",
       "      <td>0 days 00:03:00</td>\n",
       "    </tr>\n",
       "    <tr>\n",
       "      <th>25%</th>\n",
       "      <td>33.759505</td>\n",
       "      <td>-84.385714</td>\n",
       "      <td>33.759887</td>\n",
       "      <td>-84.384312</td>\n",
       "      <td>1.030000</td>\n",
       "      <td>0 days 00:12:17</td>\n",
       "    </tr>\n",
       "    <tr>\n",
       "      <th>50%</th>\n",
       "      <td>33.772382</td>\n",
       "      <td>-84.369860</td>\n",
       "      <td>33.772437</td>\n",
       "      <td>-84.369847</td>\n",
       "      <td>1.830000</td>\n",
       "      <td>0 days 00:26:03.500000</td>\n",
       "    </tr>\n",
       "    <tr>\n",
       "      <th>75%</th>\n",
       "      <td>33.782208</td>\n",
       "      <td>-84.364760</td>\n",
       "      <td>33.782050</td>\n",
       "      <td>-84.364688</td>\n",
       "      <td>3.080000</td>\n",
       "      <td>0 days 00:47:51</td>\n",
       "    </tr>\n",
       "    <tr>\n",
       "      <th>max</th>\n",
       "      <td>33.876493</td>\n",
       "      <td>-84.266263</td>\n",
       "      <td>33.876453</td>\n",
       "      <td>-84.266423</td>\n",
       "      <td>93.230000</td>\n",
       "      <td>0 days 22:27:07</td>\n",
       "    </tr>\n",
       "  </tbody>\n",
       "</table>\n",
       "</div>"
      ],
      "text/plain": [
       "       Start Latitude  Start Longitude  End Latitude  End Longitude  \\\n",
       "count    10384.000000     10384.000000  10384.000000   10384.000000   \n",
       "mean        33.770910       -84.375084     33.771078     -84.374571   \n",
       "std          0.014681         0.015504      0.014661       0.015533   \n",
       "min         33.719245       -84.442350     33.719135     -84.436015   \n",
       "25%         33.759505       -84.385714     33.759887     -84.384312   \n",
       "50%         33.772382       -84.369860     33.772437     -84.369847   \n",
       "75%         33.782208       -84.364760     33.782050     -84.364688   \n",
       "max         33.876493       -84.266263     33.876453     -84.266423   \n",
       "\n",
       "       Distance [Miles]                Duration  \n",
       "count      10384.000000                   10384  \n",
       "mean           2.330791  0 days 00:36:22.533994  \n",
       "std            2.068197  0 days 00:47:57.271945  \n",
       "min            0.030000         0 days 00:03:00  \n",
       "25%            1.030000         0 days 00:12:17  \n",
       "50%            1.830000  0 days 00:26:03.500000  \n",
       "75%            3.080000         0 days 00:47:51  \n",
       "max           93.230000         0 days 22:27:07  "
      ]
     },
     "execution_count": 82,
     "metadata": {},
     "output_type": "execute_result"
    }
   ],
   "source": [
    "df.describe()"
   ]
  },
  {
   "cell_type": "code",
   "execution_count": 83,
   "metadata": {},
   "outputs": [
    {
     "data": {
      "text/html": [
       "<div>\n",
       "<style scoped>\n",
       "    .dataframe tbody tr th:only-of-type {\n",
       "        vertical-align: middle;\n",
       "    }\n",
       "\n",
       "    .dataframe tbody tr th {\n",
       "        vertical-align: top;\n",
       "    }\n",
       "\n",
       "    .dataframe thead th {\n",
       "        text-align: right;\n",
       "    }\n",
       "</style>\n",
       "<table border=\"1\" class=\"dataframe\">\n",
       "  <thead>\n",
       "    <tr style=\"text-align: right;\">\n",
       "      <th></th>\n",
       "      <th>Start Hub</th>\n",
       "      <th>Start Latitude</th>\n",
       "      <th>Start Longitude</th>\n",
       "      <th>Start Date</th>\n",
       "      <th>Start Time</th>\n",
       "      <th>End Hub</th>\n",
       "      <th>End Latitude</th>\n",
       "      <th>End Longitude</th>\n",
       "      <th>End Date</th>\n",
       "      <th>End Time</th>\n",
       "      <th>Bike Name</th>\n",
       "      <th>Distance [Miles]</th>\n",
       "      <th>Duration</th>\n",
       "    </tr>\n",
       "  </thead>\n",
       "  <tbody>\n",
       "    <tr>\n",
       "      <th>1</th>\n",
       "      <td>VIRTUAL HUB - CARVER MARKET</td>\n",
       "      <td>33.719245</td>\n",
       "      <td>-84.385253</td>\n",
       "      <td>2018-07-17</td>\n",
       "      <td>2018-07-17 08:47:00</td>\n",
       "      <td>VIRTUAL HUB - CARVER MARKET</td>\n",
       "      <td>33.719135</td>\n",
       "      <td>-84.385170</td>\n",
       "      <td>2018-07-17</td>\n",
       "      <td>2018-07-17 09:51:00</td>\n",
       "      <td>2900</td>\n",
       "      <td>4.94</td>\n",
       "      <td>01:04:50</td>\n",
       "    </tr>\n",
       "    <tr>\n",
       "      <th>2</th>\n",
       "      <td>VIRTUAL HUB - CARVER MARKET</td>\n",
       "      <td>33.719412</td>\n",
       "      <td>-84.385407</td>\n",
       "      <td>2018-07-19</td>\n",
       "      <td>2018-07-19 08:49:00</td>\n",
       "      <td>VIRTUAL HUB - CARVER MARKET</td>\n",
       "      <td>33.719148</td>\n",
       "      <td>-84.385170</td>\n",
       "      <td>2018-07-19</td>\n",
       "      <td>2018-07-19 10:00:00</td>\n",
       "      <td>2900</td>\n",
       "      <td>6.42</td>\n",
       "      <td>01:11:20</td>\n",
       "    </tr>\n",
       "    <tr>\n",
       "      <th>3</th>\n",
       "      <td>NONE</td>\n",
       "      <td>33.721688</td>\n",
       "      <td>-84.381058</td>\n",
       "      <td>2018-07-16</td>\n",
       "      <td>2018-07-16 10:23:00</td>\n",
       "      <td>VIRTUAL HUB - CARVER MARKET</td>\n",
       "      <td>33.719140</td>\n",
       "      <td>-84.385168</td>\n",
       "      <td>2018-07-16</td>\n",
       "      <td>2018-07-16 10:29:00</td>\n",
       "      <td>2900</td>\n",
       "      <td>0.62</td>\n",
       "      <td>00:06:23</td>\n",
       "    </tr>\n",
       "    <tr>\n",
       "      <th>4</th>\n",
       "      <td>NONE</td>\n",
       "      <td>33.725755</td>\n",
       "      <td>-84.412540</td>\n",
       "      <td>2018-07-04</td>\n",
       "      <td>2018-07-04 09:55:00</td>\n",
       "      <td>MARTA - WEST END</td>\n",
       "      <td>33.736975</td>\n",
       "      <td>-84.413768</td>\n",
       "      <td>2018-07-04</td>\n",
       "      <td>2018-07-04 10:10:00</td>\n",
       "      <td>2838</td>\n",
       "      <td>1.35</td>\n",
       "      <td>00:14:38</td>\n",
       "    </tr>\n",
       "    <tr>\n",
       "      <th>5</th>\n",
       "      <td>NONE</td>\n",
       "      <td>33.725878</td>\n",
       "      <td>-84.412657</td>\n",
       "      <td>2018-07-04</td>\n",
       "      <td>2018-07-04 09:55:00</td>\n",
       "      <td>MARTA - WEST END</td>\n",
       "      <td>33.736967</td>\n",
       "      <td>-84.413752</td>\n",
       "      <td>2018-07-04</td>\n",
       "      <td>2018-07-04 10:09:00</td>\n",
       "      <td>2809</td>\n",
       "      <td>1.37</td>\n",
       "      <td>00:13:45</td>\n",
       "    </tr>\n",
       "  </tbody>\n",
       "</table>\n",
       "</div>"
      ],
      "text/plain": [
       "                     Start Hub  Start Latitude  Start Longitude Start Date  \\\n",
       "1  VIRTUAL HUB - CARVER MARKET       33.719245       -84.385253 2018-07-17   \n",
       "2  VIRTUAL HUB - CARVER MARKET       33.719412       -84.385407 2018-07-19   \n",
       "3                         NONE       33.721688       -84.381058 2018-07-16   \n",
       "4                         NONE       33.725755       -84.412540 2018-07-04   \n",
       "5                         NONE       33.725878       -84.412657 2018-07-04   \n",
       "\n",
       "           Start Time                      End Hub  End Latitude  \\\n",
       "1 2018-07-17 08:47:00  VIRTUAL HUB - CARVER MARKET     33.719135   \n",
       "2 2018-07-19 08:49:00  VIRTUAL HUB - CARVER MARKET     33.719148   \n",
       "3 2018-07-16 10:23:00  VIRTUAL HUB - CARVER MARKET     33.719140   \n",
       "4 2018-07-04 09:55:00            MARTA - WEST END      33.736975   \n",
       "5 2018-07-04 09:55:00            MARTA - WEST END      33.736967   \n",
       "\n",
       "   End Longitude   End Date            End Time Bike Name  Distance [Miles]  \\\n",
       "1     -84.385170 2018-07-17 2018-07-17 09:51:00      2900              4.94   \n",
       "2     -84.385170 2018-07-19 2018-07-19 10:00:00      2900              6.42   \n",
       "3     -84.385168 2018-07-16 2018-07-16 10:29:00      2900              0.62   \n",
       "4     -84.413768 2018-07-04 2018-07-04 10:10:00      2838              1.35   \n",
       "5     -84.413752 2018-07-04 2018-07-04 10:09:00      2809              1.37   \n",
       "\n",
       "  Duration  \n",
       "1 01:04:50  \n",
       "2 01:11:20  \n",
       "3 00:06:23  \n",
       "4 00:14:38  \n",
       "5 00:13:45  "
      ]
     },
     "execution_count": 83,
     "metadata": {},
     "output_type": "execute_result"
    }
   ],
   "source": [
    "df.head()"
   ]
  },
  {
   "cell_type": "code",
   "execution_count": null,
   "metadata": {},
   "outputs": [],
   "source": []
  }
 ],
 "metadata": {
  "kernelspec": {
   "display_name": "Python 3",
   "language": "python",
   "name": "python3"
  },
  "language_info": {
   "codemirror_mode": {
    "name": "ipython",
    "version": 3
   },
   "file_extension": ".py",
   "mimetype": "text/x-python",
   "name": "python",
   "nbconvert_exporter": "python",
   "pygments_lexer": "ipython3",
   "version": "3.6.5"
  }
 },
 "nbformat": 4,
 "nbformat_minor": 2
}
