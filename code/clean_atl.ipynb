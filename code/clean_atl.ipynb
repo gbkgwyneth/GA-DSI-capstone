{
 "cells": [
  {
   "cell_type": "markdown",
   "metadata": {},
   "source": [
    "<img src=\"../images/bikes_banner.jpg\" width=\"1000\" />"
   ]
  },
  {
   "cell_type": "markdown",
   "metadata": {},
   "source": [
    "# <span style=\"color:#37535e\">Bicycle Share Usage</span>\n",
    "\n",
    "##  <span style='color:#3b748a'>Cleaning Relay Atlanta data</span>\n",
    "\n",
    "<span style='color:#4095b5'>This notebook loads and clean 12 months (Sep 2017 - August 2018) of data from the Atlanta Relay bicycle share. The data from Sept 2017 is provided in a different format than the other 11 months and required additional data cleaning. The data for Aug 2018 was sent to me directly from someone at Relay.</span>\n",
    "\n",
    "<span style='color:#4095b5'>Each row (observation) of data describes one bike ride on which a bike is taken. Each rental includes a starting place and time, an ending place and time, as well as distance, duration, user, and bike information. </span>"
   ]
  },
  {
   "cell_type": "markdown",
   "metadata": {},
   "source": [
    "\n",
    "## <span style='color:#3b748a'>Table of contents</span>\n",
    "<ul>\n",
    "    <li><span style='color:#4095b5'>I.  <a href=\"#checking\"><span style='color:#4095b5'>Data checking functions.</span></a></span></li>\n",
    "    <li><span style='color:#4095b5'>II. <a href=\"#cleaning\"><span style='color:#4095b5'>Data cleaning functions.</span></a></span></li>\n",
    "    <li><span style='color:#4095b5'>III. <a href=\"#convert\"><span style='color:#4095b5'>Convert from HTML table to CSV for Sept 2017.</span></a></span></li>\n",
    "    <li><span style='color:#4095b5'>IV. <a href=\"#import\"><span style='color:#4095b5'>Import all data.</span></a></span></li>\n",
    "    <li><span style='color:#4095b5'>V. <a href=\"#clean\"><span style='color:#4095b5'>Clean all data.</span></a></span></li>\n",
    "    <li><span style='color:#4095b5'>VI. <a href=\"#merge\"><span style='color:#4095b5'>Merge the dataframes into 1 big one.</span></a></span></li>\n",
    "    <li><span style='color:#4095b5'>VII. <a href=\"#explore\"><span style='color:#4095b5'>Explore the data.</span></a></span></li>\n",
    "    <li><span style='color:#4095b5'>VIII. <a href=\"#write\"><span style='color:#4095b5'>Write the full dataframe to a csv file.</span></a></span></li>\n",
    "    <li><span style='color:#4095b5'>IX. <a href=\"#store\"><span style='color:#4095b5'>For future reference.</span></a></span></li>\n",
    "        </ul>\n",
    "\n",
    "## <span style='color:#3b748a'>External data required</span>\n",
    "<ul>\n",
    "    <li><span style='color:#4095b5'>../data/atl/trips_&lt;month&gt;.csv for each month in (201709 to 201808); available in GitHub</span></li>\n",
    "</ul>\n",
    "\n",
    "\n",
    "## <span style='color:#3b748a'>Links</span>\n",
    "<ul>\n",
    "    <li><a href=\"http://relaybikeshare.com/system-data/\"><span style='color:#4095b5'>Atlanta Relay data</span></a></li>\n",
    "    <li><a href=\"EDA_ATL.ipynb\"><span style='color:#4095b5'>Initial EDA of Atlanta data</span></a> <span style='color:#4095b5'>to understand the data and some potential issues.</span></li>\n",
    "    <li><a href=\"plot_atl.ipynb\"><span style='color:#4095b5'>Plotting Atlanta data</span></a></li>\n",
    "</ul>\n",
    "\n",
    "<hr>"
   ]
  },
  {
   "cell_type": "code",
   "execution_count": 1,
   "metadata": {},
   "outputs": [],
   "source": [
    "# Let's get the administrative stuff done first\n",
    "# import all the libraries and set up the plotting\n",
    "\n",
    "import pandas as pd\n",
    "import numpy as np\n",
    "from datetime import datetime,timedelta\n",
    "from geopy.distance import vincenty\n",
    "\n",
    "# Gloabal variables to track \n",
    "trivial_duration = 0\n",
    "trivial_distance = 0\n",
    "outliers_latlon = 0\n",
    "outliers_duration = 0\n",
    "outliers_distance = 0\n",
    "\n",
    "# GnBu_d\n",
    "colors = ['#37535e', '#3b748a', '#4095b5', '#52aec9', '#72bfc4', '#93d0bf']"
   ]
  },
  {
   "cell_type": "markdown",
   "metadata": {},
   "source": [
    "<hr>\n",
    "<a name=\"checking\"> </a>\n",
    "## <span style='color:#3b748a'>I. Data checking functions</span>"
   ]
  },
  {
   "cell_type": "code",
   "execution_count": 2,
   "metadata": {},
   "outputs": [],
   "source": [
    "# Check which non-numeric columns are missing values \n",
    "# and what the possible values are for each object column\n",
    "\n",
    "def check_cols(df):\n",
    "    cols = df.select_dtypes([np.object]).columns\n",
    "    for col in cols:\n",
    "        print(\"{} is {} and values are {}.\".format(col,df[col].dtype,df[col].unique()))\n",
    "        n_nan = df[col].isnull().sum()\n",
    "        if n_nan > 0:\n",
    "            print(\"{} has {} NaNs\".format(col,n_nan))\n",
    "            \n",
    "    cols = df.select_dtypes([np.int64,np.float64,np.uint64]).columns\n",
    "    for col in cols:\n",
    "        print(\"{} is {} and values are {} to {}.\".format(col,df[col].dtype,df[col].min(),df[col].max()))\n",
    "        n_nan = df[col].isnull().sum()\n",
    "        if n_nan > 0:\n",
    "            print(\"{} has {} NaNs\".format(col,n_nan))\n",
    "    return"
   ]
  },
  {
   "cell_type": "code",
   "execution_count": 3,
   "metadata": {},
   "outputs": [],
   "source": [
    "# Check which numeric columns are missing values\n",
    "\n",
    "def check_data(df):\n",
    "    s = df.shape\n",
    "\n",
    "    # Check for null values\n",
    "    null_data = df.isnull().sum()\n",
    "    null_data_count = sum(null_data)\n",
    "    print(\"Rows: {}\\t Cols: {}\\t NaNs: {}\".format(s[0],s[1],null_data_count))\n",
    "    if  null_data_count > 0:\n",
    "        print(\"Columns with NaN: {}\".format(list(null_data[null_data > 0].index)))\n",
    "\n",
    "    return"
   ]
  },
  {
   "cell_type": "markdown",
   "metadata": {},
   "source": [
    "<hr>\n",
    "<a name=\"cleaning\"></a>\n",
    "## <span style='color:#3b748a'> II. Data cleaning functions</span>\n",
    "\n",
    "<span style='color:#4095b5'>These functions clean the rental data.</span>"
   ]
  },
  {
   "cell_type": "markdown",
   "metadata": {},
   "source": [
    "### <span style='color:#4095b5'>Drop most of the columns.</span>\n",
    "<span style='color:#52aec9'>As I understand the data more and want to do more modeling, I may choose to drop fewer columns. Many of these are not used yet by Relay and are full of null values.</span>"
   ]
  },
  {
   "cell_type": "code",
   "execution_count": 4,
   "metadata": {},
   "outputs": [],
   "source": [
    "def drop_columns(df):\n",
    "    cols_drop = ['User ID', 'Route ID', 'Payment Plan', 'Bike ID', 'Member Type', 'Start Area',\n",
    "                 'End Area', 'Ride cost', 'Fees', 'Bonuses', 'Total cost','Multiple Rental',\n",
    "                 'Trip Type','Rental Access Path','Bike Region ID','Start Special Area',\n",
    "                 'End Special Area']\n",
    "\n",
    "    # Can't drop a column that isn't there\n",
    "    cols_drop = list(set(df.columns) & set(cols_drop))\n",
    "    df.drop(cols_drop, axis=1, inplace=True)\n",
    "\n",
    "    return df"
   ]
  },
  {
   "cell_type": "markdown",
   "metadata": {},
   "source": [
    "### <span style='color:#4095b5'>Rename columns to match Atlanta data names.</span>"
   ]
  },
  {
   "cell_type": "code",
   "execution_count": 5,
   "metadata": {},
   "outputs": [],
   "source": [
    "def rename_columns(df):\n",
    "    # ATL: so no renaming necessary\n",
    "    return df"
   ]
  },
  {
   "cell_type": "markdown",
   "metadata": {},
   "source": [
    "### <span style='color:#4095b5'>Merge with hub data.</span>\n",
    "<span style='color:#52aec9'>We may have to use the start/end hubs to get start/end lat/long.</span>"
   ]
  },
  {
   "cell_type": "code",
   "execution_count": 6,
   "metadata": {},
   "outputs": [],
   "source": [
    "def calc_latlong(df, df_hubs):\n",
    "    # ATL: all rentals, even those from hubs, have lat/lon\n",
    "    return df"
   ]
  },
  {
   "cell_type": "markdown",
   "metadata": {},
   "source": [
    "### <span style='color:#4095b5'>Drop rows with nulls.</span>\n",
    "<span style='color:#52aec9'>Don't have any to drop right now. Replace NaN is Hubs with 'NONE'.</span>"
   ]
  },
  {
   "cell_type": "code",
   "execution_count": 7,
   "metadata": {},
   "outputs": [],
   "source": [
    "def drop_nans(df):\n",
    "    df['Start Hub'] = df['Start Hub'].fillna('NONE')\n",
    "    df['End Hub'] = df['End Hub'].fillna('NONE')\n",
    "\n",
    "    return df"
   ]
  },
  {
   "cell_type": "markdown",
   "metadata": {},
   "source": [
    "### <span style='color:#4095b5'>Use appropriate datatypes.</span>\n",
    "<span style='color:#52aec9'>Fix Date/Time objects and cast Latitude and Longitude to floats.</span>"
   ]
  },
  {
   "cell_type": "code",
   "execution_count": 8,
   "metadata": {},
   "outputs": [],
   "source": [
    "def clean_datatypes(df):\n",
    "    df['Start Latitude'] = df['Start Latitude'].astype(float)\n",
    "    df['Start Longitude'] = df['Start Longitude'].astype(float)\n",
    "    df['End Latitude'] = df['End Latitude'].astype(float)\n",
    "    df['End Longitude'] = df['End Longitude'].astype(float)\n",
    "\n",
    "    # Turn times in datetime\n",
    "    df['Start Time'] = pd.to_datetime(df['Start Date'] + ' ' + df['Start Time'])\n",
    "    df['End Time'] = pd.to_datetime(df['End Date'] + ' ' + df['End Time'])\n",
    "\n",
    "    # Turn dates in datetime\n",
    "    df['Start Date'] = pd.to_datetime(df['Start Date'])\n",
    "    df['End Date'] = pd.to_datetime(df['End Date'])\n",
    "\n",
    "    # Fix the durations\n",
    "    df['Duration'] = pd.to_timedelta(df['Duration'])\n",
    "    \n",
    "    return df"
   ]
  },
  {
   "cell_type": "markdown",
   "metadata": {},
   "source": [
    "### <span style='color:#4095b5'>Calculate distances.</span>\n",
    "<span style='color:#52aec9'>Not used for Atlanta data. <br />Poor approximation. If bike was checked-out and returned to same station, will be trivial distance.</span>"
   ]
  },
  {
   "cell_type": "code",
   "execution_count": 9,
   "metadata": {},
   "outputs": [],
   "source": [
    "def distance_calc (row):\n",
    "    start = (row['Start Latitude'], row['Start Longitude'])\n",
    "    stop = (row['End Latitude'], row['End Longitude'])\n",
    "\n",
    "    return vincenty(start, stop).miles"
   ]
  },
  {
   "cell_type": "code",
   "execution_count": 10,
   "metadata": {},
   "outputs": [],
   "source": [
    "def calc_distances(df):\n",
    "    # ATL: No distance calculation necessary\n",
    "    return df"
   ]
  },
  {
   "cell_type": "markdown",
   "metadata": {},
   "source": [
    "### <span style='color:#4095b5'>Reorder columns.</span>\n",
    "<span style='color:#52aec9'>Make order same as Atlanta data.</span>"
   ]
  },
  {
   "cell_type": "code",
   "execution_count": 11,
   "metadata": {},
   "outputs": [],
   "source": [
    "def reorder_cols(df):\n",
    "    # ATL: so not necessary\n",
    "    return df"
   ]
  },
  {
   "cell_type": "markdown",
   "metadata": {},
   "source": [
    "### <span style='color:#4095b5'>Drop trivial trips.</span>\n",
    "<span style='color:#52aec9'>Trivial trips are of short length or the trip time is less than 3 mins.</span>"
   ]
  },
  {
   "cell_type": "code",
   "execution_count": 12,
   "metadata": {},
   "outputs": [],
   "source": [
    "def drop_trivial_trips_distance(df):\n",
    "    df = df[df[\"Distance [Miles]\"] > 0.02].copy()\n",
    "    return df"
   ]
  },
  {
   "cell_type": "code",
   "execution_count": 13,
   "metadata": {},
   "outputs": [],
   "source": [
    "def drop_trivial_trips_duration(df):\n",
    "    df = df[df[\"Duration\"] >= pd.to_timedelta('00:03:00')].copy()\n",
    "    return df"
   ]
  },
  {
   "cell_type": "code",
   "execution_count": 14,
   "metadata": {},
   "outputs": [],
   "source": [
    "def drop_trivial_trips(df):\n",
    "    global trivial_duration\n",
    "    global trivial_distance\n",
    "\n",
    "    rows = df.shape[0]\n",
    "    df = drop_trivial_trips_duration(df)\n",
    "    rows_duration = df.shape[0]\n",
    "    trivial_duration += rows-rows_duration\n",
    "\n",
    "    df = drop_trivial_trips_distance(df)\n",
    "    rows_distance = df.shape[0]\n",
    "    trivial_distance += rows_duration-rows_distance\n",
    "\n",
    "    return df"
   ]
  },
  {
   "cell_type": "markdown",
   "metadata": {},
   "source": [
    "### <span style='color:#4095b5'>Drop outliers.</span>\n",
    "<ul>\n",
    "    <li><span style='color:#52aec9'>Some of the ATL bikes are reported to be in Athens or in NYC.</span></li> \n",
    "    <li><span style='color:#52aec9'>One ATL bike was out for 36 days; 174 rentals were for longer than 24 hours.</span></li> \n",
    "    <li><span style='color:#52aec9'>One ATL bike went 3913.01 miles.</span></li> \n",
    "</ul>"
   ]
  },
  {
   "cell_type": "code",
   "execution_count": 15,
   "metadata": {},
   "outputs": [],
   "source": [
    "def drop_outliers_latlon(df):\n",
    "    df = df[df[\"Start Latitude\"] < 33.9].copy()\n",
    "    df = df[df[\"End Latitude\"] < 33.9].copy()\n",
    "    df = df[df[\"Start Latitude\"] > 33.5].copy()\n",
    "    df = df[df[\"End Latitude\"] > 33.5].copy()\n",
    "\n",
    "    df = df[df[\"Start Longitude\"] < -83.0].copy()\n",
    "    df = df[df[\"End Longitude\"] < -83.0].copy()\n",
    "\n",
    "    return df"
   ]
  },
  {
   "cell_type": "code",
   "execution_count": 16,
   "metadata": {},
   "outputs": [],
   "source": [
    "def drop_outliers_duration(df):\n",
    "    df = df[df[\"Duration\"] <= pd.to_timedelta('24:00:00')].copy()\n",
    "    return df"
   ]
  },
  {
   "cell_type": "code",
   "execution_count": 17,
   "metadata": {},
   "outputs": [],
   "source": [
    "def drop_outliers_distance(df):\n",
    "    df_temp = df[df[\"Distance [Miles]\"] >= 100.0]\n",
    "    if df_temp.shape[0]:\n",
    "        print(\"Long trip: \", df_temp[['Start Latitude','Start Longitude', 'Start Time', \n",
    "                                     'End Latitude', 'End Longitude', 'End Time', \n",
    "                                     'Distance [Miles]', 'Duration']])\n",
    "    df = df[df[\"Distance [Miles]\"] < 100.0].copy()\n",
    "    return df"
   ]
  },
  {
   "cell_type": "code",
   "execution_count": 18,
   "metadata": {},
   "outputs": [],
   "source": [
    "def drop_outliers(df):\n",
    "    global outliers_latlon\n",
    "    global outliers_duration\n",
    "    global outliers_distance\n",
    "    \n",
    "    rows = df.shape[0]\n",
    "    df = drop_outliers_latlon(df)\n",
    "    rows_latlon = df.shape[0]\n",
    "    outliers_latlon += rows - rows_latlon\n",
    "    \n",
    "    df = drop_outliers_duration(df)\n",
    "    rows_duration = df.shape[0]\n",
    "    outliers_duration += rows_latlon - rows_duration\n",
    "    \n",
    "    df = drop_outliers_distance(df)\n",
    "    rows_distance = df.shape[0]\n",
    "    outliers_distance += rows_duration - rows_distance\n",
    "    \n",
    "    return df"
   ]
  },
  {
   "cell_type": "markdown",
   "metadata": {},
   "source": [
    "### <span style='color:#4095b5'>Pull all of the cleaning together.</span>"
   ]
  },
  {
   "cell_type": "code",
   "execution_count": 19,
   "metadata": {},
   "outputs": [],
   "source": [
    "def clean_df(df, df_hubs=None):\n",
    "    global trivial_duration\n",
    "    global trivial_distance\n",
    "    global outliers_latlon\n",
    "    global outliers_duration\n",
    "    global outliers_distance\n",
    "\n",
    "    df = drop_columns(df)\n",
    "    df = rename_columns(df)\n",
    "    df = calc_latlong(df, df_hubs)\n",
    "    df = drop_nans(df)\n",
    "    df = clean_datatypes(df)\n",
    "    df = calc_distances(df)\n",
    "    df = reorder_cols(df)\n",
    "    df = drop_trivial_trips(df)\n",
    "    df = drop_outliers(df)\n",
    "\n",
    "    # Information about rows dropped\n",
    "    print(\"Trivial dur: {} dist: {}\".format(trivial_duration, \n",
    "                                                                              trivial_distance))\n",
    "    print(\"Outlier loc: {} dur: {} dist: {}\".format(outliers_latlon,\n",
    "                                                     outliers_duration,\n",
    "                                                     outliers_distance))\n",
    "    return df"
   ]
  },
  {
   "cell_type": "markdown",
   "metadata": {},
   "source": [
    "<hr>\n",
    "<a name=\"convert\"></a>\n",
    "## <span style='color:#3b748a'> III. Convert Sept 2017 Relay Atlanta data from HTML table to CSV.</span>\n",
    "<span style='color:#4095b5'>Imported html file into a spreadsheet.</span>\n",
    "<ul>\n",
    "    <li> <span style='color:#4095b5'>Removed index and header in csv.</span></li>\n",
    "    <li> <span style='color:#4095b5'>Cleaned a number of rows with '-' for Start Lat/Long. If there is a Start Hub, used that for Lat/Lon; otherwise, delete.</span></li>\n",
    "    <li> <span style='color:#4095b5'>Cleaned a number of rows with '-' for End Lat/Long. If there is a End Hub, used that for Lat/Lon; otherwise, delete.</span></li>\n",
    "    <li> <span style='color:#4095b5'>Removed one outlier row.</span></li>\n",
    "</ul>    \n",
    "\n",
    "<span style='color:#4095b5'>In this notebook, recalculate 'Duration' from start and end times.</span>\n"
   ]
  },
  {
   "cell_type": "code",
   "execution_count": 20,
   "metadata": {},
   "outputs": [],
   "source": [
    "# Calculate the Durations for Sept 2017 and write the DataFrame to a csv file\n",
    "if False:\n",
    "    df_temp = pd.read_csv(\"../data/atl/trips_201709-full.csv\")\n",
    "    temp_start = pd.to_datetime(df_temp['Start Date'] + ' ' + df_temp['Start Time'])\n",
    "    temp_end = pd.to_datetime(df_temp['End Date'] + ' ' + df_temp['End Time'])\n",
    "    df_temp['Duration'] = pd.to_timedelta(temp_end - temp_start)\n",
    "    df_temp.to_csv('../data/atl/trips_201709.csv', index=False)"
   ]
  },
  {
   "cell_type": "markdown",
   "metadata": {},
   "source": [
    "<hr>\n",
    "<a name=\"import\"></a>\n",
    "## <span style='color:#3b748a'> IV. Import all data from Atlanta</span>\n"
   ]
  },
  {
   "cell_type": "code",
   "execution_count": 21,
   "metadata": {},
   "outputs": [],
   "source": [
    "# Atlanta data divided up by month\n",
    "trip_data = ['201709',\n",
    "             '201710', '201711', '201712',\n",
    "             '201801', '201802', '201803',\n",
    "             '201804', '201805', '201806',\n",
    "             '201807', '201808']"
   ]
  },
  {
   "cell_type": "code",
   "execution_count": 22,
   "metadata": {},
   "outputs": [],
   "source": [
    "# Dictionary of DataFrames, one for each month\n",
    "df_data = dict()\n",
    "for d in trip_data:\n",
    "    df_data[d] = pd.read_csv(\"../data/atl/trips_\"+str(d)+\".csv\")"
   ]
  },
  {
   "cell_type": "markdown",
   "metadata": {},
   "source": [
    "<hr>\n",
    "<a name=\"clean\"></a>\n",
    "\n",
    "## <span style='color:#3b748a'>V. Clean all data from Atlanta.</span>\n",
    "<ul>\n",
    "    <li><span style='color:#4095b5'>For now, drop most of the columns.</span></li>\n",
    "    <li><span style='color:#4095b5'>Drop the trivial trips.</span></li>\n",
    "    <li><span style='color:#4095b5'>Drop the outliers.</span></li>\n",
    "    <li><span style='color:#4095b5'>Use appropriate coumn types.</span></li>\n",
    "    <li><span style='color:#4095b5'>Clean before merge because of different input data.</span></li>\n",
    "</ul>"
   ]
  },
  {
   "cell_type": "code",
   "execution_count": 23,
   "metadata": {},
   "outputs": [
    {
     "name": "stdout",
     "output_type": "stream",
     "text": [
      "Cleaning the data:\n",
      "Month: 201709 \n",
      "Rows: 14476\t Cols: 27\t NaNs: 19227\n",
      "Trivial dur: 920 dist: 123\n",
      "Outlier loc: 0 dur: 10 dist: 0\n",
      "Rows: 13423\t Cols: 13\t NaNs: 0\n",
      "Month: 201710 \n",
      "Rows: 10446\t Cols: 27\t NaNs: 13773\n",
      "Trivial dur: 1654 dist: 172\n",
      "Outlier loc: 1 dur: 19 dist: 0\n",
      "Rows: 9653\t Cols: 13\t NaNs: 0\n",
      "Month: 201711 \n",
      "Rows: 8672\t Cols: 27\t NaNs: 11485\n",
      "Trivial dur: 2289 dist: 219\n",
      "Outlier loc: 1 dur: 23 dist: 0\n",
      "Rows: 7986\t Cols: 13\t NaNs: 0\n",
      "Month: 201712 \n",
      "Rows: 4348\t Cols: 27\t NaNs: 6001\n",
      "Trivial dur: 2663 dist: 252\n",
      "Outlier loc: 4 dur: 25 dist: 0\n",
      "Rows: 3936\t Cols: 13\t NaNs: 0\n",
      "Month: 201801 \n",
      "Rows: 3933\t Cols: 30\t NaNs: 17363\n",
      "Trivial dur: 3073 dist: 304\n",
      "Outlier loc: 5 dur: 29 dist: 0\n",
      "Rows: 3466\t Cols: 13\t NaNs: 0\n",
      "Month: 201802 \n",
      "Rows: 7008\t Cols: 30\t NaNs: 30612\n",
      "Trivial dur: 3560 dist: 347\n",
      "Outlier loc: 5 dur: 46 dist: 0\n",
      "Rows: 6461\t Cols: 13\t NaNs: 0\n",
      "Month: 201803 \n",
      "Rows: 8815\t Cols: 30\t NaNs: 39045\n",
      "Trivial dur: 4318 dist: 470\n",
      "Outlier loc: 10 dur: 63 dist: 0\n",
      "Rows: 7912\t Cols: 13\t NaNs: 0\n",
      "Month: 201804 \n",
      "Rows: 11330\t Cols: 30\t NaNs: 49968\n",
      "Trivial dur: 5276 dist: 632\n",
      "Outlier loc: 11 dur: 101 dist: 0\n",
      "Rows: 10171\t Cols: 13\t NaNs: 0\n",
      "Month: 201805 \n",
      "Rows: 12449\t Cols: 30\t NaNs: 55407\n",
      "Trivial dur: 6283 dist: 763\n",
      "Outlier loc: 11 dur: 137 dist: 0\n",
      "Rows: 11275\t Cols: 13\t NaNs: 0\n",
      "Month: 201806 \n",
      "Rows: 11622\t Cols: 30\t NaNs: 50909\n",
      "Long trip:        Start Latitude  Start Longitude          Start Time  End Latitude  \\\n",
      "2373       33.757598         -84.3647 2018-06-11 13:15:00     33.757598   \n",
      "\n",
      "      End Longitude            End Time  Distance [Miles] Duration  \n",
      "2373       -84.3647 2018-06-11 16:38:00           3913.01 03:22:43  \n",
      "Trivial dur: 6770 dist: 844\n",
      "Outlier loc: 21 dur: 155 dist: 1\n",
      "Rows: 11025\t Cols: 13\t NaNs: 0\n",
      "Month: 201807 \n",
      "Rows: 10986\t Cols: 30\t NaNs: 49713\n",
      "Trivial dur: 7264 dist: 932\n",
      "Outlier loc: 22 dur: 174 dist: 1\n",
      "Rows: 10384\t Cols: 13\t NaNs: 0\n",
      "Month: 201808 \n",
      "Rows: 8552\t Cols: 30\t NaNs: 38456\n",
      "Trivial dur: 7707 dist: 1009\n",
      "Outlier loc: 22 dur: 192 dist: 1\n",
      "Rows: 8014\t Cols: 13\t NaNs: 0\n"
     ]
    }
   ],
   "source": [
    "# For each month, clean the DataFrame\n",
    "print(\"Cleaning the data:\")\n",
    "for d in trip_data:\n",
    "    print(\"Month: {} \\nRows: {}\\t Cols: {}\\t NaNs: {}\".format(d, \n",
    "                                                    df_data[d].shape[0], \n",
    "                                                    df_data[d].shape[1], \n",
    "                                                    sum(df_data[d].isnull().sum())))\n",
    "    df_data[d] = clean_df(df_data[d])\n",
    "    check_data(df_data[d])"
   ]
  },
  {
   "cell_type": "markdown",
   "metadata": {},
   "source": [
    "<hr>\n",
    "<a name=\"merge\"></a>\n",
    "\n",
    "## <span style='color:#3b748a'> VI. Merge the DataFrames into 1 big DataFrame</span>"
   ]
  },
  {
   "cell_type": "code",
   "execution_count": 24,
   "metadata": {},
   "outputs": [],
   "source": [
    "n_rows = 0\n",
    "df = pd.DataFrame()\n",
    "for d in trip_data:\n",
    "    n_rows += df_data[d].shape[0]\n",
    "    df = df.append(df_data[d])\n",
    "\n",
    "if n_rows != df.shape[0]:\n",
    "    print(\"There is a problem with the DataFrame merge!\")"
   ]
  },
  {
   "cell_type": "markdown",
   "metadata": {},
   "source": [
    "<hr>\n",
    "<a name=\"explore\"></a>\n",
    "\n",
    "## <span style='color:#3b748a'> VII. Explore the data.</span>"
   ]
  },
  {
   "cell_type": "code",
   "execution_count": 25,
   "metadata": {},
   "outputs": [
    {
     "data": {
      "text/html": [
       "<div>\n",
       "<style scoped>\n",
       "    .dataframe tbody tr th:only-of-type {\n",
       "        vertical-align: middle;\n",
       "    }\n",
       "\n",
       "    .dataframe tbody tr th {\n",
       "        vertical-align: top;\n",
       "    }\n",
       "\n",
       "    .dataframe thead th {\n",
       "        text-align: right;\n",
       "    }\n",
       "</style>\n",
       "<table border=\"1\" class=\"dataframe\">\n",
       "  <thead>\n",
       "    <tr style=\"text-align: right;\">\n",
       "      <th></th>\n",
       "      <th>Start Hub</th>\n",
       "      <th>Start Latitude</th>\n",
       "      <th>Start Longitude</th>\n",
       "      <th>Start Date</th>\n",
       "      <th>Start Time</th>\n",
       "      <th>End Hub</th>\n",
       "      <th>End Latitude</th>\n",
       "      <th>End Longitude</th>\n",
       "      <th>End Date</th>\n",
       "      <th>End Time</th>\n",
       "      <th>Bike Name</th>\n",
       "      <th>Distance [Miles]</th>\n",
       "      <th>Duration</th>\n",
       "    </tr>\n",
       "  </thead>\n",
       "  <tbody>\n",
       "    <tr>\n",
       "      <th>15</th>\n",
       "      <td>NONE</td>\n",
       "      <td>33.738905</td>\n",
       "      <td>-84.431592</td>\n",
       "      <td>2017-09-04</td>\n",
       "      <td>2017-09-04 19:27:00</td>\n",
       "      <td>GORDON-WHITE PARK</td>\n",
       "      <td>33.738850</td>\n",
       "      <td>-84.431790</td>\n",
       "      <td>2017-09-04</td>\n",
       "      <td>2017-09-04 20:27:00</td>\n",
       "      <td>2766</td>\n",
       "      <td>4.50</td>\n",
       "      <td>01:00:00</td>\n",
       "    </tr>\n",
       "    <tr>\n",
       "      <th>16</th>\n",
       "      <td>PIEDMONT &amp; AUBURN</td>\n",
       "      <td>33.755733</td>\n",
       "      <td>-84.382117</td>\n",
       "      <td>2017-09-16</td>\n",
       "      <td>2017-09-16 09:33:00</td>\n",
       "      <td>PIEDMONT &amp; AUBURN</td>\n",
       "      <td>33.755738</td>\n",
       "      <td>-84.382107</td>\n",
       "      <td>2017-09-16</td>\n",
       "      <td>2017-09-16 10:33:00</td>\n",
       "      <td>2896</td>\n",
       "      <td>5.97</td>\n",
       "      <td>01:00:00</td>\n",
       "    </tr>\n",
       "    <tr>\n",
       "      <th>17</th>\n",
       "      <td>NONE</td>\n",
       "      <td>33.762698</td>\n",
       "      <td>-84.387455</td>\n",
       "      <td>2017-09-09</td>\n",
       "      <td>2017-09-09 16:01:00</td>\n",
       "      <td>HARDY IVY PARK</td>\n",
       "      <td>33.762682</td>\n",
       "      <td>-84.387357</td>\n",
       "      <td>2017-09-09</td>\n",
       "      <td>2017-09-09 17:01:00</td>\n",
       "      <td>2836</td>\n",
       "      <td>5.02</td>\n",
       "      <td>01:00:00</td>\n",
       "    </tr>\n",
       "    <tr>\n",
       "      <th>18</th>\n",
       "      <td>NONE</td>\n",
       "      <td>33.786287</td>\n",
       "      <td>-84.371913</td>\n",
       "      <td>2017-09-02</td>\n",
       "      <td>2017-09-02 14:35:00</td>\n",
       "      <td>PIEDMONT PARK EAST</td>\n",
       "      <td>33.786298</td>\n",
       "      <td>-84.371453</td>\n",
       "      <td>2017-09-02</td>\n",
       "      <td>2017-09-02 15:35:00</td>\n",
       "      <td>2564</td>\n",
       "      <td>4.13</td>\n",
       "      <td>01:00:00</td>\n",
       "    </tr>\n",
       "    <tr>\n",
       "      <th>19</th>\n",
       "      <td>IRWIN &amp; EASTSIDE BELTLINE</td>\n",
       "      <td>33.757585</td>\n",
       "      <td>-84.364665</td>\n",
       "      <td>2017-09-21</td>\n",
       "      <td>2017-09-21 18:22:00</td>\n",
       "      <td>IRWIN &amp; EASTSIDE BELTLINE</td>\n",
       "      <td>33.757607</td>\n",
       "      <td>-84.364697</td>\n",
       "      <td>2017-09-21</td>\n",
       "      <td>2017-09-21 19:22:00</td>\n",
       "      <td>2917</td>\n",
       "      <td>2.49</td>\n",
       "      <td>01:00:00</td>\n",
       "    </tr>\n",
       "  </tbody>\n",
       "</table>\n",
       "</div>"
      ],
      "text/plain": [
       "                    Start Hub  Start Latitude  Start Longitude Start Date  \\\n",
       "15                       NONE       33.738905       -84.431592 2017-09-04   \n",
       "16          PIEDMONT & AUBURN       33.755733       -84.382117 2017-09-16   \n",
       "17                       NONE       33.762698       -84.387455 2017-09-09   \n",
       "18                       NONE       33.786287       -84.371913 2017-09-02   \n",
       "19  IRWIN & EASTSIDE BELTLINE       33.757585       -84.364665 2017-09-21   \n",
       "\n",
       "            Start Time                    End Hub  End Latitude  \\\n",
       "15 2017-09-04 19:27:00          GORDON-WHITE PARK     33.738850   \n",
       "16 2017-09-16 09:33:00          PIEDMONT & AUBURN     33.755738   \n",
       "17 2017-09-09 16:01:00             HARDY IVY PARK     33.762682   \n",
       "18 2017-09-02 14:35:00         PIEDMONT PARK EAST     33.786298   \n",
       "19 2017-09-21 18:22:00  IRWIN & EASTSIDE BELTLINE     33.757607   \n",
       "\n",
       "    End Longitude   End Date            End Time Bike Name  Distance [Miles]  \\\n",
       "15     -84.431790 2017-09-04 2017-09-04 20:27:00      2766              4.50   \n",
       "16     -84.382107 2017-09-16 2017-09-16 10:33:00      2896              5.97   \n",
       "17     -84.387357 2017-09-09 2017-09-09 17:01:00      2836              5.02   \n",
       "18     -84.371453 2017-09-02 2017-09-02 15:35:00      2564              4.13   \n",
       "19     -84.364697 2017-09-21 2017-09-21 19:22:00      2917              2.49   \n",
       "\n",
       "   Duration  \n",
       "15 01:00:00  \n",
       "16 01:00:00  \n",
       "17 01:00:00  \n",
       "18 01:00:00  \n",
       "19 01:00:00  "
      ]
     },
     "execution_count": 25,
     "metadata": {},
     "output_type": "execute_result"
    }
   ],
   "source": [
    "df.head()    "
   ]
  },
  {
   "cell_type": "code",
   "execution_count": 26,
   "metadata": {},
   "outputs": [
    {
     "data": {
      "text/plain": [
       "(103706, 13)"
      ]
     },
     "execution_count": 26,
     "metadata": {},
     "output_type": "execute_result"
    }
   ],
   "source": [
    "df.shape"
   ]
  },
  {
   "cell_type": "code",
   "execution_count": 27,
   "metadata": {},
   "outputs": [
    {
     "data": {
      "text/plain": [
       "Index(['Start Hub', 'Start Latitude', 'Start Longitude', 'Start Date',\n",
       "       'Start Time', 'End Hub', 'End Latitude', 'End Longitude', 'End Date',\n",
       "       'End Time', 'Bike Name', 'Distance [Miles]', 'Duration'],\n",
       "      dtype='object')"
      ]
     },
     "execution_count": 27,
     "metadata": {},
     "output_type": "execute_result"
    }
   ],
   "source": [
    "df.columns"
   ]
  },
  {
   "cell_type": "code",
   "execution_count": 28,
   "metadata": {},
   "outputs": [
    {
     "data": {
      "text/html": [
       "<div>\n",
       "<style scoped>\n",
       "    .dataframe tbody tr th:only-of-type {\n",
       "        vertical-align: middle;\n",
       "    }\n",
       "\n",
       "    .dataframe tbody tr th {\n",
       "        vertical-align: top;\n",
       "    }\n",
       "\n",
       "    .dataframe thead th {\n",
       "        text-align: right;\n",
       "    }\n",
       "</style>\n",
       "<table border=\"1\" class=\"dataframe\">\n",
       "  <thead>\n",
       "    <tr style=\"text-align: right;\">\n",
       "      <th></th>\n",
       "      <th>Start Latitude</th>\n",
       "      <th>Start Longitude</th>\n",
       "      <th>End Latitude</th>\n",
       "      <th>End Longitude</th>\n",
       "      <th>Distance [Miles]</th>\n",
       "      <th>Duration</th>\n",
       "    </tr>\n",
       "  </thead>\n",
       "  <tbody>\n",
       "    <tr>\n",
       "      <th>count</th>\n",
       "      <td>103706.000000</td>\n",
       "      <td>103706.000000</td>\n",
       "      <td>103706.000000</td>\n",
       "      <td>103706.000000</td>\n",
       "      <td>103706.000000</td>\n",
       "      <td>103706</td>\n",
       "    </tr>\n",
       "    <tr>\n",
       "      <th>mean</th>\n",
       "      <td>33.770592</td>\n",
       "      <td>-84.377435</td>\n",
       "      <td>33.770728</td>\n",
       "      <td>-84.376944</td>\n",
       "      <td>2.335644</td>\n",
       "      <td>0 days 00:35:07.468873</td>\n",
       "    </tr>\n",
       "    <tr>\n",
       "      <th>std</th>\n",
       "      <td>0.014321</td>\n",
       "      <td>0.016241</td>\n",
       "      <td>0.014259</td>\n",
       "      <td>0.016214</td>\n",
       "      <td>1.957469</td>\n",
       "      <td>0 days 00:49:41.908833</td>\n",
       "    </tr>\n",
       "    <tr>\n",
       "      <th>min</th>\n",
       "      <td>33.657687</td>\n",
       "      <td>-84.574992</td>\n",
       "      <td>33.657703</td>\n",
       "      <td>-84.504577</td>\n",
       "      <td>0.030000</td>\n",
       "      <td>0 days 00:03:00</td>\n",
       "    </tr>\n",
       "    <tr>\n",
       "      <th>25%</th>\n",
       "      <td>33.759437</td>\n",
       "      <td>-84.388063</td>\n",
       "      <td>33.759612</td>\n",
       "      <td>-84.387413</td>\n",
       "      <td>1.020000</td>\n",
       "      <td>0 days 00:10:51</td>\n",
       "    </tr>\n",
       "    <tr>\n",
       "      <th>50%</th>\n",
       "      <td>33.772493</td>\n",
       "      <td>-84.372618</td>\n",
       "      <td>33.772515</td>\n",
       "      <td>-84.371422</td>\n",
       "      <td>1.830000</td>\n",
       "      <td>0 days 00:23:20</td>\n",
       "    </tr>\n",
       "    <tr>\n",
       "      <th>75%</th>\n",
       "      <td>33.781913</td>\n",
       "      <td>-84.365252</td>\n",
       "      <td>33.781812</td>\n",
       "      <td>-84.365203</td>\n",
       "      <td>3.090000</td>\n",
       "      <td>0 days 00:45:41.750000</td>\n",
       "    </tr>\n",
       "    <tr>\n",
       "      <th>max</th>\n",
       "      <td>33.878115</td>\n",
       "      <td>-84.160037</td>\n",
       "      <td>33.880417</td>\n",
       "      <td>-84.159963</td>\n",
       "      <td>93.230000</td>\n",
       "      <td>0 days 23:59:44</td>\n",
       "    </tr>\n",
       "  </tbody>\n",
       "</table>\n",
       "</div>"
      ],
      "text/plain": [
       "       Start Latitude  Start Longitude   End Latitude  End Longitude  \\\n",
       "count   103706.000000    103706.000000  103706.000000  103706.000000   \n",
       "mean        33.770592       -84.377435      33.770728     -84.376944   \n",
       "std          0.014321         0.016241       0.014259       0.016214   \n",
       "min         33.657687       -84.574992      33.657703     -84.504577   \n",
       "25%         33.759437       -84.388063      33.759612     -84.387413   \n",
       "50%         33.772493       -84.372618      33.772515     -84.371422   \n",
       "75%         33.781913       -84.365252      33.781812     -84.365203   \n",
       "max         33.878115       -84.160037      33.880417     -84.159963   \n",
       "\n",
       "       Distance [Miles]                Duration  \n",
       "count     103706.000000                  103706  \n",
       "mean           2.335644  0 days 00:35:07.468873  \n",
       "std            1.957469  0 days 00:49:41.908833  \n",
       "min            0.030000         0 days 00:03:00  \n",
       "25%            1.020000         0 days 00:10:51  \n",
       "50%            1.830000         0 days 00:23:20  \n",
       "75%            3.090000  0 days 00:45:41.750000  \n",
       "max           93.230000         0 days 23:59:44  "
      ]
     },
     "execution_count": 28,
     "metadata": {},
     "output_type": "execute_result"
    }
   ],
   "source": [
    "df.describe()"
   ]
  },
  {
   "cell_type": "code",
   "execution_count": 29,
   "metadata": {},
   "outputs": [],
   "source": [
    "if False:\n",
    "    check_data(df)\n",
    "    check_cols(df)"
   ]
  },
  {
   "cell_type": "code",
   "execution_count": 30,
   "metadata": {},
   "outputs": [
    {
     "name": "stdout",
     "output_type": "stream",
     "text": [
      "Min start date: 2017-09-01 00:00:00\n",
      "Min end date: 2017-09-01 00:00:00\n",
      "Max start date: 2018-08-31 00:00:00\n",
      "Max end date: 2018-09-01 00:00:00\n",
      "Number of days: 365\n"
     ]
    }
   ],
   "source": [
    "# Check dates (Sep 2017 - Aug 2018)\n",
    "print(\"Min start date: {}\".format(df['Start Date'].min()))\n",
    "print(\"Min end date: {}\".format(df['End Date'].min()))\n",
    "print(\"Max start date: {}\".format(df['Start Date'].max()))\n",
    "print(\"Max end date: {}\".format(df['End Date'].max()))\n",
    "print(\"Number of days: {}\".format(len(set(df['Start Date']))))"
   ]
  },
  {
   "cell_type": "markdown",
   "metadata": {},
   "source": [
    "#### <span style='color:#4095b5'>Fewest rentals</span>\n",
    "<li><span style='color:#4095b5'>11 sep 2017 - Hurricane Irma 3.5 inches of rain</span></li>\n",
    "\n",
    "#### <span style='color:#4095b5'>Most rentals</span>\n",
    "<li><span style='color:#4095b5'>1 oct 2017 - Lovely fall Saturday?</span></li>\n",
    "\n",
    "#### <span style='color:#4095b5'>Outliers on Upper side of Total rentals per day of week</span>\n",
    "<li><span style='color:#4095b5'>4 sep 2017 - Labor Day</span></li>\n",
    "<li><span style='color:#4095b5'>4 jul 2018</span></li>\n",
    "\n",
    "#### <span style='color:#4095b5'>Outliers on Upper side of Total or Avg Duration per day of week</span>\n",
    "<li><span style='color:#4095b5'>4 sep 2017 - Labor Day</span></li>\n",
    "<li><span style='color:#4095b5'>31 mar 2018 - Spring Foof and Wine Crawl?</span></li>\n",
    "<li><span style='color:#4095b5'>2 apr 2018 - Easter Monday</span></li>\n",
    "<li><span style='color:#4095b5'>5 apr 2018 - 5 over 20 hr rental</span></li>\n",
    "<li><span style='color:#4095b5'>1 may 2018 - One long rental, not really an outlier</span></li>\n",
    "<li><span style='color:#4095b5'>8 june 2018 - 2018 Atlanta Moon Ride (https://events.accessatlanta.com/event/2018-atlanta-moon-ridejune-8-20185a7a9840ddecc)</span></li>\n",
    "<li><span style='color:#4095b5'>4 jul 2018</span></li>\n",
    "\n",
    "#### <span style='color:#4095b5'>Outliers on Lower side of Total or Avg Duration per day of week</span>\n",
    "<li><span style='color:#4095b5'>8 dec 2017 - Snow</span></li>\n",
    "<li><span style='color:#4095b5'>23 dec 2017 - Rainy saturday, close to Christmas</span></li>\n",
    "<li><span style='color:#4095b5'>12 jan 2018 - Cold and rainy</span></li>\n",
    "\n",
    "#### <span style='color:#4095b5'>Outliers on Upper side Total or Avg Distance per day of week</span>\n",
    "<li><span style='color:#4095b5'>26 dec 2017 - Post Christmas workouts?</span></li>\n",
    "<li><span style='color:#4095b5'>8 jun 2018 - 2018 Atlanta Moon Ride</span></li></span></li>\n",
    "\n",
    "#### <span style='color:#4095b5'>Outliers on Lower side Total or Avg Distance per day of week</span>\n",
    "<li><span style='color:#4095b5'>8 dec 2017 - Snow</span></li>\n",
    "<li><span style='color:#4095b5'>9 dec 2017 - Snow</span></li>\n",
    "<li><span style='color:#4095b5'>15 dec 2017 - Cold</span></li>\n",
    "<li><span style='color:#4095b5'>23 dec 2017 - Rainy saturday, close to Christmas</span></li>\n",
    "<li><span style='color:#4095b5'>12 jan 2018 - Cold and rainy</span></li>\n",
    "<li><span style='color:#4095b5'>10 feb 2018 - Rainy</span></li>\n"
   ]
  },
  {
   "cell_type": "markdown",
   "metadata": {},
   "source": [
    "<hr>\n",
    "<a name=\"write\"></a>\n",
    "\n",
    "## <span style='color:#3b748a'>VIII. Write the full DataFrame to a csv file.</span>"
   ]
  },
  {
   "cell_type": "code",
   "execution_count": 39,
   "metadata": {},
   "outputs": [],
   "source": [
    "df.to_csv('../data/atl/trips_all.csv', index=False)"
   ]
  },
  {
   "cell_type": "markdown",
   "metadata": {},
   "source": [
    "<hr>\n",
    "<a name=\"store\"></a>\n",
    "\n",
    "## <span style='color:#3b748a'>IX. For future reference.</span>"
   ]
  },
  {
   "cell_type": "code",
   "execution_count": null,
   "metadata": {},
   "outputs": [],
   "source": [
    "# df.groupby('Bike Name').sum()[['Distance [Miles]']].sort_values('Distance [Miles]')\n",
    "# df.groupby('Start Date').count()[['Duration']]\n",
    "# df.groupby(['Bike Name']).sum().sort_values(by='Distance [Miles]', ascending=True).tail()"
   ]
  },
  {
   "cell_type": "code",
   "execution_count": null,
   "metadata": {},
   "outputs": [],
   "source": []
  },
  {
   "cell_type": "code",
   "execution_count": null,
   "metadata": {},
   "outputs": [],
   "source": [
    "# outliers = pd.DataFrame()\n",
    "# outliers_distance = pd.DataFrame()\n",
    "# outliers_duration = pd.DataFrame()\n",
    "\n",
    "# trip_data = ['201709',\n",
    "#              '201710', '201711', '201712',\n",
    "#              '201801', '201802', '201803',\n",
    "#              '201804', '201805', '201806',\n",
    "#              '201807']\n",
    "\n",
    "# d = '201807'\n",
    "# print(\"Cleaning the data:\")\n",
    "# print(\"Month: {} \\nRows: {}\\t Cols: {}\\t NaNs: {}\".format(d, \n",
    "#                                                     df_data[d].shape[0], \n",
    "#                                                     df_data[d].shape[1], \n",
    "#                                                     sum(df_data[d].isnull().sum())))\n",
    "# df_temp = df_data[d].copy()\n",
    "# print(df_temp.shape)\n",
    "# df_temp = drop_columns(df_temp)\n",
    "# print(df_temp.shape)\n",
    "\n",
    "# df_temp.columns\n",
    "\n",
    "# df_temp = rename_columns(df_temp)\n",
    "# df_temp.columns\n",
    "\n",
    "# df_temp = calc_latlong(df_temp, None)\n",
    "# print(df_temp.shape)\n",
    "# print(sum(df.isnull().sum()))\n",
    "# df = drop_nans(df_temp)\n",
    "# print(df_temp.shape)\n",
    "# print(sum(df.isnull().sum()))\n",
    "\n",
    "# df_temp = clean_datatypes(df_temp)\n",
    "# df_temp = calc_distances(df_temp)\n",
    "# df_temp = reorder_cols(df_temp)\n",
    "\n",
    "# print(df_temp.shape)\n",
    "# df_temp = drop_trivial_trips(df_temp)\n",
    "# print(df_temp.shape)\n",
    "\n",
    "# df2 = df_temp[df_temp[\"Start Latitude\"] >= 33.9].copy()\n",
    "# outliers = outliers.append(df2)\n",
    "# df3 = df_temp[df_temp[\"End Latitude\"] >= 33.9].copy()\n",
    "# outliers = outliers.append(df3)\n",
    "# df4 = df_temp[df_temp[\"Start Latitude\"] < 33.5].copy()\n",
    "# outliers = outliers.append(df4)\n",
    "# df5 = df_temp[df_temp[\"End Latitude\"] < 33.5].copy()\n",
    "# outliers = outliers.append(df5)\n",
    "# df6 = df_temp[df_temp[\"Start Longitude\"] >= -83.0].copy()\n",
    "# outliers = outliers.append(df6)\n",
    "# df7 = df_temp[df_temp[\"End Longitude\"] >= -83.0].copy()\n",
    "# outliers = outliers.append(df7)\n",
    "\n",
    "# df8 = df_temp[df_temp[\"Duration\"] > pd.to_timedelta('24:00:00')].copy()\n",
    "# outliers_duration = outliers_duration.append(df8)\n",
    "# df9 = df_temp[df_temp[\"Distance [Miles]\"] >= 100.0].copy()\n",
    "# outliers_distance = outliers_distance.append(df9)\n",
    "\n",
    "# print(df_temp.shape)\n",
    "# df_temp = drop_outliers(df_temp)\n",
    "# print(df_temp.shape)\n",
    "\n",
    "# outliers.shape\n",
    "\n",
    "# outliers_distance.shape\n",
    "\n",
    "# outliers_duration.shape\n",
    "\n",
    "# outliers.sort_values(by=\"Start Latitude\")\n",
    "\n",
    "\n",
    "\n",
    "# outliers.to_csv('../data/atl/outliers.csv', index=False)\n",
    "# outliers_duration.to_csv('../data/atl/outliers_duration.csv', index=False)\n",
    "# outliers_distance.to_csv('../data/atl/outliers_distance.csv', index=False)\n",
    "\n",
    "# outliers_distance.sort_values(by='Distance [Miles]')"
   ]
  },
  {
   "cell_type": "code",
   "execution_count": null,
   "metadata": {},
   "outputs": [],
   "source": []
  }
 ],
 "metadata": {
  "kernelspec": {
   "display_name": "Python 3",
   "language": "python",
   "name": "python3"
  },
  "language_info": {
   "codemirror_mode": {
    "name": "ipython",
    "version": 3
   },
   "file_extension": ".py",
   "mimetype": "text/x-python",
   "name": "python",
   "nbconvert_exporter": "python",
   "pygments_lexer": "ipython3",
   "version": "3.6.5"
  }
 },
 "nbformat": 4,
 "nbformat_minor": 2
}
