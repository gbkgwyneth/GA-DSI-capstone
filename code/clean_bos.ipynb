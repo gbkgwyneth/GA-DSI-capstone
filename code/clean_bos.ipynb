{
 "cells": [
  {
   "cell_type": "markdown",
   "metadata": {},
   "source": [
    "# <span style='color:#3b748a'>The rental data for Boston is TOO large to upload to GitHub.</span>"
   ]
  },
  {
   "cell_type": "markdown",
   "metadata": {},
   "source": [
    "<img src=\"../images/bikes_banner.jpg\" width=\"1000\" />"
   ]
  },
  {
   "cell_type": "markdown",
   "metadata": {},
   "source": [
    "## <span style=\"color:#37535e\">Bicycle Share Usage</span>\n",
    "\n",
    "##  <span style='color:#3b748a'>Cleaning Boston Bluebikes data</span>\n",
    "\n",
    "<span style='color:#4095b5'>This notebook loads and cleans 12 months (September 2017 - August 2018) of data from the Boston Bluebikes bicycle share. There is data going back to 2015 that could be cleaned and used.</span>\n",
    "\n",
    "<span style='color:#4095b5'>Each row (observation) of data describes one bike ride on which a bike is taken. Each rental includes a starting place and time, a ending place and time, as well as duration, user, and bike information. </span>"
   ]
  },
  {
   "cell_type": "markdown",
   "metadata": {},
   "source": [
    "## <span style='color:#3b748a'>Table of contents</span>\n",
    "* <span style='color:#4095b5'>I.  <a href=\"#checking\"><span style='color:#4095b5'>Data checking functions.</span></a></span>\n",
    "* <span style='color:#4095b5'>II. <a href=\"#cleaning\"><span style='color:#4095b5'>Data cleaning functions.</span></a></span>\n",
    "* <span style='color:#4095b5'>III. <a href=\"#import\"><span style='color:#4095b5'>Import all data.</span></a></span>\n",
    "* <span style='color:#4095b5'>IV. <a href=\"#clean\"><span style='color:#4095b5'>Clean all data.</span></a></span>\n",
    "* <span style='color:#4095b5'>V. <a href=\"#merge\"><span style='color:#4095b5'>Merge the dataframes into 1 big one.</span></a></span>\n",
    "* <span style='color:#4095b5'>VI. <a href=\"#explore\"><span style='color:#4095b5'>Explore the data.</span></a></span>\n",
    "* <span style='color:#4095b5'>VII. <a href=\"#write\"><span style='color:#4095b5'>Write the full dataframe to a csv file.</span></a></span>\n",
    "\n",
    "## <span style='color:#3b748a'>External data required</span>\n",
    "<ul>\n",
    "    <li><span style='color:#4095b5'>../data/bos/&lt;month&gt;-bluebikes-tripdata.csv for each month in (201709 to 201807); NOT available in GitHub</span></li>\n",
    "</ul>\n",
    "\n",
    "\n",
    "## <span style='color:#3b748a'>Links</span>\n",
    "<ul>\n",
    "   <li><a href=\"https://www.bluebikes.com/system-data\"><span style='color:#4095b5'>Boston Bluebikes data</span></a></li>\n",
    "    <li><a href=\"plot_bos.ipynb\"><span style='color:#4095b5'>Plotting Boston data.</span></a></li>\n",
    "<hr>"
   ]
  },
  {
   "cell_type": "code",
   "execution_count": 1,
   "metadata": {},
   "outputs": [],
   "source": [
    "# Let's get the administrative stuff done first\n",
    "# import all the libraries and set up the plotting\n",
    "\n",
    "import pandas as pd\n",
    "import numpy as np\n",
    "from datetime import datetime,timedelta\n",
    "from geopy.distance import vincenty\n",
    "\n",
    "# Gloabal variables to track \n",
    "trivial_duration = 0\n",
    "trivial_distance = 0\n",
    "outliers_latlon = 0\n",
    "outliers_duration = 0\n",
    "outliers_distance = 0\n",
    "\n",
    "# GnBu_d\n",
    "colors = ['#37535e', '#3b748a', '#4095b5', '#52aec9', '#72bfc4', '#93d0bf']"
   ]
  },
  {
   "cell_type": "markdown",
   "metadata": {},
   "source": [
    "<hr>\n",
    "<a name=\"checking\"> </a>\n",
    "## <span style='color:#3b748a'>I. Data checking functions</span>"
   ]
  },
  {
   "cell_type": "code",
   "execution_count": 2,
   "metadata": {},
   "outputs": [],
   "source": [
    "# Check which non-numeric columns are missing values \n",
    "# and what the possible values are for each object column\n",
    "\n",
    "def check_cols(df):\n",
    "    cols = df.select_dtypes([np.object]).columns\n",
    "    for col in cols:\n",
    "        print(\"{} is {} and values are {}.\".format(col,df[col].dtype,df[col].unique()))\n",
    "        n_nan = df[col].isnull().sum()\n",
    "        if n_nan > 0:\n",
    "            print(\"{} has {} NaNs\".format(col,n_nan))\n",
    "            \n",
    "    cols = df.select_dtypes([np.int64,np.float64,np.uint64]).columns\n",
    "    for col in cols:\n",
    "        print(\"{} is {} and values are {} to {}.\".format(col,df[col].dtype,df[col].min(),df[col].max()))\n",
    "        n_nan = df[col].isnull().sum()\n",
    "        if n_nan > 0:\n",
    "            print(\"{} has {} NaNs\".format(col,n_nan))\n",
    "    return"
   ]
  },
  {
   "cell_type": "code",
   "execution_count": 3,
   "metadata": {},
   "outputs": [],
   "source": [
    "# Check which numeric columns are missing values\n",
    "\n",
    "def check_data(df):\n",
    "    s = df.shape\n",
    "\n",
    "    # Check for null values\n",
    "    null_data = df.isnull().sum()\n",
    "    null_data_count = sum(null_data)\n",
    "    print(\"Rows: {}\\t Cols: {}\\t NaNs: {}\".format(s[0],s[1],null_data_count))\n",
    "    if  null_data_count > 0:\n",
    "        print(\"Columns with NaN: {}\".format(list(null_data[null_data > 0].index)))\n",
    "\n",
    "    return"
   ]
  },
  {
   "cell_type": "markdown",
   "metadata": {},
   "source": [
    "<hr>\n",
    "<a name=\"cleaning\"></a>\n",
    "## <span style='color:#3b748a'> II. Data cleaning functions</span>\n",
    "\n",
    "<span style='color:#4095b5'>These functions clean the rental data.</span>"
   ]
  },
  {
   "cell_type": "markdown",
   "metadata": {},
   "source": [
    "### <span style='color:#4095b5'>Drop columns *NOT* in Atlanta data.</span>\n",
    "<span style='color:#52aec9'>I might want to add some back at some point.</span>"
   ]
  },
  {
   "cell_type": "code",
   "execution_count": 4,
   "metadata": {},
   "outputs": [],
   "source": [
    "def drop_columns(df):\n",
    "    cols_drop = ['start station id', 'end station id', 'usertype', 'birth year', 'gender']\n",
    "\n",
    "    # Can't drop a column that isn't there\n",
    "    cols_drop = list(set(df.columns) & set(cols_drop))\n",
    "    df.drop(cols_drop, axis=1, inplace=True)\n",
    "\n",
    "    return df"
   ]
  },
  {
   "cell_type": "markdown",
   "metadata": {},
   "source": [
    "### <span style='color:#4095b5'>Rename columns to match Atlanta data names.</span>"
   ]
  },
  {
   "cell_type": "code",
   "execution_count": 5,
   "metadata": {},
   "outputs": [],
   "source": [
    "def rename_columns(df):\n",
    "    df.rename(columns={'start station name' : 'Start Hub', \n",
    "                       'start station latitude' : 'Start Latitude',\n",
    "                       'start station longitude' : 'Start Longitude',\n",
    "                       'starttime' : 'Start Time', \n",
    "                       'end station name' : 'End Hub', \n",
    "                       'end station latitude' :'End Latitude', \n",
    "                       'end station longitude' : 'End Longitude', \n",
    "                       'stoptime' : 'End Time', \n",
    "                       'bikeid' :'Bike Name',\n",
    "                       'tripduration' : 'Duration'\n",
    "                      }, inplace=True)\n",
    "    return df"
   ]
  },
  {
   "cell_type": "markdown",
   "metadata": {},
   "source": [
    "### <span style='color:#4095b5'>Merge with hub data.</span>\n",
    "<span style='color:#52aec9'>We may have to use the start/end hubs to get start/end lat/long.</span>"
   ]
  },
  {
   "cell_type": "code",
   "execution_count": 6,
   "metadata": {},
   "outputs": [],
   "source": [
    "def calc_latlong(df, df_hubs):\n",
    "    # BOS: all rentals, even those from hubs, have lat/lon\n",
    "    return df"
   ]
  },
  {
   "cell_type": "markdown",
   "metadata": {},
   "source": [
    "### <span style='color:#4095b5'>Drop rows with nulls.</span>\n",
    "<span style='color:#52aec9'>Don't have any to drop right now.</span>"
   ]
  },
  {
   "cell_type": "code",
   "execution_count": 7,
   "metadata": {},
   "outputs": [],
   "source": [
    "def drop_nans(df):\n",
    "    return df"
   ]
  },
  {
   "cell_type": "markdown",
   "metadata": {},
   "source": [
    "### <span style='color:#4095b5'>Use appropriate datatypes.</span>\n",
    "<span style='color:#52aec9'>For example, fix Date/Time objects and cast Latitude and Longitude to floats.</span>"
   ]
  },
  {
   "cell_type": "code",
   "execution_count": 8,
   "metadata": {},
   "outputs": [],
   "source": [
    "def clean_datatypes(df):\n",
    "    df['Start Latitude'] = df['Start Latitude'].astype(float)\n",
    "    df['Start Longitude'] = df['Start Longitude'].astype(float)\n",
    "    df['End Latitude'] = df['End Latitude'].astype(float)\n",
    "    df['End Longitude'] = df['End Longitude'].astype(float)\n",
    "\n",
    "    # Turn times in datetime\n",
    "    df['Start Time'] = pd.to_datetime(df['Start Time'])\n",
    "    df['End Time'] = pd.to_datetime(df['End Time'])\n",
    "\n",
    "    # CREATE dates in datetime\n",
    "    df['Start Date'] = df['Start Time'].dt.date\n",
    "    df['End Date'] = df['End Time'].dt.date\n",
    "\n",
    "    # Fix the durations\n",
    "    df['Duration'] = pd.to_timedelta(df['Duration'], unit='s')\n",
    "    \n",
    "    return df"
   ]
  },
  {
   "cell_type": "markdown",
   "metadata": {},
   "source": [
    "### <span style='color:#4095b5'>Calculate distances.</span>\n",
    "<span style='color:#52aec9'><b>Poor</b> approximation. If bike was taken from and returned to same station, there will be a trivial distance.</span>"
   ]
  },
  {
   "cell_type": "code",
   "execution_count": 9,
   "metadata": {},
   "outputs": [],
   "source": [
    "def distance_calc (row):\n",
    "    start = (row['Start Latitude'], row['Start Longitude'])\n",
    "    stop = (row['End Latitude'], row['End Longitude'])\n",
    "\n",
    "    return vincenty(start, stop).miles"
   ]
  },
  {
   "cell_type": "code",
   "execution_count": 10,
   "metadata": {},
   "outputs": [],
   "source": [
    "def calc_distances(df):\n",
    "    df['Distance [Miles]'] = df.apply (lambda row: distance_calc (row),axis=1)\n",
    "    return df"
   ]
  },
  {
   "cell_type": "markdown",
   "metadata": {},
   "source": [
    "### <span style='color:#4095b5'>Reorder columns.</span>\n",
    "<span style='color:#52aec9'>Make order same as Atlanta data.</span>"
   ]
  },
  {
   "cell_type": "code",
   "execution_count": 11,
   "metadata": {},
   "outputs": [],
   "source": [
    "def reorder_cols(df):\n",
    "    columns = ['Start Hub', 'Start Latitude', 'Start Longitude', 'Start Date',\n",
    "       'Start Time', 'End Hub', 'End Latitude', 'End Longitude', 'End Date',\n",
    "       'End Time', 'Bike Name', 'Distance [Miles]', 'Duration']\n",
    "\n",
    "    df = df.reindex(columns=columns)\n",
    "    return df"
   ]
  },
  {
   "cell_type": "markdown",
   "metadata": {},
   "source": [
    "### <span style='color:#4095b5'>Drop trivial trips.</span>\n",
    "<span style='color:#52aec9'>Trivial trips have time less than 3 mins. We cannot drop for trivial distance, since we compute distance.</span>"
   ]
  },
  {
   "cell_type": "code",
   "execution_count": 12,
   "metadata": {},
   "outputs": [],
   "source": [
    "def drop_trivial_trips_distance(df):\n",
    "    df = df[df[\"Distance [Miles]\"] > 0.02].copy()\n",
    "    return df"
   ]
  },
  {
   "cell_type": "code",
   "execution_count": 13,
   "metadata": {},
   "outputs": [],
   "source": [
    "def drop_trivial_trips_duration(df):\n",
    "    df = df[df[\"Duration\"] >= pd.to_timedelta('00:03:00')].copy()\n",
    "    return df"
   ]
  },
  {
   "cell_type": "code",
   "execution_count": 14,
   "metadata": {},
   "outputs": [],
   "source": [
    "def drop_trivial_trips(df):\n",
    "    global trivial_duration\n",
    "    global trivial_distance\n",
    "\n",
    "    rows = df.shape[0]\n",
    "    df = drop_trivial_trips_duration(df)\n",
    "    rows_duration = df.shape[0]\n",
    "    trivial_duration += rows-rows_duration\n",
    "\n",
    "    # Calculated distance, don't drop\n",
    "    # df = drop_trivial_trips_distance(df)\n",
    "    rows_distance = df.shape[0]\n",
    "    trivial_distance += rows_duration-rows_distance\n",
    "\n",
    "    return df"
   ]
  },
  {
   "cell_type": "markdown",
   "metadata": {},
   "source": [
    "### <span style='color:#4095b5'>Drop outliers.</span>\n",
    "<ul>\n",
    "    <li><span style='color:#52aec9'>Only use rentals near Boston.</span></li> \n",
    "    <li><span style='color:#52aec9'>Don't keep rentals longer than 24 hours.</span></li> \n",
    "     <li><span style='color:#52aec9'>Don't keep rentals further than 100 miles.</span></li> \n",
    "</ul>"
   ]
  },
  {
   "cell_type": "code",
   "execution_count": 15,
   "metadata": {},
   "outputs": [],
   "source": [
    "def drop_outliers_latlon(df):\n",
    "    df = df[df[\"Start Latitude\"] < 42.45].copy()\n",
    "    df = df[df[\"End Latitude\"] < 42.45].copy()\n",
    "    df = df[df[\"Start Latitude\"] > 42.25].copy()\n",
    "    df = df[df[\"End Latitude\"] > 42.25].copy()\n",
    "\n",
    "    return df"
   ]
  },
  {
   "cell_type": "code",
   "execution_count": 16,
   "metadata": {},
   "outputs": [],
   "source": [
    "def drop_outliers_duration(df):\n",
    "    df = df[df[\"Duration\"] <= pd.to_timedelta('24:00:00')].copy()\n",
    "    return df"
   ]
  },
  {
   "cell_type": "code",
   "execution_count": 17,
   "metadata": {},
   "outputs": [],
   "source": [
    "def drop_outliers_distance(df):\n",
    "    df_temp = df[df[\"Distance [Miles]\"] >= 100.0]\n",
    "    if df_temp.shape[0]:\n",
    "        print(\"Long trip: \", df_temp[['Start Latitude','Start Longitude', 'Start Time', \n",
    "                                     'End Latitude', 'End Longitude', 'End Time', \n",
    "                                     'Distance [Miles]', 'Duration']])\n",
    "    df = df[df[\"Distance [Miles]\"] < 100.0].copy()\n",
    "    return df"
   ]
  },
  {
   "cell_type": "code",
   "execution_count": 18,
   "metadata": {},
   "outputs": [],
   "source": [
    "def drop_outliers(df):\n",
    "    global outliers_latlon\n",
    "    global outliers_duration\n",
    "    global outliers_distance\n",
    "    \n",
    "    rows = df.shape[0]\n",
    "    df = drop_outliers_latlon(df)\n",
    "    rows_latlon = df.shape[0]\n",
    "    outliers_latlon += rows - rows_latlon\n",
    "    \n",
    "    df = drop_outliers_duration(df)\n",
    "    rows_duration = df.shape[0]\n",
    "    outliers_duration += rows_latlon - rows_duration\n",
    "    \n",
    "    df = drop_outliers_distance(df)\n",
    "    rows_distance = df.shape[0]\n",
    "    outliers_distance += rows_duration - rows_distance\n",
    "    \n",
    "    return df"
   ]
  },
  {
   "cell_type": "markdown",
   "metadata": {},
   "source": [
    "### <span style='color:#4095b5'>Pull all of the cleaning together.</span>\n"
   ]
  },
  {
   "cell_type": "code",
   "execution_count": 19,
   "metadata": {},
   "outputs": [],
   "source": [
    "def clean_df(df, df_hubs=None):\n",
    "    global trivial_duration\n",
    "    global trivial_distance\n",
    "    global outliers_latlon\n",
    "    global outliers_duration\n",
    "    global outliers_distance\n",
    "\n",
    "    df = drop_columns(df)\n",
    "    df = rename_columns(df)\n",
    "    df = calc_latlong(df, df_hubs)\n",
    "    df = drop_nans(df)\n",
    "    df = clean_datatypes(df)\n",
    "    df = calc_distances(df)\n",
    "    df = reorder_cols(df)\n",
    "    df = drop_trivial_trips(df)\n",
    "    df = drop_outliers(df)\n",
    "\n",
    "    # Information about rows dropped\n",
    "    print(\"Trivial dur: {} dist: {}\".format(trivial_duration, \n",
    "                                                                              trivial_distance))\n",
    "    print(\"Outlier loc: {} dur: {} dist: {}\".format(outliers_latlon,\n",
    "                                                     outliers_duration,\n",
    "                                                     outliers_distance))\n",
    "    return df"
   ]
  },
  {
   "cell_type": "markdown",
   "metadata": {},
   "source": [
    "<hr>\n",
    "<a name=\"import\"></a>\n",
    "## <span style='color:#3b748a'> III. Import all data from Boston.</span>\n",
    "<span style='color:#4095b5'>Boston monthly data is too large to upload to GitHub.</span>"
   ]
  },
  {
   "cell_type": "code",
   "execution_count": 20,
   "metadata": {},
   "outputs": [],
   "source": [
    "# Boston data is by month from Jan 2015 on\n",
    "# For now, just load one year\n",
    "\n",
    "trip_data = ['201709',\n",
    "             '201710', '201711', '201712',\n",
    "             '201801', '201802', '201803',\n",
    "             '201804', '201805', '201806',\n",
    "             '201807', '201808']"
   ]
  },
  {
   "cell_type": "code",
   "execution_count": 21,
   "metadata": {},
   "outputs": [],
   "source": [
    "# Dictionary of DataFrames, one for each month\n",
    "df_data = dict()\n",
    "for d in trip_data:\n",
    "    df_data[d] = pd.read_csv(\"../data/bos/\"+str(d)+\"-bluebikes-tripdata.csv\")"
   ]
  },
  {
   "cell_type": "markdown",
   "metadata": {},
   "source": [
    "<hr>\n",
    "<a name=\"clean\"></a>\n",
    "\n",
    "## <span style='color:#3b748a'>IV. Clean all data from Boston.</span>\n",
    "<ul>\n",
    "    <li><span style='color:#4095b5'>Reform the data to match Atlanta data.</span></li>\n",
    "    <li><span style='color:#4095b5'>Calculate distances.</span></li>\n",
    "    <li><span style='color:#4095b5'>Drop the trivial trips.</span></li>\n",
    "    <li><span style='color:#4095b5'>Drop the outliers.</span></li>\n",
    "    <li><span style='color:#4095b5'>Use appropriate coumn types.</span></li>\n",
    "</ul>"
   ]
  },
  {
   "cell_type": "code",
   "execution_count": 22,
   "metadata": {},
   "outputs": [
    {
     "name": "stdout",
     "output_type": "stream",
     "text": [
      "Cleaning the data:\n",
      "Month: 201709 \n",
      "Rows: 165386\t Cols: 15\t NaNs: 0\n",
      "Trivial dur: 4901 dist: 0\n",
      "Outlier loc: 2 dur: 54 dist: 0\n",
      "Rows: 160429\t Cols: 13\t NaNs: 0\n",
      "Month: 201710 \n",
      "Rows: 163662\t Cols: 15\t NaNs: 0\n",
      "Trivial dur: 10401 dist: 0\n",
      "Outlier loc: 46 dur: 123 dist: 0\n",
      "Rows: 158049\t Cols: 13\t NaNs: 0\n",
      "Month: 201711 \n",
      "Rows: 105463\t Cols: 15\t NaNs: 0\n",
      "Trivial dur: 15047 dist: 0\n",
      "Outlier loc: 46 dur: 151 dist: 0\n",
      "Rows: 100789\t Cols: 13\t NaNs: 0\n",
      "Month: 201712 \n",
      "Rows: 55072\t Cols: 15\t NaNs: 0\n",
      "Trivial dur: 17262 dist: 0\n",
      "Outlier loc: 46 dur: 169 dist: 0\n",
      "Rows: 52839\t Cols: 13\t NaNs: 0\n",
      "Month: 201801 \n",
      "Rows: 40932\t Cols: 15\t NaNs: 1539\n",
      "Trivial dur: 18806 dist: 0\n",
      "Outlier loc: 46 dur: 184 dist: 0\n",
      "Rows: 39373\t Cols: 13\t NaNs: 0\n",
      "Month: 201802 \n",
      "Rows: 62817\t Cols: 15\t NaNs: 3497\n",
      "Trivial dur: 21258 dist: 0\n",
      "Outlier loc: 47 dur: 212 dist: 0\n",
      "Rows: 60336\t Cols: 13\t NaNs: 0\n",
      "Month: 201803 \n",
      "Rows: 62986\t Cols: 15\t NaNs: 4556\n",
      "Trivial dur: 23708 dist: 0\n",
      "Outlier loc: 47 dur: 233 dist: 0\n",
      "Rows: 60515\t Cols: 13\t NaNs: 0\n",
      "Month: 201804 \n",
      "Rows: 98194\t Cols: 15\t NaNs: 0\n",
      "Trivial dur: 27343 dist: 0\n",
      "Outlier loc: 47 dur: 283 dist: 0\n",
      "Rows: 94509\t Cols: 13\t NaNs: 0\n",
      "Month: 201805 \n",
      "Rows: 178850\t Cols: 15\t NaNs: 0\n",
      "Trivial dur: 31994 dist: 0\n",
      "Outlier loc: 47 dur: 367 dist: 0\n",
      "Rows: 174115\t Cols: 13\t NaNs: 0\n",
      "Month: 201806 \n",
      "Rows: 205352\t Cols: 15\t NaNs: 0\n",
      "Trivial dur: 36945 dist: 0\n",
      "Outlier loc: 47 dur: 491 dist: 0\n",
      "Rows: 200277\t Cols: 13\t NaNs: 0\n",
      "Month: 201807 \n",
      "Rows: 242891\t Cols: 15\t NaNs: 0\n",
      "Trivial dur: 42848 dist: 0\n",
      "Outlier loc: 49 dur: 699 dist: 0\n",
      "Rows: 236778\t Cols: 13\t NaNs: 0\n",
      "Month: 201808 \n",
      "Rows: 236038\t Cols: 15\t NaNs: 0\n",
      "Trivial dur: 48323 dist: 0\n",
      "Outlier loc: 49 dur: 913 dist: 0\n",
      "Rows: 230349\t Cols: 13\t NaNs: 0\n"
     ]
    }
   ],
   "source": [
    "# For each month, clean the DataFrame\n",
    "print(\"Cleaning the data:\")\n",
    "for d in trip_data:\n",
    "    print(\"Month: {} \\nRows: {}\\t Cols: {}\\t NaNs: {}\".format(d, \n",
    "                                                    df_data[d].shape[0], \n",
    "                                                    df_data[d].shape[1], \n",
    "                                                    sum(df_data[d].isnull().sum())))\n",
    "    df_data[d] = clean_df(df_data[d])\n",
    "    check_data(df_data[d])"
   ]
  },
  {
   "cell_type": "markdown",
   "metadata": {},
   "source": [
    "<hr>\n",
    "<a name=\"merge\"></a>\n",
    "\n",
    "## <span style='color:#3b748a'> V. Merge the DataFrames into 1 big DataFrame</span>"
   ]
  },
  {
   "cell_type": "code",
   "execution_count": 23,
   "metadata": {},
   "outputs": [],
   "source": [
    "n_rows = 0\n",
    "df = pd.DataFrame()\n",
    "for d in trip_data:\n",
    "    n_rows += df_data[d].shape[0]\n",
    "    df = df.append(df_data[d])\n",
    "\n",
    "if n_rows != df.shape[0]:\n",
    "    print(\"There is a problem with the DataFrame merge!\")"
   ]
  },
  {
   "cell_type": "markdown",
   "metadata": {},
   "source": [
    "<hr>\n",
    "<a name=\"explore\"></a>\n",
    "\n",
    "## <span style='color:#3b748a'> VI. Explore the data.</span>"
   ]
  },
  {
   "cell_type": "code",
   "execution_count": 24,
   "metadata": {},
   "outputs": [
    {
     "data": {
      "text/html": [
       "<div>\n",
       "<style scoped>\n",
       "    .dataframe tbody tr th:only-of-type {\n",
       "        vertical-align: middle;\n",
       "    }\n",
       "\n",
       "    .dataframe tbody tr th {\n",
       "        vertical-align: top;\n",
       "    }\n",
       "\n",
       "    .dataframe thead th {\n",
       "        text-align: right;\n",
       "    }\n",
       "</style>\n",
       "<table border=\"1\" class=\"dataframe\">\n",
       "  <thead>\n",
       "    <tr style=\"text-align: right;\">\n",
       "      <th></th>\n",
       "      <th>Start Hub</th>\n",
       "      <th>Start Latitude</th>\n",
       "      <th>Start Longitude</th>\n",
       "      <th>Start Date</th>\n",
       "      <th>Start Time</th>\n",
       "      <th>End Hub</th>\n",
       "      <th>End Latitude</th>\n",
       "      <th>End Longitude</th>\n",
       "      <th>End Date</th>\n",
       "      <th>End Time</th>\n",
       "      <th>Bike Name</th>\n",
       "      <th>Distance [Miles]</th>\n",
       "      <th>Duration</th>\n",
       "    </tr>\n",
       "  </thead>\n",
       "  <tbody>\n",
       "    <tr>\n",
       "      <th>0</th>\n",
       "      <td>University Park</td>\n",
       "      <td>42.362648</td>\n",
       "      <td>-71.100061</td>\n",
       "      <td>2017-09-01</td>\n",
       "      <td>2017-09-01 00:00:56</td>\n",
       "      <td>MIT Vassar St</td>\n",
       "      <td>42.355601</td>\n",
       "      <td>-71.103945</td>\n",
       "      <td>2017-09-01</td>\n",
       "      <td>2017-09-01 00:13:36</td>\n",
       "      <td>1572</td>\n",
       "      <td>0.525436</td>\n",
       "      <td>00:12:39</td>\n",
       "    </tr>\n",
       "    <tr>\n",
       "      <th>1</th>\n",
       "      <td>Watermark Seaport - Boston Wharf Rd at Seaport...</td>\n",
       "      <td>42.351586</td>\n",
       "      <td>-71.045693</td>\n",
       "      <td>2017-09-01</td>\n",
       "      <td>2017-09-01 00:01:08</td>\n",
       "      <td>Cambridge St at Joy St</td>\n",
       "      <td>42.361304</td>\n",
       "      <td>-71.065210</td>\n",
       "      <td>2017-09-01</td>\n",
       "      <td>2017-09-01 00:07:20</td>\n",
       "      <td>1</td>\n",
       "      <td>1.203407</td>\n",
       "      <td>00:06:12</td>\n",
       "    </tr>\n",
       "    <tr>\n",
       "      <th>2</th>\n",
       "      <td>MIT Stata Center at Vassar St / Main St</td>\n",
       "      <td>42.362131</td>\n",
       "      <td>-71.091156</td>\n",
       "      <td>2017-09-01</td>\n",
       "      <td>2017-09-01 00:03:07</td>\n",
       "      <td>MIT Vassar St</td>\n",
       "      <td>42.355601</td>\n",
       "      <td>-71.103945</td>\n",
       "      <td>2017-09-01</td>\n",
       "      <td>2017-09-01 00:07:40</td>\n",
       "      <td>995</td>\n",
       "      <td>0.794817</td>\n",
       "      <td>00:04:32</td>\n",
       "    </tr>\n",
       "    <tr>\n",
       "      <th>3</th>\n",
       "      <td>University Park</td>\n",
       "      <td>42.362648</td>\n",
       "      <td>-71.100061</td>\n",
       "      <td>2017-09-01</td>\n",
       "      <td>2017-09-01 00:04:07</td>\n",
       "      <td>MIT Vassar St</td>\n",
       "      <td>42.355601</td>\n",
       "      <td>-71.103945</td>\n",
       "      <td>2017-09-01</td>\n",
       "      <td>2017-09-01 00:12:42</td>\n",
       "      <td>635</td>\n",
       "      <td>0.525436</td>\n",
       "      <td>00:08:35</td>\n",
       "    </tr>\n",
       "    <tr>\n",
       "      <th>4</th>\n",
       "      <td>Longwood Ave at Binney St</td>\n",
       "      <td>42.338629</td>\n",
       "      <td>-71.106500</td>\n",
       "      <td>2017-09-01</td>\n",
       "      <td>2017-09-01 00:06:00</td>\n",
       "      <td>Coolidge Corner - Beacon St @ Centre St</td>\n",
       "      <td>42.341598</td>\n",
       "      <td>-71.123338</td>\n",
       "      <td>2017-09-01</td>\n",
       "      <td>2017-09-01 00:15:16</td>\n",
       "      <td>1862</td>\n",
       "      <td>0.886225</td>\n",
       "      <td>00:09:16</td>\n",
       "    </tr>\n",
       "  </tbody>\n",
       "</table>\n",
       "</div>"
      ],
      "text/plain": [
       "                                           Start Hub  Start Latitude  \\\n",
       "0                                    University Park       42.362648   \n",
       "1  Watermark Seaport - Boston Wharf Rd at Seaport...       42.351586   \n",
       "2            MIT Stata Center at Vassar St / Main St       42.362131   \n",
       "3                                    University Park       42.362648   \n",
       "4                          Longwood Ave at Binney St       42.338629   \n",
       "\n",
       "   Start Longitude  Start Date          Start Time  \\\n",
       "0       -71.100061  2017-09-01 2017-09-01 00:00:56   \n",
       "1       -71.045693  2017-09-01 2017-09-01 00:01:08   \n",
       "2       -71.091156  2017-09-01 2017-09-01 00:03:07   \n",
       "3       -71.100061  2017-09-01 2017-09-01 00:04:07   \n",
       "4       -71.106500  2017-09-01 2017-09-01 00:06:00   \n",
       "\n",
       "                                   End Hub  End Latitude  End Longitude  \\\n",
       "0                            MIT Vassar St     42.355601     -71.103945   \n",
       "1                   Cambridge St at Joy St     42.361304     -71.065210   \n",
       "2                            MIT Vassar St     42.355601     -71.103945   \n",
       "3                            MIT Vassar St     42.355601     -71.103945   \n",
       "4  Coolidge Corner - Beacon St @ Centre St     42.341598     -71.123338   \n",
       "\n",
       "     End Date            End Time  Bike Name  Distance [Miles] Duration  \n",
       "0  2017-09-01 2017-09-01 00:13:36       1572          0.525436 00:12:39  \n",
       "1  2017-09-01 2017-09-01 00:07:20          1          1.203407 00:06:12  \n",
       "2  2017-09-01 2017-09-01 00:07:40        995          0.794817 00:04:32  \n",
       "3  2017-09-01 2017-09-01 00:12:42        635          0.525436 00:08:35  \n",
       "4  2017-09-01 2017-09-01 00:15:16       1862          0.886225 00:09:16  "
      ]
     },
     "execution_count": 24,
     "metadata": {},
     "output_type": "execute_result"
    }
   ],
   "source": [
    "df.head()    "
   ]
  },
  {
   "cell_type": "code",
   "execution_count": 25,
   "metadata": {},
   "outputs": [
    {
     "data": {
      "text/plain": [
       "(1568358, 13)"
      ]
     },
     "execution_count": 25,
     "metadata": {},
     "output_type": "execute_result"
    }
   ],
   "source": [
    "df.shape"
   ]
  },
  {
   "cell_type": "code",
   "execution_count": 26,
   "metadata": {},
   "outputs": [
    {
     "data": {
      "text/plain": [
       "Index(['Start Hub', 'Start Latitude', 'Start Longitude', 'Start Date',\n",
       "       'Start Time', 'End Hub', 'End Latitude', 'End Longitude', 'End Date',\n",
       "       'End Time', 'Bike Name', 'Distance [Miles]', 'Duration'],\n",
       "      dtype='object')"
      ]
     },
     "execution_count": 26,
     "metadata": {},
     "output_type": "execute_result"
    }
   ],
   "source": [
    "df.columns"
   ]
  },
  {
   "cell_type": "code",
   "execution_count": 27,
   "metadata": {},
   "outputs": [
    {
     "data": {
      "text/html": [
       "<div>\n",
       "<style scoped>\n",
       "    .dataframe tbody tr th:only-of-type {\n",
       "        vertical-align: middle;\n",
       "    }\n",
       "\n",
       "    .dataframe tbody tr th {\n",
       "        vertical-align: top;\n",
       "    }\n",
       "\n",
       "    .dataframe thead th {\n",
       "        text-align: right;\n",
       "    }\n",
       "</style>\n",
       "<table border=\"1\" class=\"dataframe\">\n",
       "  <thead>\n",
       "    <tr style=\"text-align: right;\">\n",
       "      <th></th>\n",
       "      <th>Start Latitude</th>\n",
       "      <th>Start Longitude</th>\n",
       "      <th>End Latitude</th>\n",
       "      <th>End Longitude</th>\n",
       "      <th>Bike Name</th>\n",
       "      <th>Distance [Miles]</th>\n",
       "      <th>Duration</th>\n",
       "    </tr>\n",
       "  </thead>\n",
       "  <tbody>\n",
       "    <tr>\n",
       "      <th>count</th>\n",
       "      <td>1.568358e+06</td>\n",
       "      <td>1.568358e+06</td>\n",
       "      <td>1.568358e+06</td>\n",
       "      <td>1.568358e+06</td>\n",
       "      <td>1.568358e+06</td>\n",
       "      <td>1.568358e+06</td>\n",
       "      <td>1568358</td>\n",
       "    </tr>\n",
       "    <tr>\n",
       "      <th>mean</th>\n",
       "      <td>4.235767e+01</td>\n",
       "      <td>-7.108617e+01</td>\n",
       "      <td>4.235767e+01</td>\n",
       "      <td>-7.108587e+01</td>\n",
       "      <td>1.668700e+03</td>\n",
       "      <td>1.222374e+00</td>\n",
       "      <td>0 days 00:17:52.370378</td>\n",
       "    </tr>\n",
       "    <tr>\n",
       "      <th>std</th>\n",
       "      <td>1.445596e-02</td>\n",
       "      <td>2.493741e-02</td>\n",
       "      <td>1.440004e-02</td>\n",
       "      <td>2.493921e-02</td>\n",
       "      <td>1.021028e+03</td>\n",
       "      <td>8.056844e-01</td>\n",
       "      <td>0 days 00:35:44.760398</td>\n",
       "    </tr>\n",
       "    <tr>\n",
       "      <th>min</th>\n",
       "      <td>4.226790e+01</td>\n",
       "      <td>-7.116649e+01</td>\n",
       "      <td>4.226790e+01</td>\n",
       "      <td>-7.116649e+01</td>\n",
       "      <td>1.000000e+00</td>\n",
       "      <td>0.000000e+00</td>\n",
       "      <td>0 days 00:03:00</td>\n",
       "    </tr>\n",
       "    <tr>\n",
       "      <th>25%</th>\n",
       "      <td>4.234876e+01</td>\n",
       "      <td>-7.110394e+01</td>\n",
       "      <td>4.234876e+01</td>\n",
       "      <td>-7.110394e+01</td>\n",
       "      <td>7.970000e+02</td>\n",
       "      <td>6.441472e-01</td>\n",
       "      <td>0 days 00:07:08</td>\n",
       "    </tr>\n",
       "    <tr>\n",
       "      <th>50%</th>\n",
       "      <td>4.235810e+01</td>\n",
       "      <td>-7.108809e+01</td>\n",
       "      <td>4.235810e+01</td>\n",
       "      <td>-7.108799e+01</td>\n",
       "      <td>1.650000e+03</td>\n",
       "      <td>1.026823e+00</td>\n",
       "      <td>0 days 00:11:45</td>\n",
       "    </tr>\n",
       "    <tr>\n",
       "      <th>75%</th>\n",
       "      <td>4.236567e+01</td>\n",
       "      <td>-7.106526e+01</td>\n",
       "      <td>4.236567e+01</td>\n",
       "      <td>-7.106461e+01</td>\n",
       "      <td>2.517000e+03</td>\n",
       "      <td>1.633256e+00</td>\n",
       "      <td>0 days 00:19:25</td>\n",
       "    </tr>\n",
       "    <tr>\n",
       "      <th>max</th>\n",
       "      <td>4.240630e+01</td>\n",
       "      <td>-7.100610e+01</td>\n",
       "      <td>4.240630e+01</td>\n",
       "      <td>-7.100610e+01</td>\n",
       "      <td>4.219000e+03</td>\n",
       "      <td>7.039046e+00</td>\n",
       "      <td>0 days 23:58:30</td>\n",
       "    </tr>\n",
       "  </tbody>\n",
       "</table>\n",
       "</div>"
      ],
      "text/plain": [
       "       Start Latitude  Start Longitude  End Latitude  End Longitude  \\\n",
       "count    1.568358e+06     1.568358e+06  1.568358e+06   1.568358e+06   \n",
       "mean     4.235767e+01    -7.108617e+01  4.235767e+01  -7.108587e+01   \n",
       "std      1.445596e-02     2.493741e-02  1.440004e-02   2.493921e-02   \n",
       "min      4.226790e+01    -7.116649e+01  4.226790e+01  -7.116649e+01   \n",
       "25%      4.234876e+01    -7.110394e+01  4.234876e+01  -7.110394e+01   \n",
       "50%      4.235810e+01    -7.108809e+01  4.235810e+01  -7.108799e+01   \n",
       "75%      4.236567e+01    -7.106526e+01  4.236567e+01  -7.106461e+01   \n",
       "max      4.240630e+01    -7.100610e+01  4.240630e+01  -7.100610e+01   \n",
       "\n",
       "          Bike Name  Distance [Miles]                Duration  \n",
       "count  1.568358e+06      1.568358e+06                 1568358  \n",
       "mean   1.668700e+03      1.222374e+00  0 days 00:17:52.370378  \n",
       "std    1.021028e+03      8.056844e-01  0 days 00:35:44.760398  \n",
       "min    1.000000e+00      0.000000e+00         0 days 00:03:00  \n",
       "25%    7.970000e+02      6.441472e-01         0 days 00:07:08  \n",
       "50%    1.650000e+03      1.026823e+00         0 days 00:11:45  \n",
       "75%    2.517000e+03      1.633256e+00         0 days 00:19:25  \n",
       "max    4.219000e+03      7.039046e+00         0 days 23:58:30  "
      ]
     },
     "execution_count": 27,
     "metadata": {},
     "output_type": "execute_result"
    }
   ],
   "source": [
    "df.describe()"
   ]
  },
  {
   "cell_type": "code",
   "execution_count": 28,
   "metadata": {},
   "outputs": [],
   "source": [
    "if False:\n",
    "    check_data(df)\n",
    "    check_cols(df)"
   ]
  },
  {
   "cell_type": "code",
   "execution_count": 29,
   "metadata": {},
   "outputs": [
    {
     "name": "stdout",
     "output_type": "stream",
     "text": [
      "Min start date: 2017-09-01\n",
      "Min end date: 2017-09-01\n",
      "Max start date: 2018-08-31\n",
      "Max end date: 2018-09-01\n",
      "Number of days: 365\n"
     ]
    }
   ],
   "source": [
    "# Check dates (Sep 2017 - July 2018 has 334 days)\n",
    "print(\"Min start date: {}\".format(df['Start Date'].min()))\n",
    "print(\"Min end date: {}\".format(df['End Date'].min()))\n",
    "print(\"Max start date: {}\".format(df['Start Date'].max()))\n",
    "print(\"Max end date: {}\".format(df['End Date'].max()))\n",
    "print(\"Number of days: {}\".format(len(set(df['Start Date']))))"
   ]
  },
  {
   "cell_type": "markdown",
   "metadata": {},
   "source": [
    "#### <span style='color:#4095b5'>Fewest rentals</span>\n",
    "<li><span style='color:#4095b5'>13 mar 2018 - NO rentals; BLIZZARD</span></li>\n",
    "    \n",
    "#### <span style='color:#4095b5'>Most rentals</span>\n",
    "<li><span style='color:#4095b5'>31 jul 2018 - Not clear</span></li>\n",
    "\n",
    "#### <span style='color:#4095b5'>Outliers on Upper side of Total or Avg Duration per day of week</span>\n",
    "<li><span style='color:#4095b5'>28 may 2018 - Memorial Day</span></li>\n",
    "<li><span style='color:#4095b5'>4 jul 2018</span></li>\n",
    "\n",
    "#### <span style='color:#4095b5'>Outliers on Lower side of Total or Avg Duration per day of week</span>\n",
    "<li><span style='color:#4095b5'>13 mar 2018 - NO rentals; BLIZZARD</span></li>\n"
   ]
  },
  {
   "cell_type": "markdown",
   "metadata": {},
   "source": [
    "<hr>\n",
    "<a name=\"write\"></a>\n",
    "\n",
    "## <span style='color:#3b748a'>VII. Write the full DataFrame to a csv file.</span>"
   ]
  },
  {
   "cell_type": "code",
   "execution_count": 30,
   "metadata": {},
   "outputs": [],
   "source": [
    "df.to_csv('../data/bos/trips_all.csv', index=False)"
   ]
  },
  {
   "cell_type": "code",
   "execution_count": null,
   "metadata": {},
   "outputs": [],
   "source": []
  },
  {
   "cell_type": "code",
   "execution_count": null,
   "metadata": {},
   "outputs": [],
   "source": []
  }
 ],
 "metadata": {
  "kernelspec": {
   "display_name": "Python 3",
   "language": "python",
   "name": "python3"
  },
  "language_info": {
   "codemirror_mode": {
    "name": "ipython",
    "version": 3
   },
   "file_extension": ".py",
   "mimetype": "text/x-python",
   "name": "python",
   "nbconvert_exporter": "python",
   "pygments_lexer": "ipython3",
   "version": "3.6.5"
  }
 },
 "nbformat": 4,
 "nbformat_minor": 2
}
