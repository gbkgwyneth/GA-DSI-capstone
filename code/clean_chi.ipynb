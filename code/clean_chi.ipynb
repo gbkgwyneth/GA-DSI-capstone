{
 "cells": [
  {
   "cell_type": "markdown",
   "metadata": {},
   "source": [
    "# <span style='color:#3b748a'>The rental data for Chicago is TOO large to upload to GitHub.</span>"
   ]
  },
  {
   "cell_type": "markdown",
   "metadata": {},
   "source": [
    "<img src=\"../images/bikes_banner.jpg\" width=\"1000\" />"
   ]
  },
  {
   "cell_type": "markdown",
   "metadata": {},
   "source": [
    "# <span style=\"color:#37535e\">Bicycle Share Usage</span>\n",
    "\n",
    "##  <span style='color:#3b748a'>Cleaning Chicago Divvy data</span>\n",
    "\n",
    "<span style='color:#4095b5'>This notebook loads and cleans 12 months (July 2017 - June 2018) of data from the Chicago Divvy bicycle share. There is data going back to 2013 that could be cleaned and used. The quarterly data from Jul-Sep 2017 is in a very large csv file, so these months are broken out to be processed more easily.</span>\n",
    "\n",
    "<span style='color:#4095b5'>Each row (observation) of data describes one bike ride on which a bike is taken. Each rental includes a starting place and time, a ending place and time, as well as duration, user, and bike information. </span>"
   ]
  },
  {
   "cell_type": "markdown",
   "metadata": {},
   "source": [
    "## <span style='color:#3b748a'>Table of contents</span>\n",
    "* <span style='color:#4095b5'>I.  <a href=\"#checking\"><span style='color:#4095b5'>Data checking functions.</span></a></span>\n",
    "* <span style='color:#4095b5'>II. <a href=\"#cleaning\"><span style='color:#4095b5'>Data cleaning functions.</span></a></span>\n",
    "* <span style='color:#4095b5'>III. <a href=\"#convert\"><span style='color:#4095b5'>Extract Jul, Aug, Sep from 2017 Q3 data.</span></a></span>\n",
    "* <span style='color:#4095b5'>IV. <a href=\"#import\"><span style='color:#4095b5'>Import all data.</span></a></span>\n",
    "* <span style='color:#4095b5'>V. <a href=\"#clean\"><span style='color:#4095b5'>Clean all data.</span></a></span>\n",
    "* <span style='color:#4095b5'>VI. <a href=\"#merge\"><span style='color:#4095b5'>Merge the dataframes into 1 big one.</span></a></span>\n",
    "* <span style='color:#4095b5'>VII. <a href=\"#explore\"><span style='color:#4095b5'>Explore the data.</span></a></span>\n",
    "* <span style='color:#4095b5'>VIII. <a href=\"#write\"><span style='color:#4095b5'>Write the full DataFrame to a csv file.</span></a></span>\n",
    "\n",
    "## <span style='color:#3b748a'>External data required</span>\n",
    "<ul>\n",
    "    <li><span style='color:#4095b5'>../data/chi/Divvy_Trips_XXX.csv for each quarter or month; NOT available in GitHub</span></li>\n",
    "    <li><span style='color:#4095b5'>../data/chi/Divvy_Stations_2017_Q3Q4.csv for hub data; NOT available in GitHub</span></li>\n",
    "</ul>\n",
    "\n",
    "## <span style='color:#3b748a'>Links</span>\n",
    "<ul>\n",
    "    <li><a href=\"https://www.divvybikes.com/system-data\"><span style='color:#4095b5'>Chicago Divvy data</span></a></li>\n",
    "    <li><a href=\"plot_chi.ipynb\"><span style='color:#4095b5'>Plotting Chicago data.</span></a></li>\n",
    "</ul>\n",
    "<hr>"
   ]
  },
  {
   "cell_type": "code",
   "execution_count": 1,
   "metadata": {},
   "outputs": [],
   "source": [
    "# Let's get the administrative stuff done first\n",
    "# import all the libraries and set up the plotting\n",
    "\n",
    "import pandas as pd\n",
    "import numpy as np\n",
    "from datetime import datetime,timedelta\n",
    "from geopy.distance import vincenty\n",
    "\n",
    "# Gloabal variables to track \n",
    "trivial_duration = 0\n",
    "trivial_distance = 0\n",
    "outliers_latlon = 0\n",
    "outliers_duration = 0\n",
    "outliers_distance = 0\n",
    "\n",
    "# GnBu_d\n",
    "colors = ['#37535e', '#3b748a', '#4095b5', '#52aec9', '#72bfc4', '#93d0bf']"
   ]
  },
  {
   "cell_type": "markdown",
   "metadata": {},
   "source": [
    "<hr>\n",
    "<a name=\"checking\"> </a>\n",
    "## <span style='color:#3b748a'>I. Data checking functions</span>"
   ]
  },
  {
   "cell_type": "code",
   "execution_count": 2,
   "metadata": {},
   "outputs": [],
   "source": [
    "# Check which non-numeric columns are missing values and what the possible values are for each object column\n",
    "\n",
    "def check_cols(df):\n",
    "    cols = df.select_dtypes([np.object]).columns\n",
    "    for col in cols:\n",
    "        print(\"{} is {} and values are {}.\".format(col,df[col].dtype,df[col].unique()))\n",
    "        n_nan = df[col].isnull().sum()\n",
    "        if n_nan > 0:\n",
    "            print(\"{} has {} NaNs\".format(col,n_nan))\n",
    "            \n",
    "    cols = df.select_dtypes([np.int64,np.float64,np.uint64]).columns\n",
    "    for col in cols:\n",
    "        print(\"{} is {} and values are {} to {}.\".format(col,df[col].dtype,df[col].min(),df[col].max()))\n",
    "        n_nan = df[col].isnull().sum()\n",
    "        if n_nan > 0:\n",
    "            print(\"{} has {} NaNs\".format(col,n_nan))\n",
    "    return"
   ]
  },
  {
   "cell_type": "code",
   "execution_count": 3,
   "metadata": {},
   "outputs": [],
   "source": [
    "# Check which numeric columns are missing values\n",
    "\n",
    "def check_data(df):\n",
    "    s = df.shape\n",
    "\n",
    "    # Check for null values\n",
    "    null_data = df.isnull().sum()\n",
    "    null_data_count = sum(df.isnull().sum())\n",
    "    print(\"Rows: {}\\t Cols: {}\\t NaNs: {}\".format(s[0],s[1],null_data_count))\n",
    "    if  null_data_count > 0:\n",
    "        print(\"Columns with NaN: {}\".format(list(null_data[null_data > 0].index)))\n",
    "\n",
    "    return"
   ]
  },
  {
   "cell_type": "markdown",
   "metadata": {},
   "source": [
    "<hr>\n",
    "<a name=\"cleaning\"></a>\n",
    "## <span style='color:#3b748a'> II. Data cleaning functions</span>\n",
    "\n",
    "<span style='color:#4095b5'>These functions clean the trip data.</span>"
   ]
  },
  {
   "cell_type": "markdown",
   "metadata": {},
   "source": [
    "### <span style='color:#4095b5'>Drop columns *NOT* in Atlanta data.</span>\n",
    "<span style='color:#52aec9'>I might want to add some back at some point.</span>"
   ]
  },
  {
   "cell_type": "code",
   "execution_count": 4,
   "metadata": {},
   "outputs": [],
   "source": [
    "def drop_columns(df):\n",
    "    cols_drop = ['trip_id', 'from_station_id', 'to_station_id','usertype', 'gender', 'birthyear',\n",
    "                 '01 - Rental Details Rental ID', '03 - Rental Start Station ID', '02 - Rental End Station ID', \n",
    "                   'User Type', 'Member Gender', '05 - Member Details Member Birthday Year']\n",
    "\n",
    "    # Can't drop a column that isn't there\n",
    "    cols_drop = list(set(df.columns) & set(cols_drop))\n",
    "    df.drop(cols_drop, axis=1, inplace=True)\n",
    "\n",
    "    return df"
   ]
  },
  {
   "cell_type": "markdown",
   "metadata": {},
   "source": [
    "### <span style='color:#4095b5'>Rename columns to match Atlanta data names.</span>"
   ]
  },
  {
   "cell_type": "code",
   "execution_count": 5,
   "metadata": {},
   "outputs": [],
   "source": [
    "def rename_columns(df):\n",
    "    df.rename(columns={'from_station_name' : 'Start Hub', \n",
    "                       'start_time' : 'Start Time', \n",
    "                       'to_station_name' : 'End Hub', \n",
    "                       'end_time' : 'End Time', \n",
    "                       'bikeid' :'Bike Name',\n",
    "                       'tripduration' : 'Duration',\n",
    "                       '03 - Rental Start Station Name'  : 'Start Hub', \n",
    "                       '01 - Rental Details Local Start Time' : 'Start Time', \n",
    "                       '02 - Rental End Station Name' : 'End Hub',\n",
    "                       '01 - Rental Details Local End Time' : 'End Time', \n",
    "                       '01 - Rental Details Bike ID' :'Bike Name',\n",
    "                       '01 - Rental Details Duration In Seconds Uncapped': 'Duration'        \n",
    "                  }, inplace=True)\n",
    "    return df"
   ]
  },
  {
   "cell_type": "markdown",
   "metadata": {},
   "source": [
    "### <span style='color:#4095b5'>Merge with hub data.</span>\n",
    "<span style='color:#52aec9'>We may have to use the start/end hubs to get start/end lat/long.</span>"
   ]
  },
  {
   "cell_type": "code",
   "execution_count": 6,
   "metadata": {},
   "outputs": [],
   "source": [
    "def calc_latlong(df, df_hubs):\n",
    "    df = df.merge(df_hubs, left_on='Start Hub', right_on='name', how='left')\n",
    "    df.drop('name', axis = 1, inplace=True)\n",
    "    df.rename(columns={'latitude' : 'Start Latitude', \n",
    "                       'longitude' : 'Start Longitude'\n",
    "                      }, inplace=True)\n",
    "    \n",
    "    df = df.merge(df_hubs, left_on='End Hub', right_on='name', how='left')\n",
    "    df.drop('name', axis = 1, inplace=True)\n",
    "    df.rename(columns={'latitude' : 'End Latitude', \n",
    "                       'longitude' : 'End Longitude'\n",
    "                      }, inplace=True)\n",
    "\n",
    "    return df"
   ]
  },
  {
   "cell_type": "markdown",
   "metadata": {},
   "source": [
    "### <span style='color:#4095b5'>Drop rows with nulls.</span>\n",
    "<span style='color:#52aec9'>Some hubs do not have lat/long information. We need to figure out how to compute these if we are going to use them in a model!!</span>"
   ]
  },
  {
   "cell_type": "code",
   "execution_count": 7,
   "metadata": {},
   "outputs": [],
   "source": [
    "def drop_nans(df):\n",
    "    rows = df.shape[0]\n",
    "    df.dropna(subset=['Start Latitude', 'Start Longitude', \n",
    "                      'End Latitude', 'End Longitude'], \n",
    "              inplace=True)\n",
    "    print(\"Drop lat/lon rows: {}\".format(rows-df.shape[0]))\n",
    "    return df\n"
   ]
  },
  {
   "cell_type": "markdown",
   "metadata": {},
   "source": [
    "### <span style='color:#4095b5'>Use appropriate datatypes.</span>\n",
    "<span style='color:#52aec9'>For example, fix Date/Time objects and cast Latitude and Longitude to floats.</span>"
   ]
  },
  {
   "cell_type": "code",
   "execution_count": 8,
   "metadata": {},
   "outputs": [],
   "source": [
    "def clean_datatypes(df):\n",
    "    df['Start Latitude'] = df['Start Latitude'].astype(float)\n",
    "    df['Start Longitude'] = df['Start Longitude'].astype(float)\n",
    "    df['End Latitude'] = df['End Latitude'].astype(float)\n",
    "    df['End Longitude'] = df['End Longitude'].astype(float)\n",
    "\n",
    "    # Turn times in datetime\n",
    "    df['Start Time'] = pd.to_datetime(df['Start Time'])\n",
    "    df['End Time'] = pd.to_datetime(df['End Time'])\n",
    "\n",
    "    # CREATE dates in datetime\n",
    "    df['Start Date'] = df['Start Time'].dt.date\n",
    "    df['End Date'] = df['End Time'].dt.date\n",
    "\n",
    "    # Fix the durations\n",
    "    if df['Duration'].dtype == np.object:\n",
    "        df['Duration'] = df['Duration'].map(lambda cell: cell.replace(',',''))\n",
    "    df['Duration'] = df['Duration'].astype(float)\n",
    "    df['Duration'] = pd.to_timedelta(df['Duration'], unit='s')\n",
    "    \n",
    "    return df"
   ]
  },
  {
   "cell_type": "markdown",
   "metadata": {},
   "source": [
    "### <span style='color:#4095b5'>Calculate distances.</span>\n",
    "<span style='color:#52aec9'>Poor approximation. If bike was checked-out and returned to same station, will be trivial distance.</span>"
   ]
  },
  {
   "cell_type": "code",
   "execution_count": 9,
   "metadata": {},
   "outputs": [],
   "source": [
    "def distance_calc (row):\n",
    "    start = (row['Start Latitude'], row['Start Longitude'])\n",
    "    stop = (row['End Latitude'], row['End Longitude'])\n",
    "\n",
    "    return vincenty(start, stop).miles"
   ]
  },
  {
   "cell_type": "code",
   "execution_count": 10,
   "metadata": {},
   "outputs": [],
   "source": [
    "def calc_distances(df):\n",
    "    df['Distance [Miles]'] = df.apply (lambda row: distance_calc (row),axis=1)\n",
    "    return df"
   ]
  },
  {
   "cell_type": "markdown",
   "metadata": {},
   "source": [
    "### <span style='color:#4095b5'>Reorder columns.</span>\n",
    "<span style='color:#52aec9'>Make order same as Atlanta data.</span>"
   ]
  },
  {
   "cell_type": "code",
   "execution_count": 11,
   "metadata": {},
   "outputs": [],
   "source": [
    "def reorder_cols(df):\n",
    "    columns = ['Start Hub', 'Start Latitude', 'Start Longitude', 'Start Date',\n",
    "       'Start Time', 'End Hub', 'End Latitude', 'End Longitude', 'End Date',\n",
    "       'End Time', 'Bike Name', 'Distance [Miles]', 'Duration']\n",
    "\n",
    "    df = df.reindex(columns=columns)\n",
    "    return df"
   ]
  },
  {
   "cell_type": "markdown",
   "metadata": {},
   "source": [
    "### <span style='color:#4095b5'>Drop trivial trips.</span>\n",
    "<span style='color:#52aec9'>Trivial trips have time less than 3 mins. We cannot drop for trivial distance, since we compute distance.</span>"
   ]
  },
  {
   "cell_type": "code",
   "execution_count": 12,
   "metadata": {},
   "outputs": [],
   "source": [
    "def drop_trivial_trips_distance(df):\n",
    "    df = df[df[\"Distance [Miles]\"] > 0.02].copy()\n",
    "    return df"
   ]
  },
  {
   "cell_type": "code",
   "execution_count": 13,
   "metadata": {},
   "outputs": [],
   "source": [
    "def drop_trivial_trips_duration(df):\n",
    "    df = df[df[\"Duration\"] >= pd.to_timedelta('00:03:00')].copy()\n",
    "    return df"
   ]
  },
  {
   "cell_type": "code",
   "execution_count": 14,
   "metadata": {},
   "outputs": [],
   "source": [
    "def drop_trivial_trips(df):\n",
    "    global trivial_duration\n",
    "    global trivial_distance\n",
    "\n",
    "    rows = df.shape[0]\n",
    "    df = drop_trivial_trips_duration(df)\n",
    "    rows_duration = df.shape[0]\n",
    "    trivial_duration += rows-rows_duration\n",
    "\n",
    "    # Calculated distance, don't drop\n",
    "    # df = drop_trivial_trips_distance(df)\n",
    "    rows_distance = df.shape[0]\n",
    "    trivial_distance += rows_duration-rows_distance\n",
    "\n",
    "    return df"
   ]
  },
  {
   "cell_type": "markdown",
   "metadata": {},
   "source": [
    "### <span style='color:#4095b5'>Drop outliers.</span>\n",
    "<ul>\n",
    "    <li><span style='color:#52aec9'>Only use trips near Chicago.</span></li> \n",
    "    <li><span style='color:#52aec9'>Only use trips no longer than 24 hours.</span></li> \n",
    "</ul>"
   ]
  },
  {
   "cell_type": "code",
   "execution_count": 15,
   "metadata": {},
   "outputs": [],
   "source": [
    "def drop_outliers_latlon(df):\n",
    "#     df = df[df[\"Start Latitude\"] < 33.9].copy()\n",
    "#     df = df[df[\"End Latitude\"] < 33.9].copy()\n",
    "#     df = df[df[\"Start Latitude\"] > 33.5].copy()\n",
    "#     df = df[df[\"End Latitude\"] > 33.5].copy()\n",
    "\n",
    "#     df = df[df[\"Start Longitude\"] < -83.0].copy()\n",
    "#     df = df[df[\"End Longitude\"] < -83.0].copy()\n",
    "\n",
    "    return df"
   ]
  },
  {
   "cell_type": "code",
   "execution_count": 16,
   "metadata": {},
   "outputs": [],
   "source": [
    "def drop_outliers_duration(df):\n",
    "    df = df[df[\"Duration\"] <= pd.to_timedelta('24:00:00')].copy()\n",
    "    return df"
   ]
  },
  {
   "cell_type": "code",
   "execution_count": 17,
   "metadata": {},
   "outputs": [],
   "source": [
    "def drop_outliers_distance(df):\n",
    "    df_temp = df[df[\"Distance [Miles]\"] >= 100.0]\n",
    "    if df_temp.shape[0]:\n",
    "        print(\"Long trip: \", df_temp[['Start Latitude','Start Longitude', 'Start Time', \n",
    "                                     'End Latitude', 'End Longitude', 'End Time', \n",
    "                                     'Distance [Miles]', 'Duration']])\n",
    "    df = df[df[\"Distance [Miles]\"] < 100.0].copy()\n",
    "    return df"
   ]
  },
  {
   "cell_type": "code",
   "execution_count": 18,
   "metadata": {},
   "outputs": [],
   "source": [
    "def drop_outliers(df):\n",
    "    global outliers_latlon\n",
    "    global outliers_duration\n",
    "    global outliers_distance\n",
    "    \n",
    "    rows = df.shape[0]\n",
    "    df = drop_outliers_latlon(df)\n",
    "    rows_latlon = df.shape[0]\n",
    "    outliers_latlon += rows - rows_latlon\n",
    "    \n",
    "    df = drop_outliers_duration(df)\n",
    "    rows_duration = df.shape[0]\n",
    "    outliers_duration += rows_latlon - rows_duration\n",
    "    \n",
    "    df = drop_outliers_distance(df)\n",
    "    rows_distance = df.shape[0]\n",
    "    outliers_distance += rows_duration - rows_distance\n",
    "    \n",
    "    return df"
   ]
  },
  {
   "cell_type": "markdown",
   "metadata": {},
   "source": [
    "### <span style='color:#4095b5'>Pull all of the cleaning together.</span>"
   ]
  },
  {
   "cell_type": "code",
   "execution_count": 19,
   "metadata": {},
   "outputs": [],
   "source": [
    "def clean_df(df, df_hubs=None):\n",
    "    global trivial_duration\n",
    "    global trivial_distance\n",
    "    global outliers_latlon\n",
    "    global outliers_duration\n",
    "    global outliers_distance\n",
    "\n",
    "    df = drop_columns(df)\n",
    "    df = rename_columns(df)\n",
    "    df = calc_latlong(df, df_hubs)\n",
    "    df = drop_nans(df)\n",
    "    df = clean_datatypes(df)\n",
    "    df = calc_distances(df)\n",
    "    df = reorder_cols(df)\n",
    "    df = drop_trivial_trips(df)\n",
    "    df = drop_outliers(df)\n",
    "\n",
    "    # Information about rows dropped\n",
    "    print(\"Trivial dur: {} dist: {}\".format(trivial_duration, \n",
    "                                                                              trivial_distance))\n",
    "    print(\"Outlier loc: {} dur: {} dist: {}\".format(outliers_latlon,\n",
    "                                                     outliers_duration,\n",
    "                                                     outliers_distance))\n",
    "    return df"
   ]
  },
  {
   "cell_type": "markdown",
   "metadata": {},
   "source": [
    "<hr>\n",
    "<a name=\"convert\"></a>\n",
    "## <span style='color:#3b748a'> III. Extract July, Aug, Sep 2017 from 2017 Q3 data.</span>\n",
    "<ul>\n",
    "    <li><span style='color:#4095b5'>Trip data is quarterly.</span></li>\n",
    "    <li><span style='color:#4095b5'>The file is too huge to easily use.</span></li>\n",
    "</ul>"
   ]
  },
  {
   "cell_type": "code",
   "execution_count": 20,
   "metadata": {},
   "outputs": [],
   "source": [
    "if False:\n",
    "    d = \"2017_Q3\"\n",
    "    df = pd.read_csv(\"../data/chi/Divvy_Trips_\"+str(d)+\".csv\")\n",
    "\n",
    "    # Turn times in datetime\n",
    "    df['Start Time'] = pd.to_datetime(df['start_time'])\n",
    "    df['End Time'] = pd.to_datetime(df['end_time'])\n",
    "\n",
    "    # 2017Q3 = 2017-07-01, 2017-08-01, 2017-09-01\n",
    "    df7 = df[df['Start Time'] < datetime.strptime('2017-08-01 00:00:00', '%Y-%m-%d %H:%M:%S')].copy()\n",
    "    df7.drop(['Start Time', 'End Time'], axis=1, inplace=True)\n",
    "    print(df7.shape)\n",
    "    df7.to_csv('../data/chi/Divvy_Trips_2017_07.csv', index=False)\n",
    "    \n",
    "    # 2017Q3 = 2017-07-01, 2017-08-01, 2017-09-01\n",
    "    df8 = df[df['Start Time'] < datetime.strptime('2017-09-01 00:00:00', '%Y-%m-%d %H:%M:%S')].copy()\n",
    "    df8 = df8[df8['Start Time'] >= datetime.strptime('2017-08-01 00:00:00', '%Y-%m-%d %H:%M:%S')].copy()\n",
    "    df8.drop(['Start Time', 'End Time'], axis=1, inplace=True)\n",
    "    print(df8.shape)\n",
    "    df8.to_csv('../data/chi/Divvy_Trips_2017_08.csv', index=False)\n",
    "    \n",
    "    # 2017Q3 = 2017-07-01, 2017-08-01, 2017-09-01\n",
    "    df9 = df[df['Start Time'] >= datetime.strptime('2017-09-01 00:00:00', '%Y-%m-%d %H:%M:%S')].copy()\n",
    "    df9.drop(['Start Time', 'End Time'], axis=1, inplace=True)\n",
    "    print(df9.shape)\n",
    "    df9.to_csv('../data/chi/Divvy_Trips_2017_09.csv', index=False)"
   ]
  },
  {
   "cell_type": "markdown",
   "metadata": {},
   "source": [
    "<hr>\n",
    "<a name=\"import\"></a>\n",
    "## <span style='color:#3b748a'> IV. Import all data from Chicago.</span>\n",
    "<ul>\n",
    "    <li><span style='color:#4095b5'>Trip data is quarterly.</span></li>\n",
    "    <li><span style='color:#4095b5'>Need hub data to calculate latitude/longitude.</span></li>\n",
    "</ul>"
   ]
  },
  {
   "cell_type": "code",
   "execution_count": 21,
   "metadata": {},
   "outputs": [],
   "source": [
    "# Chicago data is quartlerly, except for Sep 2017\n",
    "trip_data = [\"2017_07\", \"2017_08\",\n",
    "             \"2017_09\", \"2017_Q4\",\n",
    "             \"2018_Q1\", \"2018_Q2\"]"
   ]
  },
  {
   "cell_type": "code",
   "execution_count": 22,
   "metadata": {},
   "outputs": [],
   "source": [
    "# Dictionary of DataFrames, one for each quarter\n",
    "df_data = dict()\n",
    "for d in trip_data:\n",
    "    df_data[d] = pd.read_csv(\"../data/chi/Divvy_Trips_\"+str(d)+\".csv\")"
   ]
  },
  {
   "cell_type": "code",
   "execution_count": 23,
   "metadata": {},
   "outputs": [],
   "source": [
    "# We need the hubs in order to lookup latitude/longitude\n",
    "df_hubs = pd.read_csv(\"../data/chi/Divvy_Stations_2017_Q3Q4.csv\")\n",
    "df_hubs.drop(['id','city', 'dpcapacity', 'online_date'], axis=1, inplace=True)"
   ]
  },
  {
   "cell_type": "markdown",
   "metadata": {},
   "source": [
    "<hr>\n",
    "<a name=\"clean\"></a>\n",
    "\n",
    "## <span style='color:#3b748a'>V. Clean all data from Chicago.</span>\n",
    "<ul>\n",
    "    <li><span style='color:#4095b5'>Reform the data to match Atlanta data.</span></li>\n",
    "    <li><span style='color:#4095b5'>Drop the trivial trips.</span></li>\n",
    "    <li><span style='color:#4095b5'>Drop the outliers.</span></li>\n",
    "    <li><span style='color:#4095b5'>Use appropriate coumn types.</span></li>\n",
    "</ul>"
   ]
  },
  {
   "cell_type": "code",
   "execution_count": 24,
   "metadata": {},
   "outputs": [
    {
     "name": "stdout",
     "output_type": "stream",
     "text": [
      "Cleaning the data:\n",
      "Month: 2017_07 \n",
      "Rows: 565142\t Cols: 12\t NaNs: 358366\n",
      "Drop lat/lon rows: 0\n",
      "Trivial dur: 14746 dist: 0\n",
      "Outlier loc: 0 dur: 0 dist: 0\n",
      "Rows: 550396\t Cols: 13\t NaNs: 0\n",
      "Month: 2017_08 \n",
      "Rows: 557639\t Cols: 12\t NaNs: 291943\n",
      "Drop lat/lon rows: 0\n",
      "Trivial dur: 30863 dist: 0\n",
      "Outlier loc: 0 dur: 0 dist: 0\n",
      "Rows: 541522\t Cols: 13\t NaNs: 0\n",
      "Month: 2017_09 \n",
      "Rows: 485489\t Cols: 12\t NaNs: 232319\n",
      "Drop lat/lon rows: 0\n",
      "Trivial dur: 46848 dist: 0\n",
      "Outlier loc: 0 dur: 0 dist: 0\n",
      "Rows: 469504\t Cols: 13\t NaNs: 0\n",
      "Month: 2017_Q4 \n",
      "Rows: 669239\t Cols: 12\t NaNs: 157407\n",
      "Drop lat/lon rows: 0\n",
      "Trivial dur: 78308 dist: 0\n",
      "Outlier loc: 0 dur: 0 dist: 0\n",
      "Rows: 637779\t Cols: 13\t NaNs: 0\n",
      "Month: 2018_Q1 \n",
      "Rows: 387145\t Cols: 12\t NaNs: 44815\n",
      "Drop lat/lon rows: 62\n",
      "Trivial dur: 99494 dist: 0\n",
      "Outlier loc: 0 dur: 116 dist: 0\n",
      "Rows: 365781\t Cols: 13\t NaNs: 0\n",
      "Month: 2018_Q2 \n",
      "Rows: 1059681\t Cols: 12\t NaNs: 391775\n",
      "Drop lat/lon rows: 145\n",
      "Trivial dur: 135340 dist: 0\n",
      "Outlier loc: 0 dur: 536 dist: 0\n",
      "Rows: 1023270\t Cols: 13\t NaNs: 0\n"
     ]
    }
   ],
   "source": [
    "# For each quarter, clean the DataFrame\n",
    "print(\"Cleaning the data:\")\n",
    "for d in trip_data:\n",
    "    print(\"Month: {} \\nRows: {}\\t Cols: {}\\t NaNs: {}\".format(d, \n",
    "                                                    df_data[d].shape[0], \n",
    "                                                    df_data[d].shape[1], \n",
    "                                                    sum(df_data[d].isnull().sum())))\n",
    "    # Pass hub data to cleaning function\n",
    "    df_data[d] = clean_df(df_data[d],df_hubs)\n",
    "    check_data(df_data[d])"
   ]
  },
  {
   "cell_type": "markdown",
   "metadata": {},
   "source": [
    "<hr>\n",
    "<a name=\"merge\"></a>\n",
    "\n",
    "## <span style='color:#3b748a'> VI. Merge the DataFrames into 1 big DataFrame</span>"
   ]
  },
  {
   "cell_type": "code",
   "execution_count": 25,
   "metadata": {},
   "outputs": [],
   "source": [
    "n_rows = 0\n",
    "df = pd.DataFrame()\n",
    "for d in trip_data:\n",
    "    n_rows += df_data[d].shape[0]\n",
    "    df = df.append(df_data[d])\n",
    "\n",
    "if n_rows != df.shape[0]:\n",
    "    print(\"There is a problem with the DataFrame merge!\")"
   ]
  },
  {
   "cell_type": "markdown",
   "metadata": {},
   "source": [
    "<hr>\n",
    "<a name=\"explore\"></a>\n",
    "\n",
    "## <span style='color:#3b748a'> VII. Explore the data.</span>"
   ]
  },
  {
   "cell_type": "code",
   "execution_count": 26,
   "metadata": {},
   "outputs": [
    {
     "data": {
      "text/html": [
       "<div>\n",
       "<style scoped>\n",
       "    .dataframe tbody tr th:only-of-type {\n",
       "        vertical-align: middle;\n",
       "    }\n",
       "\n",
       "    .dataframe tbody tr th {\n",
       "        vertical-align: top;\n",
       "    }\n",
       "\n",
       "    .dataframe thead th {\n",
       "        text-align: right;\n",
       "    }\n",
       "</style>\n",
       "<table border=\"1\" class=\"dataframe\">\n",
       "  <thead>\n",
       "    <tr style=\"text-align: right;\">\n",
       "      <th></th>\n",
       "      <th>Start Hub</th>\n",
       "      <th>Start Latitude</th>\n",
       "      <th>Start Longitude</th>\n",
       "      <th>Start Date</th>\n",
       "      <th>Start Time</th>\n",
       "      <th>End Hub</th>\n",
       "      <th>End Latitude</th>\n",
       "      <th>End Longitude</th>\n",
       "      <th>End Date</th>\n",
       "      <th>End Time</th>\n",
       "      <th>Bike Name</th>\n",
       "      <th>Distance [Miles]</th>\n",
       "      <th>Duration</th>\n",
       "    </tr>\n",
       "  </thead>\n",
       "  <tbody>\n",
       "    <tr>\n",
       "      <th>0</th>\n",
       "      <td>Clinton St &amp; Roosevelt Rd</td>\n",
       "      <td>41.867118</td>\n",
       "      <td>-87.641088</td>\n",
       "      <td>2017-07-31</td>\n",
       "      <td>2017-07-31 23:59:43</td>\n",
       "      <td>Halsted St &amp; 18th St</td>\n",
       "      <td>41.857499</td>\n",
       "      <td>-87.646277</td>\n",
       "      <td>2017-08-01</td>\n",
       "      <td>2017-08-01 00:09:28</td>\n",
       "      <td>3121</td>\n",
       "      <td>0.715798</td>\n",
       "      <td>00:09:45</td>\n",
       "    </tr>\n",
       "    <tr>\n",
       "      <th>1</th>\n",
       "      <td>Broadway &amp; Ridge Ave</td>\n",
       "      <td>41.984045</td>\n",
       "      <td>-87.660274</td>\n",
       "      <td>2017-07-31</td>\n",
       "      <td>2017-07-31 23:59:34</td>\n",
       "      <td>Broadway &amp; Wilson Ave</td>\n",
       "      <td>41.965221</td>\n",
       "      <td>-87.658139</td>\n",
       "      <td>2017-08-01</td>\n",
       "      <td>2017-08-01 00:10:04</td>\n",
       "      <td>6062</td>\n",
       "      <td>1.303801</td>\n",
       "      <td>00:10:30</td>\n",
       "    </tr>\n",
       "    <tr>\n",
       "      <th>2</th>\n",
       "      <td>Clinton St &amp; Roosevelt Rd</td>\n",
       "      <td>41.867118</td>\n",
       "      <td>-87.641088</td>\n",
       "      <td>2017-07-31</td>\n",
       "      <td>2017-07-31 23:59:27</td>\n",
       "      <td>Halsted St &amp; 18th St</td>\n",
       "      <td>41.857499</td>\n",
       "      <td>-87.646277</td>\n",
       "      <td>2017-08-01</td>\n",
       "      <td>2017-08-01 00:09:24</td>\n",
       "      <td>2659</td>\n",
       "      <td>0.715798</td>\n",
       "      <td>00:09:57</td>\n",
       "    </tr>\n",
       "    <tr>\n",
       "      <th>3</th>\n",
       "      <td>Wells St &amp; Concord Ln</td>\n",
       "      <td>41.912133</td>\n",
       "      <td>-87.634656</td>\n",
       "      <td>2017-07-31</td>\n",
       "      <td>2017-07-31 23:59:27</td>\n",
       "      <td>Wells St &amp; Evergreen Ave</td>\n",
       "      <td>41.906724</td>\n",
       "      <td>-87.634830</td>\n",
       "      <td>2017-08-01</td>\n",
       "      <td>2017-08-01 00:06:59</td>\n",
       "      <td>4230</td>\n",
       "      <td>0.373419</td>\n",
       "      <td>00:07:32</td>\n",
       "    </tr>\n",
       "    <tr>\n",
       "      <th>4</th>\n",
       "      <td>Larrabee St &amp; Webster Ave</td>\n",
       "      <td>41.921822</td>\n",
       "      <td>-87.644140</td>\n",
       "      <td>2017-07-31</td>\n",
       "      <td>2017-07-31 23:59:18</td>\n",
       "      <td>California Ave &amp; Francis Pl</td>\n",
       "      <td>41.918121</td>\n",
       "      <td>-87.696972</td>\n",
       "      <td>2017-08-01</td>\n",
       "      <td>2017-08-01 00:18:28</td>\n",
       "      <td>5415</td>\n",
       "      <td>2.735206</td>\n",
       "      <td>00:19:10</td>\n",
       "    </tr>\n",
       "  </tbody>\n",
       "</table>\n",
       "</div>"
      ],
      "text/plain": [
       "                   Start Hub  Start Latitude  Start Longitude  Start Date  \\\n",
       "0  Clinton St & Roosevelt Rd       41.867118       -87.641088  2017-07-31   \n",
       "1       Broadway & Ridge Ave       41.984045       -87.660274  2017-07-31   \n",
       "2  Clinton St & Roosevelt Rd       41.867118       -87.641088  2017-07-31   \n",
       "3      Wells St & Concord Ln       41.912133       -87.634656  2017-07-31   \n",
       "4  Larrabee St & Webster Ave       41.921822       -87.644140  2017-07-31   \n",
       "\n",
       "           Start Time                      End Hub  End Latitude  \\\n",
       "0 2017-07-31 23:59:43         Halsted St & 18th St     41.857499   \n",
       "1 2017-07-31 23:59:34        Broadway & Wilson Ave     41.965221   \n",
       "2 2017-07-31 23:59:27         Halsted St & 18th St     41.857499   \n",
       "3 2017-07-31 23:59:27     Wells St & Evergreen Ave     41.906724   \n",
       "4 2017-07-31 23:59:18  California Ave & Francis Pl     41.918121   \n",
       "\n",
       "   End Longitude    End Date            End Time  Bike Name  Distance [Miles]  \\\n",
       "0     -87.646277  2017-08-01 2017-08-01 00:09:28       3121          0.715798   \n",
       "1     -87.658139  2017-08-01 2017-08-01 00:10:04       6062          1.303801   \n",
       "2     -87.646277  2017-08-01 2017-08-01 00:09:24       2659          0.715798   \n",
       "3     -87.634830  2017-08-01 2017-08-01 00:06:59       4230          0.373419   \n",
       "4     -87.696972  2017-08-01 2017-08-01 00:18:28       5415          2.735206   \n",
       "\n",
       "  Duration  \n",
       "0 00:09:45  \n",
       "1 00:10:30  \n",
       "2 00:09:57  \n",
       "3 00:07:32  \n",
       "4 00:19:10  "
      ]
     },
     "execution_count": 26,
     "metadata": {},
     "output_type": "execute_result"
    }
   ],
   "source": [
    "df.head()    "
   ]
  },
  {
   "cell_type": "code",
   "execution_count": 27,
   "metadata": {},
   "outputs": [
    {
     "data": {
      "text/plain": [
       "(3588252, 13)"
      ]
     },
     "execution_count": 27,
     "metadata": {},
     "output_type": "execute_result"
    }
   ],
   "source": [
    "df.shape"
   ]
  },
  {
   "cell_type": "code",
   "execution_count": 28,
   "metadata": {},
   "outputs": [
    {
     "data": {
      "text/plain": [
       "Index(['Start Hub', 'Start Latitude', 'Start Longitude', 'Start Date',\n",
       "       'Start Time', 'End Hub', 'End Latitude', 'End Longitude', 'End Date',\n",
       "       'End Time', 'Bike Name', 'Distance [Miles]', 'Duration'],\n",
       "      dtype='object')"
      ]
     },
     "execution_count": 28,
     "metadata": {},
     "output_type": "execute_result"
    }
   ],
   "source": [
    "df.columns"
   ]
  },
  {
   "cell_type": "code",
   "execution_count": 29,
   "metadata": {},
   "outputs": [
    {
     "data": {
      "text/html": [
       "<div>\n",
       "<style scoped>\n",
       "    .dataframe tbody tr th:only-of-type {\n",
       "        vertical-align: middle;\n",
       "    }\n",
       "\n",
       "    .dataframe tbody tr th {\n",
       "        vertical-align: top;\n",
       "    }\n",
       "\n",
       "    .dataframe thead th {\n",
       "        text-align: right;\n",
       "    }\n",
       "</style>\n",
       "<table border=\"1\" class=\"dataframe\">\n",
       "  <thead>\n",
       "    <tr style=\"text-align: right;\">\n",
       "      <th></th>\n",
       "      <th>Start Latitude</th>\n",
       "      <th>Start Longitude</th>\n",
       "      <th>End Latitude</th>\n",
       "      <th>End Longitude</th>\n",
       "      <th>Bike Name</th>\n",
       "      <th>Distance [Miles]</th>\n",
       "      <th>Duration</th>\n",
       "    </tr>\n",
       "  </thead>\n",
       "  <tbody>\n",
       "    <tr>\n",
       "      <th>count</th>\n",
       "      <td>3.588252e+06</td>\n",
       "      <td>3.588252e+06</td>\n",
       "      <td>3.588252e+06</td>\n",
       "      <td>3.588252e+06</td>\n",
       "      <td>3.588252e+06</td>\n",
       "      <td>3.588252e+06</td>\n",
       "      <td>3588252</td>\n",
       "    </tr>\n",
       "    <tr>\n",
       "      <th>mean</th>\n",
       "      <td>4.189866e+01</td>\n",
       "      <td>-8.764158e+01</td>\n",
       "      <td>4.189922e+01</td>\n",
       "      <td>-8.764186e+01</td>\n",
       "      <td>3.584663e+03</td>\n",
       "      <td>1.288617e+00</td>\n",
       "      <td>0 days 00:17:06.724361</td>\n",
       "    </tr>\n",
       "    <tr>\n",
       "      <th>std</th>\n",
       "      <td>3.672525e-02</td>\n",
       "      <td>2.254192e-02</td>\n",
       "      <td>3.692653e-02</td>\n",
       "      <td>2.263170e-02</td>\n",
       "      <td>1.936490e+03</td>\n",
       "      <td>1.007049e+00</td>\n",
       "      <td>0 days 00:28:37.601785</td>\n",
       "    </tr>\n",
       "    <tr>\n",
       "      <th>min</th>\n",
       "      <td>4.173665e+01</td>\n",
       "      <td>-8.780391e+01</td>\n",
       "      <td>4.173665e+01</td>\n",
       "      <td>-8.780391e+01</td>\n",
       "      <td>1.000000e+00</td>\n",
       "      <td>0.000000e+00</td>\n",
       "      <td>0 days 00:03:00</td>\n",
       "    </tr>\n",
       "    <tr>\n",
       "      <th>25%</th>\n",
       "      <td>4.188042e+01</td>\n",
       "      <td>-8.765304e+01</td>\n",
       "      <td>4.188042e+01</td>\n",
       "      <td>-8.765345e+01</td>\n",
       "      <td>1.886000e+03</td>\n",
       "      <td>6.176514e-01</td>\n",
       "      <td>0 days 00:07:04</td>\n",
       "    </tr>\n",
       "    <tr>\n",
       "      <th>50%</th>\n",
       "      <td>4.189180e+01</td>\n",
       "      <td>-8.763851e+01</td>\n",
       "      <td>4.189228e+01</td>\n",
       "      <td>-8.763868e+01</td>\n",
       "      <td>3.745000e+03</td>\n",
       "      <td>9.935970e-01</td>\n",
       "      <td>0 days 00:11:43</td>\n",
       "    </tr>\n",
       "    <tr>\n",
       "      <th>75%</th>\n",
       "      <td>4.191718e+01</td>\n",
       "      <td>-8.762603e+01</td>\n",
       "      <td>4.191831e+01</td>\n",
       "      <td>-8.762618e+01</td>\n",
       "      <td>5.345000e+03</td>\n",
       "      <td>1.675962e+00</td>\n",
       "      <td>0 days 00:19:46</td>\n",
       "    </tr>\n",
       "    <tr>\n",
       "      <th>max</th>\n",
       "      <td>4.206431e+01</td>\n",
       "      <td>-8.754939e+01</td>\n",
       "      <td>4.206431e+01</td>\n",
       "      <td>-8.754939e+01</td>\n",
       "      <td>6.471000e+03</td>\n",
       "      <td>1.843041e+01</td>\n",
       "      <td>0 days 23:57:04</td>\n",
       "    </tr>\n",
       "  </tbody>\n",
       "</table>\n",
       "</div>"
      ],
      "text/plain": [
       "       Start Latitude  Start Longitude  End Latitude  End Longitude  \\\n",
       "count    3.588252e+06     3.588252e+06  3.588252e+06   3.588252e+06   \n",
       "mean     4.189866e+01    -8.764158e+01  4.189922e+01  -8.764186e+01   \n",
       "std      3.672525e-02     2.254192e-02  3.692653e-02   2.263170e-02   \n",
       "min      4.173665e+01    -8.780391e+01  4.173665e+01  -8.780391e+01   \n",
       "25%      4.188042e+01    -8.765304e+01  4.188042e+01  -8.765345e+01   \n",
       "50%      4.189180e+01    -8.763851e+01  4.189228e+01  -8.763868e+01   \n",
       "75%      4.191718e+01    -8.762603e+01  4.191831e+01  -8.762618e+01   \n",
       "max      4.206431e+01    -8.754939e+01  4.206431e+01  -8.754939e+01   \n",
       "\n",
       "          Bike Name  Distance [Miles]                Duration  \n",
       "count  3.588252e+06      3.588252e+06                 3588252  \n",
       "mean   3.584663e+03      1.288617e+00  0 days 00:17:06.724361  \n",
       "std    1.936490e+03      1.007049e+00  0 days 00:28:37.601785  \n",
       "min    1.000000e+00      0.000000e+00         0 days 00:03:00  \n",
       "25%    1.886000e+03      6.176514e-01         0 days 00:07:04  \n",
       "50%    3.745000e+03      9.935970e-01         0 days 00:11:43  \n",
       "75%    5.345000e+03      1.675962e+00         0 days 00:19:46  \n",
       "max    6.471000e+03      1.843041e+01         0 days 23:57:04  "
      ]
     },
     "execution_count": 29,
     "metadata": {},
     "output_type": "execute_result"
    }
   ],
   "source": [
    "df.describe()"
   ]
  },
  {
   "cell_type": "code",
   "execution_count": 30,
   "metadata": {},
   "outputs": [],
   "source": [
    "if False:\n",
    "    check_data(df)\n",
    "    check_cols(df)"
   ]
  },
  {
   "cell_type": "markdown",
   "metadata": {},
   "source": [
    "<hr>\n",
    "<a name=\"write\"></a>\n",
    "\n",
    "## <span style='color:#3b748a'>VII. Write the full DataFrame to a csv file.</span>"
   ]
  },
  {
   "cell_type": "code",
   "execution_count": 31,
   "metadata": {},
   "outputs": [],
   "source": [
    "df.to_csv('../data/chi/trips_all.csv', index=False)"
   ]
  },
  {
   "cell_type": "code",
   "execution_count": null,
   "metadata": {},
   "outputs": [],
   "source": []
  }
 ],
 "metadata": {
  "kernelspec": {
   "display_name": "Python 3",
   "language": "python",
   "name": "python3"
  },
  "language_info": {
   "codemirror_mode": {
    "name": "ipython",
    "version": 3
   },
   "file_extension": ".py",
   "mimetype": "text/x-python",
   "name": "python",
   "nbconvert_exporter": "python",
   "pygments_lexer": "ipython3",
   "version": "3.6.5"
  }
 },
 "nbformat": 4,
 "nbformat_minor": 2
}
