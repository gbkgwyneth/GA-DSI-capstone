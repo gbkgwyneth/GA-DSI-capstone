{
 "cells": [
  {
   "cell_type": "markdown",
   "metadata": {},
   "source": [
    "<img src=\"../images/bikes_banner.jpg\" width=\"1000\" />"
   ]
  },
  {
   "cell_type": "markdown",
   "metadata": {},
   "source": [
    "## <span style=\"color:#37535e\">Bicycle Share Usage</span>\n",
    "\n",
    "##  <span style='color:#3b748a'>Cleaning Los Angeles Metro Bike Share data</span>\n",
    "\n",
    "<span style='color:#4095b5'>This notebook loads and cleans 12 months (July 2017 - June 2018) of data from the Los Angeles Metro Bike Share bicycle share. There is data going back to 2016.</span>\n",
    "\n",
    "<span style='color:#4095b5'>Each row (observation) of data describes one bike ride on which a bike is taken. Each rental includes a starting place and time, a ending place and time, as well as duration, user, and bike information. </span>"
   ]
  },
  {
   "cell_type": "markdown",
   "metadata": {},
   "source": [
    "## <span style='color:#3b748a'>Table of contents</span>\n",
    "* <span style='color:#4095b5'>I.  <a href=\"#checking\"><span style='color:#4095b5'>Data checking functions.</span></a></span>\n",
    "* <span style='color:#4095b5'>II. <a href=\"#cleaning\"><span style='color:#4095b5'>Data cleaning functions.</span></a></span>\n",
    "* <span style='color:#4095b5'>III. <a href=\"#import\"><span style='color:#4095b5'>Import all data.</span></a></span>\n",
    "* <span style='color:#4095b5'>IV. <a href=\"#clean\"><span style='color:#4095b5'>Clean all data.</span></a></span>\n",
    "* <span style='color:#4095b5'>V. <a href=\"#merge\"><span style='color:#4095b5'>Merge the dataframes into 1 big one.</span></a></span>\n",
    "* <span style='color:#4095b5'>VI. <a href=\"#explore\"><span style='color:#4095b5'>Explore the data.</span></a></span>\n",
    "* <span style='color:#4095b5'>VII. <a href=\"#write\"><span style='color:#4095b5'>Write the full dataframe to a csv file.</span></a></span>\n",
    "\n",
    "## <span style='color:#3b748a'>External data required</span>\n",
    "<ul>\n",
    "    <li><span style='color:#4095b5'>../data/la/metro-bike-share-trips-20XX-qX.csv for each quarter in (2017-q3 to 2018-q2); available in GitHub</span></li>\n",
    "</ul>\n",
    "\n",
    "## <span style='color:#3b748a'>Links</span>\n",
    "* <a href=\"https://bikeshare.metro.net/about/data/\"><span style='color:#4095b5'>Los Angeles Metro Bike Share data</span></a>\n",
    "    <li><a href=\"plot_la.ipynb\"><span style='color:#4095b5'>Plotting Los Angelese data.</span></a></li>\n",
    "<hr>"
   ]
  },
  {
   "cell_type": "code",
   "execution_count": 1,
   "metadata": {},
   "outputs": [],
   "source": [
    "# Let's get the administrative stuff done first\n",
    "# import all the libraries and set up the plotting\n",
    "\n",
    "import pandas as pd\n",
    "import numpy as np\n",
    "from datetime import datetime,timedelta\n",
    "from geopy.distance import vincenty\n",
    "\n",
    "# Gloabal variables to track \n",
    "trivial_duration = 0\n",
    "trivial_distance = 0\n",
    "outliers_latlon = 0\n",
    "outliers_duration = 0\n",
    "outliers_distance = 0\n",
    "\n",
    "# GnBu_d\n",
    "colors = ['#37535e', '#3b748a', '#4095b5', '#52aec9', '#72bfc4', '#93d0bf']"
   ]
  },
  {
   "cell_type": "markdown",
   "metadata": {},
   "source": [
    "<hr>\n",
    "<a name=\"checking\"> </a>\n",
    "## <span style='color:#3b748a'>I. Data checking functions</span>"
   ]
  },
  {
   "cell_type": "code",
   "execution_count": 2,
   "metadata": {},
   "outputs": [],
   "source": [
    "# Check which non-numeric columns are missing values \n",
    "# and what the possible values are for each object column\n",
    "\n",
    "def check_cols(df):\n",
    "    cols = df.select_dtypes([np.object]).columns\n",
    "    for col in cols:\n",
    "        print(\"{} is {} and values are {}.\".format(col,df[col].dtype,df[col].unique()))\n",
    "        n_nan = df[col].isnull().sum()\n",
    "        if n_nan > 0:\n",
    "            print(\"{} has {} NaNs\".format(col,n_nan))\n",
    "            \n",
    "    cols = df.select_dtypes([np.int64,np.float64,np.uint64]).columns\n",
    "    for col in cols:\n",
    "        print(\"{} is {} and values are {} to {}.\".format(col,df[col].dtype,df[col].min(),df[col].max()))\n",
    "        n_nan = df[col].isnull().sum()\n",
    "        if n_nan > 0:\n",
    "            print(\"{} has {} NaNs\".format(col,n_nan))\n",
    "    return"
   ]
  },
  {
   "cell_type": "code",
   "execution_count": 3,
   "metadata": {},
   "outputs": [],
   "source": [
    "# Check which numeric columns are missing values\n",
    "\n",
    "def check_data(df):\n",
    "    s = df.shape\n",
    "\n",
    "    # Check for null values\n",
    "    null_data = df.isnull().sum()\n",
    "    null_data_count = sum(null_data)\n",
    "    print(\"Rows: {}\\t Cols: {}\\t NaNs: {}\".format(s[0],s[1],null_data_count))\n",
    "    if  null_data_count > 0:\n",
    "        print(\"Columns with NaN: {}\".format(list(null_data[null_data > 0].index)))\n",
    "\n",
    "    return"
   ]
  },
  {
   "cell_type": "markdown",
   "metadata": {},
   "source": [
    "<hr>\n",
    "<a name=\"cleaning\"></a>\n",
    "## <span style='color:#3b748a'> II. Data cleaning functions</span>\n",
    "\n",
    "<span style='color:#4095b5'>These functions clean the trip data.</span>"
   ]
  },
  {
   "cell_type": "markdown",
   "metadata": {},
   "source": [
    "### <span style='color:#4095b5'>Drop columns *NOT* in Atlanta data.</span>\n",
    "<span style='color:#52aec9'>I might want to add some back at some point.</span>"
   ]
  },
  {
   "cell_type": "code",
   "execution_count": 4,
   "metadata": {},
   "outputs": [],
   "source": [
    "def drop_columns(df):\n",
    "    cols_drop = ['trip_id', 'plan_duration', 'trip_route_category', 'passholder_type']\n",
    "\n",
    "    # Can't drop a column that isn't there\n",
    "    cols_drop = list(set(df.columns) & set(cols_drop))\n",
    "    df.drop(cols_drop, axis=1, inplace=True)\n",
    "\n",
    "    return df"
   ]
  },
  {
   "cell_type": "markdown",
   "metadata": {},
   "source": [
    "### <span style='color:#4095b5'>Rename columns to match Atlanta data names.</span>"
   ]
  },
  {
   "cell_type": "code",
   "execution_count": 5,
   "metadata": {},
   "outputs": [],
   "source": [
    "def rename_columns(df):\n",
    "    df.rename(columns={'start_station' : 'Start Hub', \n",
    "                       'start_lat' : 'Start Latitude',\n",
    "                       'start_lon' : 'Start Longitude',\n",
    "                       'start_time' : 'Start Time', \n",
    "                       'end_station' : 'End Hub', \n",
    "                       'end_lat' :'End Latitude', \n",
    "                       'end_lon' : 'End Longitude', \n",
    "                       'end_time' : 'End Time', \n",
    "                       'bike_id' :'Bike Name',\n",
    "                       'duration' : 'Duration'\n",
    "                      }, inplace=True)\n",
    "    return df"
   ]
  },
  {
   "cell_type": "markdown",
   "metadata": {},
   "source": [
    "### <span style='color:#4095b5'>Merge with hub data.</span>\n",
    "<span style='color:#52aec9'>We may have to use the start/end hubs to get start/end lat/long.</span>"
   ]
  },
  {
   "cell_type": "code",
   "execution_count": 6,
   "metadata": {},
   "outputs": [],
   "source": [
    "def calc_latlong(df, df_hubs):\n",
    "    return df"
   ]
  },
  {
   "cell_type": "markdown",
   "metadata": {},
   "source": [
    "### <span style='color:#4095b5'>Drop rows with nulls.</span>\n",
    "<span style='color:#52aec9'>Hub 3000 does not have lat/long information as it is a virtual hub.</span>"
   ]
  },
  {
   "cell_type": "code",
   "execution_count": 7,
   "metadata": {},
   "outputs": [],
   "source": [
    "def drop_nans(df):\n",
    "    latitude_3000 = 34.0522\n",
    "    longitude_3000 = -118.2437\n",
    "    df['Start Latitude'] = df.apply(\n",
    "        lambda row: latitude_3000 if row['Start Hub'] == 3000  else row['Start Latitude'],\n",
    "        axis=1\n",
    "    )\n",
    "    df['End Latitude'] = df.apply(\n",
    "        lambda row: latitude_3000 if row['End Hub'] == 3000  else row['End Latitude'],\n",
    "        axis=1\n",
    "    )\n",
    "    df['Start Longitude'] = df.apply(\n",
    "        lambda row: longitude_3000 if row['Start Hub'] == 3000  else row['Start Longitude'],\n",
    "        axis=1\n",
    "    )\n",
    "    df['End Longitude'] = df.apply(\n",
    "        lambda row: longitude_3000 if row['End Hub'] == 3000  else row['End Longitude'],\n",
    "        axis=1\n",
    "    )\n",
    "\n",
    "    df.dropna(subset=['Start Latitude', 'Start Longitude', \n",
    "                      'End Latitude', 'End Longitude'], \n",
    "              inplace=True)\n",
    "    return df"
   ]
  },
  {
   "cell_type": "markdown",
   "metadata": {},
   "source": [
    "### <span style='color:#4095b5'>Use appropriate datatypes.</span>\n",
    "<span style='color:#52aec9'>For example, fix Date/Time objects and cast Latitude and Longitude to floats.</span>"
   ]
  },
  {
   "cell_type": "code",
   "execution_count": 8,
   "metadata": {},
   "outputs": [],
   "source": [
    "def clean_datatypes(df):\n",
    "    df['Start Latitude'] = df['Start Latitude'].astype(float)\n",
    "    df['Start Longitude'] = df['Start Longitude'].astype(float)\n",
    "    df['End Latitude'] = df['End Latitude'].astype(float)\n",
    "    df['End Longitude'] = df['End Longitude'].astype(float)\n",
    "\n",
    "    # Turn times in datetime\n",
    "    df['Start Time'] = pd.to_datetime(df['Start Time'])\n",
    "    df['End Time'] = pd.to_datetime(df['End Time'])\n",
    "\n",
    "    # CREATE dates in datetime\n",
    "    df['Start Date'] = df['Start Time'].dt.date\n",
    "    df['End Date'] = df['End Time'].dt.date\n",
    "\n",
    "    # Fix the durations\n",
    "    df['Duration'] = pd.to_timedelta(df['Duration'], unit='m')\n",
    "    \n",
    "    return df"
   ]
  },
  {
   "cell_type": "markdown",
   "metadata": {},
   "source": [
    "### <span style='color:#4095b5'>Calculate distances.</span>\n",
    "<span style='color:#52aec9'>Poor approximation. If bike was checked-out and returned to same station, will be trivial distance. Also, becuase 3000 doesn't have a true location, distnces are not accurate.</span>"
   ]
  },
  {
   "cell_type": "code",
   "execution_count": 9,
   "metadata": {},
   "outputs": [],
   "source": [
    "def distance_calc (row):\n",
    "    start = (row['Start Latitude'], row['Start Longitude'])\n",
    "    stop = (row['End Latitude'], row['End Longitude'])\n",
    "\n",
    "    return vincenty(start, stop).miles"
   ]
  },
  {
   "cell_type": "code",
   "execution_count": 10,
   "metadata": {},
   "outputs": [],
   "source": [
    "def calc_distances(df):\n",
    "    df['Distance [Miles]'] = df.apply (lambda row: distance_calc (row),axis=1)\n",
    "    return df"
   ]
  },
  {
   "cell_type": "markdown",
   "metadata": {},
   "source": [
    "### <span style='color:#4095b5'>Reorder columns.</span>\n",
    "<span style='color:#52aec9'>Make order same as Atlanta data.</span>"
   ]
  },
  {
   "cell_type": "code",
   "execution_count": 11,
   "metadata": {},
   "outputs": [],
   "source": [
    "def reorder_cols(df):\n",
    "    columns = ['Start Hub', 'Start Latitude', 'Start Longitude', 'Start Date',\n",
    "       'Start Time', 'End Hub', 'End Latitude', 'End Longitude', 'End Date',\n",
    "       'End Time', 'Bike Name', 'Distance [Miles]', 'Duration']\n",
    "\n",
    "    df = df.reindex(columns=columns)\n",
    "    return df"
   ]
  },
  {
   "cell_type": "markdown",
   "metadata": {},
   "source": [
    "### <span style='color:#4095b5'>Drop trivial trips.</span>\n",
    "<span style='color:#52aec9'>Trivial trips have time less than 3 mins. We cannot drop for trivial distance, since we compute distance.</span>"
   ]
  },
  {
   "cell_type": "code",
   "execution_count": 12,
   "metadata": {},
   "outputs": [],
   "source": [
    "def drop_trivial_trips_distance(df):\n",
    "    df = df[df[\"Distance [Miles]\"] > 0.02].copy()\n",
    "    return df"
   ]
  },
  {
   "cell_type": "code",
   "execution_count": 13,
   "metadata": {},
   "outputs": [],
   "source": [
    "def drop_trivial_trips_duration(df):\n",
    "    df = df[df[\"Duration\"] >= pd.to_timedelta('00:03:00')].copy()\n",
    "    return df"
   ]
  },
  {
   "cell_type": "code",
   "execution_count": 14,
   "metadata": {},
   "outputs": [],
   "source": [
    "def drop_trivial_trips(df):\n",
    "    global trivial_duration\n",
    "    global trivial_distance\n",
    "\n",
    "    rows = df.shape[0]\n",
    "    df = drop_trivial_trips_duration(df)\n",
    "    rows_duration = df.shape[0]\n",
    "    trivial_duration += rows-rows_duration\n",
    "\n",
    "    # Calculated distance, don't drop\n",
    "    # df = drop_trivial_trips_distance(df)\n",
    "    rows_distance = df.shape[0]\n",
    "    trivial_distance += rows_duration-rows_distance\n",
    "    return df"
   ]
  },
  {
   "cell_type": "markdown",
   "metadata": {},
   "source": [
    "### <span style='color:#4095b5'>Drop outliers.</span>\n",
    "<ul>\n",
    "    <li><span style='color:#52aec9'>Only use trips near Los Angeles.</span></li> \n",
    "    <li><span style='color:#52aec9'>Don't keep trips 24 hours or longer.</span></li> \n",
    "     <li><span style='color:#52aec9'>Don't keep trips further than 100 miles.</span></li> \n",
    "</ul>"
   ]
  },
  {
   "cell_type": "code",
   "execution_count": 15,
   "metadata": {},
   "outputs": [],
   "source": [
    "def drop_outliers_latlon(df):\n",
    "#     df = df[df[\"Start Latitude\"] < 33.9].copy()\n",
    "#     df = df[df[\"End Latitude\"] < 33.9].copy()\n",
    "#     df = df[df[\"Start Latitude\"] > 33.5].copy()\n",
    "#     df = df[df[\"End Latitude\"] > 33.5].copy()\n",
    "\n",
    "#     df = df[df[\"Start Longitude\"] < -83.0].copy()\n",
    "#     df = df[df[\"End Longitude\"] < -83.0].copy()\n",
    "\n",
    "    return df"
   ]
  },
  {
   "cell_type": "code",
   "execution_count": 16,
   "metadata": {},
   "outputs": [],
   "source": [
    "def drop_outliers_duration(df):\n",
    "    df = df[df[\"Duration\"] < pd.to_timedelta('24:00:00')].copy()\n",
    "    return df"
   ]
  },
  {
   "cell_type": "code",
   "execution_count": 17,
   "metadata": {},
   "outputs": [],
   "source": [
    "def drop_outliers_distance(df):\n",
    "    df_temp = df[df[\"Distance [Miles]\"] >= 100.0]\n",
    "    if df_temp.shape[0]:\n",
    "        print(\"Long trip: \", df_temp[['Start Latitude','Start Longitude', 'Start Time', \n",
    "                                     'End Latitude', 'End Longitude', 'End Time', \n",
    "                                     'Distance [Miles]', 'Duration']])\n",
    "    df = df[df[\"Distance [Miles]\"] < 100.0].copy()\n",
    "    return df"
   ]
  },
  {
   "cell_type": "code",
   "execution_count": 18,
   "metadata": {},
   "outputs": [],
   "source": [
    "def drop_outliers(df):\n",
    "    global outliers_latlon\n",
    "    global outliers_duration\n",
    "    global outliers_distance\n",
    "    \n",
    "    rows = df.shape[0]\n",
    "    df = drop_outliers_latlon(df)\n",
    "    rows_latlon = df.shape[0]\n",
    "    outliers_latlon += rows - rows_latlon\n",
    "    \n",
    "    df = drop_outliers_duration(df)\n",
    "    rows_duration = df.shape[0]\n",
    "    outliers_duration += rows_latlon - rows_duration\n",
    "    \n",
    "    df = drop_outliers_distance(df)\n",
    "    rows_distance = df.shape[0]\n",
    "    outliers_distance += rows_duration - rows_distance\n",
    "    \n",
    "    return df"
   ]
  },
  {
   "cell_type": "markdown",
   "metadata": {},
   "source": [
    "### <span style='color:#4095b5'>Pull all of the cleaning together.</span>\n"
   ]
  },
  {
   "cell_type": "code",
   "execution_count": 19,
   "metadata": {},
   "outputs": [],
   "source": [
    "def clean_df(df, df_hubs=None):\n",
    "    global trivial_duration\n",
    "    global trivial_distance\n",
    "    global outliers_latlon\n",
    "    global outliers_duration\n",
    "    global outliers_distance\n",
    "\n",
    "    df = drop_columns(df)\n",
    "    df = rename_columns(df)\n",
    "    df = calc_latlong(df, df_hubs)\n",
    "    df = drop_nans(df)\n",
    "    df = clean_datatypes(df)\n",
    "    df = calc_distances(df)\n",
    "    df = reorder_cols(df)\n",
    "    df = drop_trivial_trips(df)\n",
    "    df = drop_outliers(df)\n",
    "\n",
    "    # Information about rows dropped\n",
    "    print(\"Trivial dur: {} dist: {}\".format(trivial_duration, \n",
    "                                                                              trivial_distance))\n",
    "    print(\"Outlier loc: {} dur: {} dist: {}\".format(outliers_latlon,\n",
    "                                                     outliers_duration,\n",
    "                                                     outliers_distance))\n",
    "    return df"
   ]
  },
  {
   "cell_type": "markdown",
   "metadata": {},
   "source": [
    "<hr>\n",
    "<a name=\"import\"></a>\n",
    "## <span style='color:#3b748a'> III. Import all data from Los Angeles.</span>\n"
   ]
  },
  {
   "cell_type": "code",
   "execution_count": 20,
   "metadata": {},
   "outputs": [],
   "source": [
    "# Los Angeles data is quarterly\n",
    "# For now, just load one year\n",
    "# metro-bike-share-trips-2018-q2.csv\n",
    "trip_data = ['2017-q3', '2017-q4',\n",
    "             '2018-q1', '2018-q2']"
   ]
  },
  {
   "cell_type": "code",
   "execution_count": 21,
   "metadata": {},
   "outputs": [],
   "source": [
    "# Dictionary of DataFrames, one for each month\n",
    "df_data = dict()\n",
    "for d in trip_data:\n",
    "    df_data[d] = pd.read_csv(\"../data/la/metro-bike-share-trips-\"+str(d)+\".csv\")"
   ]
  },
  {
   "cell_type": "markdown",
   "metadata": {},
   "source": [
    "<hr>\n",
    "<a name=\"clean\"></a>\n",
    "\n",
    "## <span style='color:#3b748a'>IV. Clean all data from Los Angeles.</span>\n",
    "<ul>\n",
    "    <li><span style='color:#4095b5'>Reformat the data to match Atlanta data.</span></li>\n",
    "    <li><span style='color:#4095b5'>Drop the trivial trips.</span></li>\n",
    "    <li><span style='color:#4095b5'>Drop the outliers.</span></li>\n",
    "    <li><span style='color:#4095b5'>Use appropriate coumn types.</span></li>\n",
    "</ul>"
   ]
  },
  {
   "cell_type": "code",
   "execution_count": 22,
   "metadata": {},
   "outputs": [
    {
     "name": "stdout",
     "output_type": "stream",
     "text": [
      "Cleaning the data:\n",
      "Month: 2017-q3 \n",
      "Rows: 72337\t Cols: 14\t NaNs: 1598\n",
      "Trivial dur: 2283 dist: 0\n",
      "Outlier loc: 0 dur: 149 dist: 0\n",
      "Rows: 69905\t Cols: 13\t NaNs: 0\n",
      "Month: 2017-q4 \n",
      "Rows: 71214\t Cols: 14\t NaNs: 3750\n",
      "Trivial dur: 4294 dist: 0\n",
      "Outlier loc: 0 dur: 361 dist: 0\n",
      "Rows: 68991\t Cols: 13\t NaNs: 0\n",
      "Month: 2018-q1 \n",
      "Rows: 65387\t Cols: 14\t NaNs: 2226\n",
      "Trivial dur: 6064 dist: 0\n",
      "Outlier loc: 0 dur: 568 dist: 0\n",
      "Rows: 63410\t Cols: 13\t NaNs: 0\n",
      "Month: 2018-q2 \n",
      "Rows: 77357\t Cols: 14\t NaNs: 2486\n",
      "Trivial dur: 8151 dist: 0\n",
      "Outlier loc: 0 dur: 847 dist: 0\n",
      "Rows: 74991\t Cols: 13\t NaNs: 0\n"
     ]
    }
   ],
   "source": [
    "# For each month, clean the DataFrame\n",
    "print(\"Cleaning the data:\")\n",
    "for d in trip_data:\n",
    "    print(\"Month: {} \\nRows: {}\\t Cols: {}\\t NaNs: {}\".format(d, \n",
    "                                                    df_data[d].shape[0], \n",
    "                                                    df_data[d].shape[1], \n",
    "                                                    sum(df_data[d].isnull().sum())))\n",
    "    df_data[d] = clean_df(df_data[d])\n",
    "    check_data(df_data[d])\n"
   ]
  },
  {
   "cell_type": "markdown",
   "metadata": {},
   "source": [
    "<hr>\n",
    "<a name=\"merge\"></a>\n",
    "\n",
    "## <span style='color:#3b748a'> V. Merge the DataFrames into 1 big DataFrame</span>"
   ]
  },
  {
   "cell_type": "code",
   "execution_count": 23,
   "metadata": {},
   "outputs": [],
   "source": [
    "n_rows = 0\n",
    "df = pd.DataFrame()\n",
    "for d in trip_data:\n",
    "    n_rows += df_data[d].shape[0]\n",
    "    df = df.append(df_data[d])\n",
    "\n",
    "if n_rows != df.shape[0]:\n",
    "    print(\"There is a problem with the DataFrame merge!\")"
   ]
  },
  {
   "cell_type": "markdown",
   "metadata": {},
   "source": [
    "<hr>\n",
    "<a name=\"explore\"></a>\n",
    "\n",
    "## <span style='color:#3b748a'> VI. Explore the data.</span>"
   ]
  },
  {
   "cell_type": "code",
   "execution_count": 24,
   "metadata": {},
   "outputs": [
    {
     "data": {
      "text/html": [
       "<div>\n",
       "<style scoped>\n",
       "    .dataframe tbody tr th:only-of-type {\n",
       "        vertical-align: middle;\n",
       "    }\n",
       "\n",
       "    .dataframe tbody tr th {\n",
       "        vertical-align: top;\n",
       "    }\n",
       "\n",
       "    .dataframe thead th {\n",
       "        text-align: right;\n",
       "    }\n",
       "</style>\n",
       "<table border=\"1\" class=\"dataframe\">\n",
       "  <thead>\n",
       "    <tr style=\"text-align: right;\">\n",
       "      <th></th>\n",
       "      <th>Start Hub</th>\n",
       "      <th>Start Latitude</th>\n",
       "      <th>Start Longitude</th>\n",
       "      <th>Start Date</th>\n",
       "      <th>Start Time</th>\n",
       "      <th>End Hub</th>\n",
       "      <th>End Latitude</th>\n",
       "      <th>End Longitude</th>\n",
       "      <th>End Date</th>\n",
       "      <th>End Time</th>\n",
       "      <th>Bike Name</th>\n",
       "      <th>Distance [Miles]</th>\n",
       "      <th>Duration</th>\n",
       "    </tr>\n",
       "  </thead>\n",
       "  <tbody>\n",
       "    <tr>\n",
       "      <th>0</th>\n",
       "      <td>3018</td>\n",
       "      <td>34.043732</td>\n",
       "      <td>-118.260139</td>\n",
       "      <td>2017-07-01</td>\n",
       "      <td>2017-07-01 00:09:00</td>\n",
       "      <td>3018</td>\n",
       "      <td>34.043732</td>\n",
       "      <td>-118.260139</td>\n",
       "      <td>2017-07-01</td>\n",
       "      <td>2017-07-01 00:45:00</td>\n",
       "      <td>5996</td>\n",
       "      <td>0.000000</td>\n",
       "      <td>00:36:00</td>\n",
       "    </tr>\n",
       "    <tr>\n",
       "      <th>1</th>\n",
       "      <td>3055</td>\n",
       "      <td>34.044159</td>\n",
       "      <td>-118.251579</td>\n",
       "      <td>2017-07-01</td>\n",
       "      <td>2017-07-01 00:10:00</td>\n",
       "      <td>3082</td>\n",
       "      <td>34.046520</td>\n",
       "      <td>-118.237411</td>\n",
       "      <td>2017-07-01</td>\n",
       "      <td>2017-07-01 00:23:00</td>\n",
       "      <td>5777</td>\n",
       "      <td>0.829014</td>\n",
       "      <td>00:13:00</td>\n",
       "    </tr>\n",
       "    <tr>\n",
       "      <th>2</th>\n",
       "      <td>3018</td>\n",
       "      <td>34.043732</td>\n",
       "      <td>-118.260139</td>\n",
       "      <td>2017-07-01</td>\n",
       "      <td>2017-07-01 00:11:00</td>\n",
       "      <td>3018</td>\n",
       "      <td>34.043732</td>\n",
       "      <td>-118.260139</td>\n",
       "      <td>2017-07-01</td>\n",
       "      <td>2017-07-01 00:45:00</td>\n",
       "      <td>6342</td>\n",
       "      <td>0.000000</td>\n",
       "      <td>00:34:00</td>\n",
       "    </tr>\n",
       "    <tr>\n",
       "      <th>3</th>\n",
       "      <td>3018</td>\n",
       "      <td>34.043732</td>\n",
       "      <td>-118.260139</td>\n",
       "      <td>2017-07-01</td>\n",
       "      <td>2017-07-01 00:11:00</td>\n",
       "      <td>3018</td>\n",
       "      <td>34.043732</td>\n",
       "      <td>-118.260139</td>\n",
       "      <td>2017-07-01</td>\n",
       "      <td>2017-07-01 00:45:00</td>\n",
       "      <td>6478</td>\n",
       "      <td>0.000000</td>\n",
       "      <td>00:34:00</td>\n",
       "    </tr>\n",
       "    <tr>\n",
       "      <th>4</th>\n",
       "      <td>3055</td>\n",
       "      <td>34.044159</td>\n",
       "      <td>-118.251579</td>\n",
       "      <td>2017-07-01</td>\n",
       "      <td>2017-07-01 00:11:00</td>\n",
       "      <td>3082</td>\n",
       "      <td>34.046520</td>\n",
       "      <td>-118.237411</td>\n",
       "      <td>2017-07-01</td>\n",
       "      <td>2017-07-01 00:23:00</td>\n",
       "      <td>6411</td>\n",
       "      <td>0.829014</td>\n",
       "      <td>00:12:00</td>\n",
       "    </tr>\n",
       "  </tbody>\n",
       "</table>\n",
       "</div>"
      ],
      "text/plain": [
       "   Start Hub  Start Latitude  Start Longitude  Start Date          Start Time  \\\n",
       "0       3018       34.043732      -118.260139  2017-07-01 2017-07-01 00:09:00   \n",
       "1       3055       34.044159      -118.251579  2017-07-01 2017-07-01 00:10:00   \n",
       "2       3018       34.043732      -118.260139  2017-07-01 2017-07-01 00:11:00   \n",
       "3       3018       34.043732      -118.260139  2017-07-01 2017-07-01 00:11:00   \n",
       "4       3055       34.044159      -118.251579  2017-07-01 2017-07-01 00:11:00   \n",
       "\n",
       "   End Hub  End Latitude  End Longitude    End Date            End Time  \\\n",
       "0     3018     34.043732    -118.260139  2017-07-01 2017-07-01 00:45:00   \n",
       "1     3082     34.046520    -118.237411  2017-07-01 2017-07-01 00:23:00   \n",
       "2     3018     34.043732    -118.260139  2017-07-01 2017-07-01 00:45:00   \n",
       "3     3018     34.043732    -118.260139  2017-07-01 2017-07-01 00:45:00   \n",
       "4     3082     34.046520    -118.237411  2017-07-01 2017-07-01 00:23:00   \n",
       "\n",
       "   Bike Name  Distance [Miles] Duration  \n",
       "0       5996          0.000000 00:36:00  \n",
       "1       5777          0.829014 00:13:00  \n",
       "2       6342          0.000000 00:34:00  \n",
       "3       6478          0.000000 00:34:00  \n",
       "4       6411          0.829014 00:12:00  "
      ]
     },
     "execution_count": 24,
     "metadata": {},
     "output_type": "execute_result"
    }
   ],
   "source": [
    "df.head()    "
   ]
  },
  {
   "cell_type": "code",
   "execution_count": 25,
   "metadata": {},
   "outputs": [
    {
     "data": {
      "text/plain": [
       "(277297, 13)"
      ]
     },
     "execution_count": 25,
     "metadata": {},
     "output_type": "execute_result"
    }
   ],
   "source": [
    "df.shape"
   ]
  },
  {
   "cell_type": "code",
   "execution_count": 26,
   "metadata": {},
   "outputs": [
    {
     "data": {
      "text/plain": [
       "Index(['Start Hub', 'Start Latitude', 'Start Longitude', 'Start Date',\n",
       "       'Start Time', 'End Hub', 'End Latitude', 'End Longitude', 'End Date',\n",
       "       'End Time', 'Bike Name', 'Distance [Miles]', 'Duration'],\n",
       "      dtype='object')"
      ]
     },
     "execution_count": 26,
     "metadata": {},
     "output_type": "execute_result"
    }
   ],
   "source": [
    "df.columns"
   ]
  },
  {
   "cell_type": "code",
   "execution_count": 27,
   "metadata": {},
   "outputs": [
    {
     "data": {
      "text/html": [
       "<div>\n",
       "<style scoped>\n",
       "    .dataframe tbody tr th:only-of-type {\n",
       "        vertical-align: middle;\n",
       "    }\n",
       "\n",
       "    .dataframe tbody tr th {\n",
       "        vertical-align: top;\n",
       "    }\n",
       "\n",
       "    .dataframe thead th {\n",
       "        text-align: right;\n",
       "    }\n",
       "</style>\n",
       "<table border=\"1\" class=\"dataframe\">\n",
       "  <thead>\n",
       "    <tr style=\"text-align: right;\">\n",
       "      <th></th>\n",
       "      <th>Start Hub</th>\n",
       "      <th>Start Latitude</th>\n",
       "      <th>Start Longitude</th>\n",
       "      <th>End Hub</th>\n",
       "      <th>End Latitude</th>\n",
       "      <th>End Longitude</th>\n",
       "      <th>Bike Name</th>\n",
       "      <th>Distance [Miles]</th>\n",
       "      <th>Duration</th>\n",
       "    </tr>\n",
       "  </thead>\n",
       "  <tbody>\n",
       "    <tr>\n",
       "      <th>count</th>\n",
       "      <td>277297.000000</td>\n",
       "      <td>277297.000000</td>\n",
       "      <td>277297.000000</td>\n",
       "      <td>277297.000000</td>\n",
       "      <td>277297.000000</td>\n",
       "      <td>277297.000000</td>\n",
       "      <td>277297.000000</td>\n",
       "      <td>277297.000000</td>\n",
       "      <td>277297</td>\n",
       "    </tr>\n",
       "    <tr>\n",
       "      <th>mean</th>\n",
       "      <td>3421.994645</td>\n",
       "      <td>34.045874</td>\n",
       "      <td>-118.271888</td>\n",
       "      <td>3416.667789</td>\n",
       "      <td>34.045822</td>\n",
       "      <td>-118.271845</td>\n",
       "      <td>7905.866602</td>\n",
       "      <td>0.776316</td>\n",
       "      <td>0 days 00:31:43.726906</td>\n",
       "    </tr>\n",
       "    <tr>\n",
       "      <th>std</th>\n",
       "      <td>539.001449</td>\n",
       "      <td>0.064987</td>\n",
       "      <td>0.097883</td>\n",
       "      <td>537.971768</td>\n",
       "      <td>0.064107</td>\n",
       "      <td>0.097998</td>\n",
       "      <td>2720.007958</td>\n",
       "      <td>1.082006</td>\n",
       "      <td>0 days 01:28:03.058314</td>\n",
       "    </tr>\n",
       "    <tr>\n",
       "      <th>min</th>\n",
       "      <td>3000.000000</td>\n",
       "      <td>33.710979</td>\n",
       "      <td>-118.491341</td>\n",
       "      <td>3000.000000</td>\n",
       "      <td>33.710979</td>\n",
       "      <td>-118.491341</td>\n",
       "      <td>4727.000000</td>\n",
       "      <td>0.000000</td>\n",
       "      <td>0 days 00:03:00</td>\n",
       "    </tr>\n",
       "    <tr>\n",
       "      <th>25%</th>\n",
       "      <td>3031.000000</td>\n",
       "      <td>34.039982</td>\n",
       "      <td>-118.262733</td>\n",
       "      <td>3031.000000</td>\n",
       "      <td>34.039982</td>\n",
       "      <td>-118.262733</td>\n",
       "      <td>6053.000000</td>\n",
       "      <td>0.338800</td>\n",
       "      <td>0 days 00:07:00</td>\n",
       "    </tr>\n",
       "    <tr>\n",
       "      <th>50%</th>\n",
       "      <td>3064.000000</td>\n",
       "      <td>34.046822</td>\n",
       "      <td>-118.252441</td>\n",
       "      <td>3063.000000</td>\n",
       "      <td>34.046810</td>\n",
       "      <td>-118.252441</td>\n",
       "      <td>6403.000000</td>\n",
       "      <td>0.621460</td>\n",
       "      <td>0 days 00:12:00</td>\n",
       "    </tr>\n",
       "    <tr>\n",
       "      <th>75%</th>\n",
       "      <td>4157.000000</td>\n",
       "      <td>34.053200</td>\n",
       "      <td>-118.237411</td>\n",
       "      <td>4157.000000</td>\n",
       "      <td>34.051941</td>\n",
       "      <td>-118.237411</td>\n",
       "      <td>12021.000000</td>\n",
       "      <td>0.989826</td>\n",
       "      <td>0 days 00:26:00</td>\n",
       "    </tr>\n",
       "    <tr>\n",
       "      <th>max</th>\n",
       "      <td>4254.000000</td>\n",
       "      <td>34.165291</td>\n",
       "      <td>-118.116530</td>\n",
       "      <td>4254.000000</td>\n",
       "      <td>34.165291</td>\n",
       "      <td>-118.116530</td>\n",
       "      <td>12456.000000</td>\n",
       "      <td>24.545519</td>\n",
       "      <td>0 days 23:59:00</td>\n",
       "    </tr>\n",
       "  </tbody>\n",
       "</table>\n",
       "</div>"
      ],
      "text/plain": [
       "           Start Hub  Start Latitude  Start Longitude        End Hub  \\\n",
       "count  277297.000000   277297.000000    277297.000000  277297.000000   \n",
       "mean     3421.994645       34.045874      -118.271888    3416.667789   \n",
       "std       539.001449        0.064987         0.097883     537.971768   \n",
       "min      3000.000000       33.710979      -118.491341    3000.000000   \n",
       "25%      3031.000000       34.039982      -118.262733    3031.000000   \n",
       "50%      3064.000000       34.046822      -118.252441    3063.000000   \n",
       "75%      4157.000000       34.053200      -118.237411    4157.000000   \n",
       "max      4254.000000       34.165291      -118.116530    4254.000000   \n",
       "\n",
       "        End Latitude  End Longitude      Bike Name  Distance [Miles]  \\\n",
       "count  277297.000000  277297.000000  277297.000000     277297.000000   \n",
       "mean       34.045822    -118.271845    7905.866602          0.776316   \n",
       "std         0.064107       0.097998    2720.007958          1.082006   \n",
       "min        33.710979    -118.491341    4727.000000          0.000000   \n",
       "25%        34.039982    -118.262733    6053.000000          0.338800   \n",
       "50%        34.046810    -118.252441    6403.000000          0.621460   \n",
       "75%        34.051941    -118.237411   12021.000000          0.989826   \n",
       "max        34.165291    -118.116530   12456.000000         24.545519   \n",
       "\n",
       "                     Duration  \n",
       "count                  277297  \n",
       "mean   0 days 00:31:43.726906  \n",
       "std    0 days 01:28:03.058314  \n",
       "min           0 days 00:03:00  \n",
       "25%           0 days 00:07:00  \n",
       "50%           0 days 00:12:00  \n",
       "75%           0 days 00:26:00  \n",
       "max           0 days 23:59:00  "
      ]
     },
     "execution_count": 27,
     "metadata": {},
     "output_type": "execute_result"
    }
   ],
   "source": [
    "df.describe()"
   ]
  },
  {
   "cell_type": "code",
   "execution_count": 28,
   "metadata": {},
   "outputs": [],
   "source": [
    "if False:\n",
    "    check_data(df)\n",
    "    check_cols(df)"
   ]
  },
  {
   "cell_type": "code",
   "execution_count": 29,
   "metadata": {},
   "outputs": [
    {
     "name": "stdout",
     "output_type": "stream",
     "text": [
      "Min start date: 2017-07-01\n",
      "Min end date: 2017-07-01\n",
      "Max start date: 2018-06-30\n",
      "Max end date: 2018-07-01\n",
      "Number of days: 365\n"
     ]
    }
   ],
   "source": [
    "# Check dates (Jul 2017 - June 2018)\n",
    "print(\"Min start date: {}\".format(df['Start Date'].min()))\n",
    "print(\"Min end date: {}\".format(df['End Date'].min()))\n",
    "print(\"Max start date: {}\".format(df['Start Date'].max()))\n",
    "print(\"Max end date: {}\".format(df['End Date'].max()))\n",
    "print(\"Number of days: {}\".format(len(set(df['Start Date']))))"
   ]
  },
  {
   "cell_type": "markdown",
   "metadata": {},
   "source": [
    "#### <span style='color:#4095b5'>Fewest rentals</span>\n",
    "<li><span style='color:#4095b5'>22 mar 2018 - Rainy</span></li>\n",
    "\n",
    "#### <span style='color:#4095b5'>Most rentals</span>\n",
    "<li><span style='color:#4095b5'>8 oct 2017 - Ciclavia: Heart of LA \"Open streets\"</span></li>\n",
    "\n",
    "#### <span style='color:#4095b5'>Outliers on Upper side of Total rentals per day of week</span>\n",
    "<li><span style='color:#4095b5'>8 oct 2017 - Ciclavia: Heart of LA \"Open streets\"</span></li>\n",
    "<li><span style='color:#4095b5'>24 dec 2017</span></li>\n",
    "\n",
    "\n",
    "#### <span style='color:#4095b5'>Outliers on LOWER side of Total rentals per day of week</span>\n",
    "<li><span style='color:#4095b5'>8 Jan 2018: Rain</span></li>\n",
    "<li><span style='color:#4095b5'>9 jan 2018: Rain</span></li>\n",
    "<li><span style='color:#4095b5'>22 mar 2018: Rain</span></li>\n",
    "<li><span style='color:#4095b5'>2 mar 2018: Rain</span></li>\n",
    "<li><span style='color:#4095b5'>10 mar 2018: Rain</span></li>\n",
    "\n",
    "#### <span style='color:#4095b5'>Outliers on Upper side of Total or Avg Duration per day of week</span>\n",
    "<li><span style='color:#4095b5'>8 oct 2017 - Ciclavia: Heart of LA \"Open streets\"</span></li>\n",
    "<li><span style='color:#4095b5'>25 dec 2017</span></li>\n",
    "<li><span style='color:#4095b5'>1 jan 2018</span></li>\n",
    "\n",
    "#### <span style='color:#4095b5'>Outliers on Lower side of Total or Avg Duration per day of week</span>\n",
    "<li><span style='color:#4095b5'>8 jul 2017 - No idea</span></li>"
   ]
  },
  {
   "cell_type": "markdown",
   "metadata": {},
   "source": [
    "<hr>\n",
    "<a name=\"write\"></a>\n",
    "\n",
    "## <span style='color:#3b748a'>VII. Write the full DataFrame to a csv file.</span>"
   ]
  },
  {
   "cell_type": "code",
   "execution_count": 30,
   "metadata": {},
   "outputs": [],
   "source": [
    "df.to_csv('../data/la/trips_all.csv', index=False)"
   ]
  },
  {
   "cell_type": "code",
   "execution_count": null,
   "metadata": {},
   "outputs": [],
   "source": []
  }
 ],
 "metadata": {
  "kernelspec": {
   "display_name": "Python 3",
   "language": "python",
   "name": "python3"
  },
  "language_info": {
   "codemirror_mode": {
    "name": "ipython",
    "version": 3
   },
   "file_extension": ".py",
   "mimetype": "text/x-python",
   "name": "python",
   "nbconvert_exporter": "python",
   "pygments_lexer": "ipython3",
   "version": "3.6.5"
  }
 },
 "nbformat": 4,
 "nbformat_minor": 2
}
