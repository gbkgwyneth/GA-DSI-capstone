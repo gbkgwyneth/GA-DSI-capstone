{
 "cells": [
  {
   "cell_type": "markdown",
   "metadata": {},
   "source": [
    "# <span style='color:#3b748a'>The rental data for San Francisco is TOO large to upload to GitHub.</span>"
   ]
  },
  {
   "cell_type": "markdown",
   "metadata": {},
   "source": [
    "<img src=\"../images/bikes_banner.jpg\" width=\"1000\" />"
   ]
  },
  {
   "cell_type": "markdown",
   "metadata": {},
   "source": [
    "## <span style=\"color:#37535e\">Bicycle Share Usage</span>\n",
    "\n",
    "##  <span style='color:#3b748a'>Cleaning San Francisco Ford GoBike data</span>\n",
    "\n",
    "<span style='color:#4095b5'>This notebook loads and cleans 12 months (September 2017 - August 2018) of data from the San Francisco Ford GoBike bicycle share. There is data going back to 2017.</span>\n",
    "\n",
    "<span style='color:#4095b5'>Each row (observation) of data describes one bike ride on which a bike is taken. Each rental includes a starting place and time, a ending place and time, as well as duration, user, and bike information. </span>"
   ]
  },
  {
   "cell_type": "markdown",
   "metadata": {},
   "source": [
    "## <span style='color:#3b748a'>Table of contents</span>\n",
    "* <span style='color:#4095b5'>I.  <a href=\"#checking\"><span style='color:#4095b5'>Data checking functions.</span></a></span>\n",
    "* <span style='color:#4095b5'>II. <a href=\"#cleaning\"><span style='color:#4095b5'>Data cleaning functions.</span></a></span>\n",
    "* <span style='color:#4095b5'>III. <a href=\"#convert\"><span style='color:#4095b5'>Extract Sep-Dec from 2017 Q3 data.</span></a></span>\n",
    "* <span style='color:#4095b5'>IV. <a href=\"#import\"><span style='color:#4095b5'>Import all data.</span></a></span>\n",
    "* <span style='color:#4095b5'>V. <a href=\"#clean\"><span style='color:#4095b5'>Clean all data.</span></a></span>\n",
    "* <span style='color:#4095b5'>VI. <a href=\"#merge\"><span style='color:#4095b5'>Merge the dataframes into 1 big one.</span></a></span>\n",
    "* <span style='color:#4095b5'>VII. <a href=\"#explore\"><span style='color:#4095b5'>Explore the data.</span></a></span>\n",
    "* <span style='color:#4095b5'>VIII. <a href=\"#write\"><span style='color:#4095b5'>Write the full dataframe to a csv file.</span></a></span>\n",
    "\n",
    "## <span style='color:#3b748a'>External data required</span>\n",
    "<ul>\n",
    "    <li><span style='color:#4095b5'>../data/sf/2018xx-fordgobike-tripdata.csv for each month in 2018; NOT available in GitHub</span></li>\n",
    "    <li><span style='color:#4095b5'>../data/sf/2017-fordgobike-tripdata.csv NOT available in GitHub</span></li>\n",
    "</ul>\n",
    "\n",
    "## <span style='color:#3b748a'>Links</span>\n",
    "<ul>\n",
    "    <li><a href=\"https://s3.amazonaws.com/fordgobike-data/index.html\"><span style='color:#4095b5'>San Francisco Ford GoBike data</span></a></li>\n",
    "    <li><a href=\"plot_sf.ipynb\"><span style='color:#4095b5'>Plotting SF data.</span></a></li>\n",
    "</ul>\n",
    "<hr>"
   ]
  },
  {
   "cell_type": "code",
   "execution_count": 1,
   "metadata": {},
   "outputs": [],
   "source": [
    "# Let's get the administrative stuff done first\n",
    "# import all the libraries and set up the plotting\n",
    "\n",
    "import pandas as pd\n",
    "import numpy as np\n",
    "from datetime import datetime,timedelta\n",
    "from geopy.distance import vincenty\n",
    "\n",
    "# Gloabal variables to track \n",
    "trivial_duration = 0\n",
    "trivial_distance = 0\n",
    "outliers_latlon = 0\n",
    "outliers_duration = 0\n",
    "outliers_distance = 0\n",
    "\n",
    "# GnBu_d\n",
    "colors = ['#37535e', '#3b748a', '#4095b5', '#52aec9', '#72bfc4', '#93d0bf']"
   ]
  },
  {
   "cell_type": "markdown",
   "metadata": {},
   "source": [
    "<hr>\n",
    "<a name=\"checking\"> </a>\n",
    "## <span style='color:#3b748a'>I. Data checking functions</span>"
   ]
  },
  {
   "cell_type": "code",
   "execution_count": 2,
   "metadata": {},
   "outputs": [],
   "source": [
    "# Check which non-numeric columns are missing values and what the possible values are for each object column\n",
    "\n",
    "def check_cols(df):\n",
    "    cols = df.select_dtypes([np.object]).columns\n",
    "    for col in cols:\n",
    "        print(\"{} is {} and values are {}.\".format(col,df[col].dtype,df[col].unique()))\n",
    "        n_nan = df[col].isnull().sum()\n",
    "        if n_nan > 0:\n",
    "            print(\"{} has {} NaNs\".format(col,n_nan))\n",
    "            \n",
    "    cols = df.select_dtypes([np.int64,np.float64,np.uint64]).columns\n",
    "    for col in cols:\n",
    "        print(\"{} is {} and values are {} to {}.\".format(col,df[col].dtype,df[col].min(),df[col].max()))\n",
    "        n_nan = df[col].isnull().sum()\n",
    "        if n_nan > 0:\n",
    "            print(\"{} has {} NaNs\".format(col,n_nan))\n",
    "    return"
   ]
  },
  {
   "cell_type": "code",
   "execution_count": 3,
   "metadata": {},
   "outputs": [],
   "source": [
    "# Check which numeric columns are missing values\n",
    "\n",
    "def check_data(df):\n",
    "    s = df.shape\n",
    "\n",
    "    # Check for null values\n",
    "    null_data = df.isnull().sum()\n",
    "    null_data_count = sum(df.isnull().sum())\n",
    "    print(\"Rows: {}\\t Cols: {}\\t NaNs: {}\".format(s[0],s[1],null_data_count))\n",
    "    if  null_data_count > 0:\n",
    "        print(\"Columns with NaN: {}\".format(list(null_data[null_data > 0].index)))\n",
    "\n",
    "    return"
   ]
  },
  {
   "cell_type": "markdown",
   "metadata": {},
   "source": [
    "<hr>\n",
    "<a name=\"cleaning\"></a>\n",
    "## <span style='color:#3b748a'> II. Data cleaning functions</span>\n",
    "\n",
    "<span style='color:#4095b5'>These functions clean the trip data.</span>"
   ]
  },
  {
   "cell_type": "markdown",
   "metadata": {},
   "source": [
    "### <span style='color:#4095b5'>Drop columns *NOT* in Atlanta data.</span>\n",
    "<span style='color:#52aec9'>I might want to add some back at some point.</span>"
   ]
  },
  {
   "cell_type": "code",
   "execution_count": 4,
   "metadata": {},
   "outputs": [],
   "source": [
    "def drop_columns(df):\n",
    "    cols_drop = ['start_station_id', 'end_station_id', 'user_type', 'member_birth_year', \n",
    "                 'member_gender', 'bike_share_for_all_trip']\n",
    "\n",
    "    # Can't drop a column that isn't there\n",
    "    cols_drop = list(set(df.columns) & set(cols_drop))\n",
    "    df.drop(cols_drop, axis=1, inplace=True)\n",
    "\n",
    "    return df"
   ]
  },
  {
   "cell_type": "markdown",
   "metadata": {},
   "source": [
    "### <span style='color:#4095b5'>Rename columns to match Atlanta data names.</span>"
   ]
  },
  {
   "cell_type": "code",
   "execution_count": 5,
   "metadata": {},
   "outputs": [],
   "source": [
    "def rename_columns(df):\n",
    "    df.rename(columns={'start_station_name' : 'Start Hub', \n",
    "                       'start_station_latitude' : 'Start Latitude',\n",
    "                       'start_station_longitude' : 'Start Longitude',\n",
    "                       'start_time' : 'Start Time', \n",
    "                       'end_station_name' : 'End Hub', \n",
    "                       'end_station_latitude' :'End Latitude', \n",
    "                       'end_station_longitude' : 'End Longitude', \n",
    "                       'end_time' : 'End Time', \n",
    "                       'bike_id' :'Bike Name',\n",
    "                       'duration_sec' : 'Duration'\n",
    "                      }, inplace=True)\n",
    "    return df\n"
   ]
  },
  {
   "cell_type": "markdown",
   "metadata": {},
   "source": [
    "### <span style='color:#4095b5'>Merge with hub data.</span>\n",
    "<span style='color:#52aec9'>We may have to use the start/end hubs to get start/end lat/long.</span>"
   ]
  },
  {
   "cell_type": "code",
   "execution_count": 6,
   "metadata": {},
   "outputs": [],
   "source": [
    "def calc_latlong(df, df_hubs):\n",
    "    return df"
   ]
  },
  {
   "cell_type": "markdown",
   "metadata": {},
   "source": [
    "### <span style='color:#4095b5'>Drop rows with nulls.</span>\n",
    "<span style='color:#52aec9'>Some hubs are null. We need to figure out how to NOT drop these!!</span>"
   ]
  },
  {
   "cell_type": "code",
   "execution_count": 7,
   "metadata": {},
   "outputs": [],
   "source": [
    "def drop_nans(df):\n",
    "    hub = \"Unknown\"\n",
    "    \n",
    "    df['Start Hub'] = df['Start Hub'].fillna(hub)\n",
    "    df['End Hub'] = df['End Hub'].fillna(hub)\n",
    "\n",
    "    return df"
   ]
  },
  {
   "cell_type": "markdown",
   "metadata": {},
   "source": [
    "### <span style='color:#4095b5'>Use appropriate datatypes.</span>\n",
    "<span style='color:#52aec9'>For example, fix Date/Time objects and cast Latitude and Longitude to floats.</span>"
   ]
  },
  {
   "cell_type": "code",
   "execution_count": 8,
   "metadata": {},
   "outputs": [],
   "source": [
    "def clean_datatypes(df):\n",
    "    df['Start Latitude'] = df['Start Latitude'].astype(float)\n",
    "    df['Start Longitude'] = df['Start Longitude'].astype(float)\n",
    "    df['End Latitude'] = df['End Latitude'].astype(float)\n",
    "    df['End Longitude'] = df['End Longitude'].astype(float)\n",
    "\n",
    "    # Turn times in datetime\n",
    "    df['Start Time'] = pd.to_datetime(df['Start Time'])\n",
    "    df['End Time'] = pd.to_datetime(df['End Time'])\n",
    "\n",
    "    # CREATE dates in datetime\n",
    "    df['Start Date'] = df['Start Time'].dt.date\n",
    "    df['End Date'] = df['End Time'].dt.date\n",
    "\n",
    "    # Fix the durations\n",
    "    df['Duration'] = pd.to_timedelta(df['Duration'], unit='s')\n",
    "    \n",
    "    return df"
   ]
  },
  {
   "cell_type": "markdown",
   "metadata": {},
   "source": [
    "### <span style='color:#4095b5'>Calculate distances.</span>\n",
    "<span style='color:#52aec9'>Poor approximation. If bike was checked-out and returned to same station, will be trivial distance.</span>"
   ]
  },
  {
   "cell_type": "code",
   "execution_count": 9,
   "metadata": {},
   "outputs": [],
   "source": [
    "def distance_calc (row):\n",
    "    start = (row['Start Latitude'], row['Start Longitude'])\n",
    "    stop = (row['End Latitude'], row['End Longitude'])\n",
    "\n",
    "    return vincenty(start, stop).miles"
   ]
  },
  {
   "cell_type": "code",
   "execution_count": 10,
   "metadata": {},
   "outputs": [],
   "source": [
    "def calc_distances(df):\n",
    "    df['Distance [Miles]'] = df.apply (lambda row: distance_calc (row),axis=1)\n",
    "    return df"
   ]
  },
  {
   "cell_type": "markdown",
   "metadata": {},
   "source": [
    "### <span style='color:#4095b5'>Reorder columns.</span>\n",
    "<span style='color:#52aec9'>Make order same as Atlanta data.</span>"
   ]
  },
  {
   "cell_type": "code",
   "execution_count": 11,
   "metadata": {},
   "outputs": [],
   "source": [
    "def reorder_cols(df):\n",
    "    columns = ['Start Hub', 'Start Latitude', 'Start Longitude', 'Start Date',\n",
    "       'Start Time', 'End Hub', 'End Latitude', 'End Longitude', 'End Date',\n",
    "       'End Time', 'Bike Name', 'Distance [Miles]', 'Duration']\n",
    "\n",
    "    df = df.reindex(columns=columns)\n",
    "    return df"
   ]
  },
  {
   "cell_type": "markdown",
   "metadata": {},
   "source": [
    "### <span style='color:#4095b5'>Drop trivial trips.</span>\n",
    "<span style='color:#52aec9'>Trivial trips have time less than 3 mins. We cannot drop for trivial distance, since we compute distance.</span>"
   ]
  },
  {
   "cell_type": "code",
   "execution_count": 12,
   "metadata": {},
   "outputs": [],
   "source": [
    "def drop_trivial_trips_distance(df):\n",
    "    df = df[df[\"Distance [Miles]\"] > 0.02].copy()\n",
    "    return df"
   ]
  },
  {
   "cell_type": "code",
   "execution_count": 13,
   "metadata": {},
   "outputs": [],
   "source": [
    "def drop_trivial_trips_duration(df):\n",
    "    df = df[df[\"Duration\"] >= pd.to_timedelta('00:03:00')].copy()\n",
    "    return df"
   ]
  },
  {
   "cell_type": "code",
   "execution_count": 14,
   "metadata": {},
   "outputs": [],
   "source": [
    "def drop_trivial_trips(df):\n",
    "    global trivial_duration\n",
    "    global trivial_distance\n",
    "\n",
    "    rows = df.shape[0]\n",
    "    df = drop_trivial_trips_duration(df)\n",
    "    rows_duration = df.shape[0]\n",
    "    trivial_duration += rows-rows_duration\n",
    "\n",
    "    # Calculated distance, don't drop\n",
    "    # df = drop_trivial_trips_distance(df)\n",
    "    rows_distance = df.shape[0]\n",
    "    trivial_distance += rows_duration-rows_distance\n",
    "\n",
    "    return df"
   ]
  },
  {
   "cell_type": "markdown",
   "metadata": {},
   "source": [
    "### <span style='color:#4095b5'>Drop outliers.</span>\n",
    "<ul>\n",
    "    <li><span style='color:#52aec9'>Only use trips near San Francisco.</span></li> \n",
    "    <li><span style='color:#52aec9'>Don't keep trips 24 hours or longer.</span></li> \n",
    "     <li><span style='color:#52aec9'>Don't keep trips further than 100 miles.</span></li> \n",
    "</ul>"
   ]
  },
  {
   "cell_type": "code",
   "execution_count": 38,
   "metadata": {},
   "outputs": [],
   "source": [
    "def drop_outliers_latlon(df):\n",
    "    df = df[df[\"Start Latitude\"] < 39].copy()\n",
    "    df = df[df[\"End Latitude\"] < 39].copy()\n",
    "#     df = df[df[\"Start Latitude\"] > 33.5].copy()\n",
    "#     df = df[df[\"End Latitude\"] > 33.5].copy()\n",
    "\n",
    "#     df = df[df[\"Start Longitude\"] < -83.0].copy()\n",
    "#     df = df[df[\"End Longitude\"] < -83.0].copy()\n",
    "\n",
    "    return df"
   ]
  },
  {
   "cell_type": "code",
   "execution_count": 16,
   "metadata": {},
   "outputs": [],
   "source": [
    "def drop_outliers_duration(df):\n",
    "    df = df[df[\"Duration\"] < pd.to_timedelta('24:00:00')].copy()\n",
    "    return df"
   ]
  },
  {
   "cell_type": "code",
   "execution_count": 17,
   "metadata": {},
   "outputs": [],
   "source": [
    "def drop_outliers_distance(df):\n",
    "    df_temp = df[df[\"Distance [Miles]\"] >= 100.0]\n",
    "    if df_temp.shape[0]:\n",
    "        print(\"Long trip: \", df_temp[['Start Latitude','Start Longitude', 'Start Time', \n",
    "                                     'End Latitude', 'End Longitude', 'End Time', \n",
    "                                     'Distance [Miles]', 'Duration']])\n",
    "    df = df[df[\"Distance [Miles]\"] < 100.0].copy()\n",
    "    return df"
   ]
  },
  {
   "cell_type": "code",
   "execution_count": 18,
   "metadata": {},
   "outputs": [],
   "source": [
    "def drop_outliers(df):\n",
    "    global outliers_latlon\n",
    "    global outliers_duration\n",
    "    global outliers_distance\n",
    "    \n",
    "    rows = df.shape[0]\n",
    "    df = drop_outliers_latlon(df)\n",
    "    rows_latlon = df.shape[0]\n",
    "    outliers_latlon += rows - rows_latlon\n",
    "    \n",
    "    df = drop_outliers_duration(df)\n",
    "    rows_duration = df.shape[0]\n",
    "    outliers_duration += rows_latlon - rows_duration\n",
    "    \n",
    "    df = drop_outliers_distance(df)\n",
    "    rows_distance = df.shape[0]\n",
    "    outliers_distance += rows_duration - rows_distance\n",
    "    \n",
    "    return df"
   ]
  },
  {
   "cell_type": "markdown",
   "metadata": {},
   "source": [
    "### <span style='color:#4095b5'>Pull all of the cleaning together.</span>"
   ]
  },
  {
   "cell_type": "code",
   "execution_count": 19,
   "metadata": {},
   "outputs": [],
   "source": [
    "def clean_df(df, df_hubs=None):\n",
    "    global trivial_duration\n",
    "    global trivial_distance\n",
    "    global outliers_latlon\n",
    "    global outliers_duration\n",
    "    global outliers_distance\n",
    "\n",
    "    df = drop_columns(df)\n",
    "    df = rename_columns(df)\n",
    "    df = calc_latlong(df, df_hubs)\n",
    "    df = drop_nans(df)\n",
    "    df = clean_datatypes(df)\n",
    "    df = calc_distances(df)\n",
    "    df = reorder_cols(df)\n",
    "    df = drop_trivial_trips(df)\n",
    "    df = drop_outliers(df)\n",
    "\n",
    "    # Information about rows dropped\n",
    "    print(\"Trivial dur: {} dist: {}\".format(trivial_duration, \n",
    "                                                                              trivial_distance))\n",
    "    print(\"Outlier loc: {} dur: {} dist: {}\".format(outliers_latlon,\n",
    "                                                     outliers_duration,\n",
    "                                                     outliers_distance))\n",
    "    return df"
   ]
  },
  {
   "cell_type": "markdown",
   "metadata": {},
   "source": [
    "<hr>\n",
    "<a name=\"convert\"></a>\n",
    "## <span style='color:#3b748a'> III. Extract July-Dec 2017 from 2017 data.</span>\n",
    "<ul>\n",
    "    <li><span style='color:#4095b5'>Trip data is quarterly.</span></li>\n",
    "    <li><span style='color:#4095b5'>The file is too huge to easily use.</span></li>\n",
    "    <li><span style='color:#4095b5'>This should be generalized.</span></li>\n",
    "</ul>"
   ]
  },
  {
   "cell_type": "code",
   "execution_count": 20,
   "metadata": {},
   "outputs": [],
   "source": [
    "if False:\n",
    "    d = \"2017\"\n",
    "    df = pd.read_csv(\"../data/sf/\"+str(d)+\"-fordgobike-tripdata.csv\")\n",
    "\n",
    "    # Turn times in datetime\n",
    "    df['Start Time'] = pd.to_datetime(df['start_time'])\n",
    "    df['End Time'] = pd.to_datetime(df['end_time'])\n",
    "\n",
    "    # 2017Q3 = 2017-07-01, 2017-08-01, 2017-09-01\n",
    "    df7 = df[df['Start Time'] < datetime.strptime('2017-08-01 00:00:00', '%Y-%m-%d %H:%M:%S')].copy()\n",
    "    df7 = df7[df7['Start Time'] >= datetime.strptime('2017-07-01 00:00:00', '%Y-%m-%d %H:%M:%S')].copy()\n",
    "    df7.drop(['Start Time', 'End Time'], axis=1, inplace=True)\n",
    "    print(df7.shape)\n",
    "    df7.to_csv('../data/sf/201707-fordgobike-tripdata.csv', index=False)\n",
    "    \n",
    "    # 2017Q3 = 2017-07-01, 2017-08-01, 2017-09-01\n",
    "    df8 = df[df['Start Time'] < datetime.strptime('2017-09-01 00:00:00', '%Y-%m-%d %H:%M:%S')].copy()\n",
    "    df8 = df8[df8['Start Time'] >= datetime.strptime('2017-08-01 00:00:00', '%Y-%m-%d %H:%M:%S')].copy()\n",
    "    df8.drop(['Start Time', 'End Time'], axis=1, inplace=True)\n",
    "    print(df8.shape)\n",
    "    df8.to_csv('../data/sf/201708-fordgobike-tripdata.csv', index=False)\n",
    "    \n",
    "    # 2017Q3 = 2017-07-01, 2017-08-01, 2017-09-01\n",
    "    df9 = df[df['Start Time'] < datetime.strptime('2017-10-01 00:00:00', '%Y-%m-%d %H:%M:%S')].copy()\n",
    "    df9 = df9[df9['Start Time'] >= datetime.strptime('2017-09-01 00:00:00', '%Y-%m-%d %H:%M:%S')].copy()\n",
    "    df9.drop(['Start Time', 'End Time'], axis=1, inplace=True)\n",
    "    print(df9.shape)\n",
    "    df9.to_csv('../data/sf/201709-fordgobike-tripdata.csv', index=False)\n",
    "    \n",
    "    # 2017Q4 = 2017-10-01, 2017-11-01, 2017-12-01\n",
    "    df10 = df[df['Start Time'] < datetime.strptime('2017-11-01 00:00:00', '%Y-%m-%d %H:%M:%S')].copy()\n",
    "    df10 = df10[df10['Start Time'] >= datetime.strptime('2017-10-01 00:00:00', '%Y-%m-%d %H:%M:%S')].copy()\n",
    "    df10.drop(['Start Time', 'End Time'], axis=1, inplace=True)\n",
    "    print(df10.shape)\n",
    "    df10.to_csv('../data/sf/201710-fordgobike-tripdata.csv', index=False)\n",
    "    \n",
    "    # 2017Q4 = 2017-10-01, 2017-11-01, 2017-12-01\n",
    "    df11 = df[df['Start Time'] < datetime.strptime('2017-12-01 00:00:00', '%Y-%m-%d %H:%M:%S')].copy()\n",
    "    df11 = df11[df11['Start Time'] >= datetime.strptime('2017-11-01 00:00:00', '%Y-%m-%d %H:%M:%S')].copy()\n",
    "    df11.drop(['Start Time', 'End Time'], axis=1, inplace=True)\n",
    "    print(df11.shape)\n",
    "    df11.to_csv('../data/sf/201711-fordgobike-tripdata.csv', index=False)\n",
    "    \n",
    "    # 2017Q4 = 2017-10-01, 2017-11-01, 2017-12-01\n",
    "    df12 = df[df['Start Time'] >= datetime.strptime('2017-12-01 00:00:00', '%Y-%m-%d %H:%M:%S')].copy()\n",
    "    df12.drop(['Start Time', 'End Time'], axis=1, inplace=True)\n",
    "    print(df12.shape)\n",
    "    df12.to_csv('../data/sf/201712-fordgobike-tripdata.csv', index=False)"
   ]
  },
  {
   "cell_type": "markdown",
   "metadata": {},
   "source": [
    "<hr>\n",
    "<a name=\"import\"></a>\n",
    "## <span style='color:#3b748a'> IV. Import all data from San Fransisco.</span>\n"
   ]
  },
  {
   "cell_type": "code",
   "execution_count": 21,
   "metadata": {},
   "outputs": [],
   "source": [
    "# Sna Francisco data is monthly for 2018, ant ehn one big csv for 2017\n",
    "# For now, just load one year\n",
    "# 201801-fordgobike-tripdata.csv\n",
    "trip_data = ['201709',\n",
    "             '201710', '201711', '201712',\n",
    "             '201801', '201802', '201803',\n",
    "             '201804', '201805', '201806',\n",
    "             '201807', '201808']"
   ]
  },
  {
   "cell_type": "code",
   "execution_count": 22,
   "metadata": {},
   "outputs": [],
   "source": [
    "# Dictionary of DataFrames, one for each month\n",
    "df_data = dict()\n",
    "for d in trip_data:\n",
    "    df_data[d] = pd.read_csv(\"../data/sf/\"+str(d)+\"-fordgobike-tripdata.csv\")"
   ]
  },
  {
   "cell_type": "markdown",
   "metadata": {},
   "source": [
    "<hr>\n",
    "<a name=\"clean\"></a>\n",
    "\n",
    "## <span style='color:#3b748a'>V. Clean all data from San Francisco.</span>\n",
    "<ul>\n",
    "    <li><span style='color:#4095b5'>Reform the data to match Atlanta data.</span></li>\n",
    "    <li><span style='color:#4095b5'>Drop the trivial trips.</span></li>\n",
    "    <li><span style='color:#4095b5'>Drop the outliers.</span></li>\n",
    "    <li><span style='color:#4095b5'>Use appropriate coumn types.</span></li>\n",
    "</ul>"
   ]
  },
  {
   "cell_type": "code",
   "execution_count": 23,
   "metadata": {},
   "outputs": [
    {
     "name": "stdout",
     "output_type": "stream",
     "text": [
      "Cleaning the data:\n",
      "Month: 201709 \n",
      "Rows: 98558\t Cols: 15\t NaNs: 26242\n",
      "Trivial dur: 3483 dist: 0\n",
      "Outlier loc: 0 dur: 0 dist: 0\n",
      "Rows: 95075\t Cols: 13\t NaNs: 0\n",
      "Month: 201710 \n",
      "Rows: 108937\t Cols: 15\t NaNs: 27222\n",
      "Trivial dur: 7723 dist: 0\n",
      "Outlier loc: 0 dur: 0 dist: 0\n",
      "Rows: 104697\t Cols: 13\t NaNs: 0\n",
      "Month: 201711 \n",
      "Rows: 95612\t Cols: 15\t NaNs: 19005\n",
      "Trivial dur: 11747 dist: 0\n",
      "Outlier loc: 0 dur: 0 dist: 0\n",
      "Rows: 91588\t Cols: 13\t NaNs: 0\n",
      "Month: 201712 \n",
      "Rows: 86539\t Cols: 15\t NaNs: 16586\n",
      "Trivial dur: 15427 dist: 0\n",
      "Outlier loc: 0 dur: 0 dist: 0\n",
      "Rows: 82859\t Cols: 13\t NaNs: 0\n",
      "Month: 201801 \n",
      "Rows: 94802\t Cols: 16\t NaNs: 15640\n",
      "Trivial dur: 19559 dist: 0\n",
      "Outlier loc: 0 dur: 0 dist: 0\n",
      "Rows: 90670\t Cols: 13\t NaNs: 0\n",
      "Month: 201802 \n",
      "Rows: 106718\t Cols: 16\t NaNs: 16148\n",
      "Trivial dur: 24418 dist: 0\n",
      "Outlier loc: 0 dur: 0 dist: 0\n",
      "Rows: 101859\t Cols: 13\t NaNs: 0\n",
      "Month: 201803 \n",
      "Rows: 111382\t Cols: 16\t NaNs: 18032\n",
      "Trivial dur: 29483 dist: 0\n",
      "Outlier loc: 0 dur: 0 dist: 0\n",
      "Rows: 106317\t Cols: 13\t NaNs: 0\n",
      "Month: 201804 \n",
      "Rows: 131169\t Cols: 16\t NaNs: 18720\n",
      "Trivial dur: 36171 dist: 0\n",
      "Outlier loc: 0 dur: 0 dist: 0\n",
      "Rows: 124481\t Cols: 13\t NaNs: 0\n",
      "Month: 201805 \n",
      "Rows: 179125\t Cols: 16\t NaNs: 23461\n",
      "Trivial dur: 46551 dist: 0\n",
      "Outlier loc: 0 dur: 0 dist: 0\n",
      "Rows: 168745\t Cols: 13\t NaNs: 0\n",
      "Month: 201806 \n",
      "Rows: 195968\t Cols: 16\t NaNs: 33414\n",
      "Trivial dur: 57414 dist: 0\n",
      "Outlier loc: 4 dur: 0 dist: 0\n",
      "Rows: 185101\t Cols: 13\t NaNs: 0\n",
      "Month: 201807 \n",
      "Rows: 199222\t Cols: 16\t NaNs: 37555\n",
      "Trivial dur: 68092 dist: 0\n",
      "Outlier loc: 4 dur: 0 dist: 0\n",
      "Rows: 188544\t Cols: 13\t NaNs: 0\n",
      "Month: 201808 \n",
      "Rows: 192162\t Cols: 16\t NaNs: 33438\n",
      "Trivial dur: 77813 dist: 0\n",
      "Outlier loc: 7 dur: 0 dist: 0\n",
      "Rows: 182438\t Cols: 13\t NaNs: 0\n"
     ]
    }
   ],
   "source": [
    "# For each month, clean the DataFrame\n",
    "print(\"Cleaning the data:\")\n",
    "for d in trip_data:\n",
    "    print(\"Month: {} \\nRows: {}\\t Cols: {}\\t NaNs: {}\".format(d, \n",
    "                                                    df_data[d].shape[0], \n",
    "                                                    df_data[d].shape[1], \n",
    "                                                    sum(df_data[d].isnull().sum())))\n",
    "    df_data[d] = clean_df(df_data[d])\n",
    "    check_data(df_data[d])"
   ]
  },
  {
   "cell_type": "markdown",
   "metadata": {},
   "source": [
    "<hr>\n",
    "<a name=\"merge\"></a>\n",
    "\n",
    "## <span style='color:#3b748a'> VI. Merge the DataFrames into 1 big DataFrame</span>\n"
   ]
  },
  {
   "cell_type": "code",
   "execution_count": 24,
   "metadata": {},
   "outputs": [],
   "source": [
    "n_rows = 0\n",
    "df = pd.DataFrame()\n",
    "for d in trip_data:\n",
    "    n_rows += df_data[d].shape[0]\n",
    "    df = df.append(df_data[d])\n",
    "\n",
    "if n_rows != df.shape[0]:\n",
    "    print(\"There is a problem with the DataFrame merge!\")"
   ]
  },
  {
   "cell_type": "markdown",
   "metadata": {},
   "source": [
    "<hr>\n",
    "<a name=\"explore\"></a>\n",
    "\n",
    "## <span style='color:#3b748a'> VII. Explore the data.</span>"
   ]
  },
  {
   "cell_type": "code",
   "execution_count": 25,
   "metadata": {},
   "outputs": [
    {
     "data": {
      "text/html": [
       "<div>\n",
       "<style scoped>\n",
       "    .dataframe tbody tr th:only-of-type {\n",
       "        vertical-align: middle;\n",
       "    }\n",
       "\n",
       "    .dataframe tbody tr th {\n",
       "        vertical-align: top;\n",
       "    }\n",
       "\n",
       "    .dataframe thead th {\n",
       "        text-align: right;\n",
       "    }\n",
       "</style>\n",
       "<table border=\"1\" class=\"dataframe\">\n",
       "  <thead>\n",
       "    <tr style=\"text-align: right;\">\n",
       "      <th></th>\n",
       "      <th>Start Hub</th>\n",
       "      <th>Start Latitude</th>\n",
       "      <th>Start Longitude</th>\n",
       "      <th>Start Date</th>\n",
       "      <th>Start Time</th>\n",
       "      <th>End Hub</th>\n",
       "      <th>End Latitude</th>\n",
       "      <th>End Longitude</th>\n",
       "      <th>End Date</th>\n",
       "      <th>End Time</th>\n",
       "      <th>Bike Name</th>\n",
       "      <th>Distance [Miles]</th>\n",
       "      <th>Duration</th>\n",
       "    </tr>\n",
       "  </thead>\n",
       "  <tbody>\n",
       "    <tr>\n",
       "      <th>0</th>\n",
       "      <td>San Francisco City Hall (Polk St at Grove St)</td>\n",
       "      <td>37.778650</td>\n",
       "      <td>-122.418230</td>\n",
       "      <td>2017-09-30</td>\n",
       "      <td>2017-09-30 19:14:38.382</td>\n",
       "      <td>3rd St at Townsend St</td>\n",
       "      <td>37.778742</td>\n",
       "      <td>-122.392741</td>\n",
       "      <td>2017-10-01</td>\n",
       "      <td>2017-10-01 17:53:24.600</td>\n",
       "      <td>2757</td>\n",
       "      <td>1.395296</td>\n",
       "      <td>22:38:46</td>\n",
       "    </tr>\n",
       "    <tr>\n",
       "      <th>1</th>\n",
       "      <td>The Embarcadero at Sansome St</td>\n",
       "      <td>37.804770</td>\n",
       "      <td>-122.403234</td>\n",
       "      <td>2017-09-30</td>\n",
       "      <td>2017-09-30 18:12:21.667</td>\n",
       "      <td>Berry St at 4th St</td>\n",
       "      <td>37.775880</td>\n",
       "      <td>-122.393170</td>\n",
       "      <td>2017-10-01</td>\n",
       "      <td>2017-10-01 16:53:48.361</td>\n",
       "      <td>2371</td>\n",
       "      <td>2.067208</td>\n",
       "      <td>22:41:26</td>\n",
       "    </tr>\n",
       "    <tr>\n",
       "      <th>2</th>\n",
       "      <td>San Francisco Public Library (Grove St at Hyde...</td>\n",
       "      <td>37.778768</td>\n",
       "      <td>-122.415929</td>\n",
       "      <td>2017-09-30</td>\n",
       "      <td>2017-09-30 16:50:35.182</td>\n",
       "      <td>Laguna St at Hayes St</td>\n",
       "      <td>37.776435</td>\n",
       "      <td>-122.426244</td>\n",
       "      <td>2017-10-01</td>\n",
       "      <td>2017-10-01 14:29:55.132</td>\n",
       "      <td>3195</td>\n",
       "      <td>0.587119</td>\n",
       "      <td>21:39:19</td>\n",
       "    </tr>\n",
       "    <tr>\n",
       "      <th>3</th>\n",
       "      <td>San Antonio Park</td>\n",
       "      <td>37.790140</td>\n",
       "      <td>-122.242373</td>\n",
       "      <td>2017-09-30</td>\n",
       "      <td>2017-09-30 19:16:34.261</td>\n",
       "      <td>San Antonio Park</td>\n",
       "      <td>37.790140</td>\n",
       "      <td>-122.242373</td>\n",
       "      <td>2017-10-01</td>\n",
       "      <td>2017-10-01 13:54:31.463</td>\n",
       "      <td>736</td>\n",
       "      <td>0.000000</td>\n",
       "      <td>18:37:57</td>\n",
       "    </tr>\n",
       "    <tr>\n",
       "      <th>4</th>\n",
       "      <td>2nd St at Townsend St - Coming Soon</td>\n",
       "      <td>37.780526</td>\n",
       "      <td>-122.390288</td>\n",
       "      <td>2017-09-30</td>\n",
       "      <td>2017-09-30 15:57:38.683</td>\n",
       "      <td>Webster St at Grove St</td>\n",
       "      <td>37.777053</td>\n",
       "      <td>-122.429558</td>\n",
       "      <td>2017-10-01</td>\n",
       "      <td>2017-10-01 11:41:13.690</td>\n",
       "      <td>73</td>\n",
       "      <td>2.162976</td>\n",
       "      <td>19:43:35</td>\n",
       "    </tr>\n",
       "  </tbody>\n",
       "</table>\n",
       "</div>"
      ],
      "text/plain": [
       "                                           Start Hub  Start Latitude  \\\n",
       "0      San Francisco City Hall (Polk St at Grove St)       37.778650   \n",
       "1                      The Embarcadero at Sansome St       37.804770   \n",
       "2  San Francisco Public Library (Grove St at Hyde...       37.778768   \n",
       "3                                   San Antonio Park       37.790140   \n",
       "4                2nd St at Townsend St - Coming Soon       37.780526   \n",
       "\n",
       "   Start Longitude  Start Date              Start Time  \\\n",
       "0      -122.418230  2017-09-30 2017-09-30 19:14:38.382   \n",
       "1      -122.403234  2017-09-30 2017-09-30 18:12:21.667   \n",
       "2      -122.415929  2017-09-30 2017-09-30 16:50:35.182   \n",
       "3      -122.242373  2017-09-30 2017-09-30 19:16:34.261   \n",
       "4      -122.390288  2017-09-30 2017-09-30 15:57:38.683   \n",
       "\n",
       "                  End Hub  End Latitude  End Longitude    End Date  \\\n",
       "0   3rd St at Townsend St     37.778742    -122.392741  2017-10-01   \n",
       "1      Berry St at 4th St     37.775880    -122.393170  2017-10-01   \n",
       "2   Laguna St at Hayes St     37.776435    -122.426244  2017-10-01   \n",
       "3        San Antonio Park     37.790140    -122.242373  2017-10-01   \n",
       "4  Webster St at Grove St     37.777053    -122.429558  2017-10-01   \n",
       "\n",
       "                 End Time  Bike Name  Distance [Miles] Duration  \n",
       "0 2017-10-01 17:53:24.600       2757          1.395296 22:38:46  \n",
       "1 2017-10-01 16:53:48.361       2371          2.067208 22:41:26  \n",
       "2 2017-10-01 14:29:55.132       3195          0.587119 21:39:19  \n",
       "3 2017-10-01 13:54:31.463        736          0.000000 18:37:57  \n",
       "4 2017-10-01 11:41:13.690         73          2.162976 19:43:35  "
      ]
     },
     "execution_count": 25,
     "metadata": {},
     "output_type": "execute_result"
    }
   ],
   "source": [
    "df.head()    "
   ]
  },
  {
   "cell_type": "code",
   "execution_count": 26,
   "metadata": {},
   "outputs": [
    {
     "data": {
      "text/plain": [
       "(1522374, 13)"
      ]
     },
     "execution_count": 26,
     "metadata": {},
     "output_type": "execute_result"
    }
   ],
   "source": [
    "df.shape"
   ]
  },
  {
   "cell_type": "code",
   "execution_count": 27,
   "metadata": {},
   "outputs": [
    {
     "data": {
      "text/plain": [
       "Index(['Start Hub', 'Start Latitude', 'Start Longitude', 'Start Date',\n",
       "       'Start Time', 'End Hub', 'End Latitude', 'End Longitude', 'End Date',\n",
       "       'End Time', 'Bike Name', 'Distance [Miles]', 'Duration'],\n",
       "      dtype='object')"
      ]
     },
     "execution_count": 27,
     "metadata": {},
     "output_type": "execute_result"
    }
   ],
   "source": [
    "df.columns"
   ]
  },
  {
   "cell_type": "code",
   "execution_count": 28,
   "metadata": {},
   "outputs": [
    {
     "data": {
      "text/html": [
       "<div>\n",
       "<style scoped>\n",
       "    .dataframe tbody tr th:only-of-type {\n",
       "        vertical-align: middle;\n",
       "    }\n",
       "\n",
       "    .dataframe tbody tr th {\n",
       "        vertical-align: top;\n",
       "    }\n",
       "\n",
       "    .dataframe thead th {\n",
       "        text-align: right;\n",
       "    }\n",
       "</style>\n",
       "<table border=\"1\" class=\"dataframe\">\n",
       "  <thead>\n",
       "    <tr style=\"text-align: right;\">\n",
       "      <th></th>\n",
       "      <th>Start Latitude</th>\n",
       "      <th>Start Longitude</th>\n",
       "      <th>End Latitude</th>\n",
       "      <th>End Longitude</th>\n",
       "      <th>Bike Name</th>\n",
       "      <th>Distance [Miles]</th>\n",
       "      <th>Duration</th>\n",
       "    </tr>\n",
       "  </thead>\n",
       "  <tbody>\n",
       "    <tr>\n",
       "      <th>count</th>\n",
       "      <td>1.522374e+06</td>\n",
       "      <td>1.522374e+06</td>\n",
       "      <td>1.522374e+06</td>\n",
       "      <td>1.522374e+06</td>\n",
       "      <td>1.522374e+06</td>\n",
       "      <td>1.522374e+06</td>\n",
       "      <td>1522374</td>\n",
       "    </tr>\n",
       "    <tr>\n",
       "      <th>mean</th>\n",
       "      <td>3.776801e+01</td>\n",
       "      <td>-1.223538e+02</td>\n",
       "      <td>3.776818e+01</td>\n",
       "      <td>-1.223532e+02</td>\n",
       "      <td>2.094845e+03</td>\n",
       "      <td>1.025729e+00</td>\n",
       "      <td>0 days 00:15:55.454902</td>\n",
       "    </tr>\n",
       "    <tr>\n",
       "      <th>std</th>\n",
       "      <td>9.913807e-02</td>\n",
       "      <td>1.179655e-01</td>\n",
       "      <td>9.903630e-02</td>\n",
       "      <td>1.174223e-01</td>\n",
       "      <td>1.159709e+03</td>\n",
       "      <td>6.318636e-01</td>\n",
       "      <td>0 days 00:46:05.212341</td>\n",
       "    </tr>\n",
       "    <tr>\n",
       "      <th>min</th>\n",
       "      <td>3.731285e+01</td>\n",
       "      <td>-1.224737e+02</td>\n",
       "      <td>3.728000e+01</td>\n",
       "      <td>-1.224737e+02</td>\n",
       "      <td>1.000000e+01</td>\n",
       "      <td>0.000000e+00</td>\n",
       "      <td>0 days 00:03:00</td>\n",
       "    </tr>\n",
       "    <tr>\n",
       "      <th>25%</th>\n",
       "      <td>3.777106e+01</td>\n",
       "      <td>-1.224117e+02</td>\n",
       "      <td>3.777166e+01</td>\n",
       "      <td>-1.224103e+02</td>\n",
       "      <td>1.126000e+03</td>\n",
       "      <td>5.852783e-01</td>\n",
       "      <td>0 days 00:06:25</td>\n",
       "    </tr>\n",
       "    <tr>\n",
       "      <th>50%</th>\n",
       "      <td>3.778127e+01</td>\n",
       "      <td>-1.223983e+02</td>\n",
       "      <td>3.778165e+01</td>\n",
       "      <td>-1.223974e+02</td>\n",
       "      <td>2.157000e+03</td>\n",
       "      <td>8.816876e-01</td>\n",
       "      <td>0 days 00:09:48</td>\n",
       "    </tr>\n",
       "    <tr>\n",
       "      <th>75%</th>\n",
       "      <td>3.779539e+01</td>\n",
       "      <td>-1.222948e+02</td>\n",
       "      <td>3.779539e+01</td>\n",
       "      <td>-1.222994e+02</td>\n",
       "      <td>3.040000e+03</td>\n",
       "      <td>1.323900e+00</td>\n",
       "      <td>0 days 00:15:12</td>\n",
       "    </tr>\n",
       "    <tr>\n",
       "      <th>max</th>\n",
       "      <td>3.788022e+01</td>\n",
       "      <td>-1.218400e+02</td>\n",
       "      <td>3.788022e+01</td>\n",
       "      <td>-1.218400e+02</td>\n",
       "      <td>4.466000e+03</td>\n",
       "      <td>4.237529e+01</td>\n",
       "      <td>0 days 23:59:29</td>\n",
       "    </tr>\n",
       "  </tbody>\n",
       "</table>\n",
       "</div>"
      ],
      "text/plain": [
       "       Start Latitude  Start Longitude  End Latitude  End Longitude  \\\n",
       "count    1.522374e+06     1.522374e+06  1.522374e+06   1.522374e+06   \n",
       "mean     3.776801e+01    -1.223538e+02  3.776818e+01  -1.223532e+02   \n",
       "std      9.913807e-02     1.179655e-01  9.903630e-02   1.174223e-01   \n",
       "min      3.731285e+01    -1.224737e+02  3.728000e+01  -1.224737e+02   \n",
       "25%      3.777106e+01    -1.224117e+02  3.777166e+01  -1.224103e+02   \n",
       "50%      3.778127e+01    -1.223983e+02  3.778165e+01  -1.223974e+02   \n",
       "75%      3.779539e+01    -1.222948e+02  3.779539e+01  -1.222994e+02   \n",
       "max      3.788022e+01    -1.218400e+02  3.788022e+01  -1.218400e+02   \n",
       "\n",
       "          Bike Name  Distance [Miles]                Duration  \n",
       "count  1.522374e+06      1.522374e+06                 1522374  \n",
       "mean   2.094845e+03      1.025729e+00  0 days 00:15:55.454902  \n",
       "std    1.159709e+03      6.318636e-01  0 days 00:46:05.212341  \n",
       "min    1.000000e+01      0.000000e+00         0 days 00:03:00  \n",
       "25%    1.126000e+03      5.852783e-01         0 days 00:06:25  \n",
       "50%    2.157000e+03      8.816876e-01         0 days 00:09:48  \n",
       "75%    3.040000e+03      1.323900e+00         0 days 00:15:12  \n",
       "max    4.466000e+03      4.237529e+01         0 days 23:59:29  "
      ]
     },
     "execution_count": 28,
     "metadata": {},
     "output_type": "execute_result"
    }
   ],
   "source": [
    "df.describe()"
   ]
  },
  {
   "cell_type": "code",
   "execution_count": 29,
   "metadata": {},
   "outputs": [],
   "source": [
    "if False:\n",
    "    check_data(df)\n",
    "    check_cols(df)"
   ]
  },
  {
   "cell_type": "code",
   "execution_count": 36,
   "metadata": {},
   "outputs": [
    {
     "data": {
      "text/plain": [
       "(7650, 13)"
      ]
     },
     "execution_count": 36,
     "metadata": {},
     "output_type": "execute_result"
    }
   ],
   "source": [
    "df_unknown = df[(df[\"Start Hub\"] == \"Unknown\") | (df[\"Start Hub\"] == \"Unknown\")].copy()\n",
    "df_unknown.shape"
   ]
  },
  {
   "cell_type": "code",
   "execution_count": 37,
   "metadata": {},
   "outputs": [
    {
     "data": {
      "text/html": [
       "<div>\n",
       "<style scoped>\n",
       "    .dataframe tbody tr th:only-of-type {\n",
       "        vertical-align: middle;\n",
       "    }\n",
       "\n",
       "    .dataframe tbody tr th {\n",
       "        vertical-align: top;\n",
       "    }\n",
       "\n",
       "    .dataframe thead th {\n",
       "        text-align: right;\n",
       "    }\n",
       "</style>\n",
       "<table border=\"1\" class=\"dataframe\">\n",
       "  <thead>\n",
       "    <tr style=\"text-align: right;\">\n",
       "      <th></th>\n",
       "      <th>Start Latitude</th>\n",
       "      <th>Start Longitude</th>\n",
       "      <th>End Latitude</th>\n",
       "      <th>End Longitude</th>\n",
       "      <th>Bike Name</th>\n",
       "      <th>Distance [Miles]</th>\n",
       "      <th>Duration</th>\n",
       "    </tr>\n",
       "  </thead>\n",
       "  <tbody>\n",
       "    <tr>\n",
       "      <th>count</th>\n",
       "      <td>7650.000000</td>\n",
       "      <td>7650.000000</td>\n",
       "      <td>7650.000000</td>\n",
       "      <td>7650.000000</td>\n",
       "      <td>7650.000000</td>\n",
       "      <td>7650.000000</td>\n",
       "      <td>7650</td>\n",
       "    </tr>\n",
       "    <tr>\n",
       "      <th>mean</th>\n",
       "      <td>37.403454</td>\n",
       "      <td>-121.939016</td>\n",
       "      <td>37.402868</td>\n",
       "      <td>-121.938736</td>\n",
       "      <td>4172.396209</td>\n",
       "      <td>0.669710</td>\n",
       "      <td>0 days 00:28:40.141176</td>\n",
       "    </tr>\n",
       "    <tr>\n",
       "      <th>std</th>\n",
       "      <td>0.010805</td>\n",
       "      <td>0.013237</td>\n",
       "      <td>0.011680</td>\n",
       "      <td>0.013528</td>\n",
       "      <td>85.166273</td>\n",
       "      <td>0.729365</td>\n",
       "      <td>0 days 01:34:34.690294</td>\n",
       "    </tr>\n",
       "    <tr>\n",
       "      <th>min</th>\n",
       "      <td>37.320000</td>\n",
       "      <td>-121.990000</td>\n",
       "      <td>37.280000</td>\n",
       "      <td>-122.000000</td>\n",
       "      <td>3745.000000</td>\n",
       "      <td>0.000000</td>\n",
       "      <td>0 days 00:03:00</td>\n",
       "    </tr>\n",
       "    <tr>\n",
       "      <th>25%</th>\n",
       "      <td>37.400000</td>\n",
       "      <td>-121.950000</td>\n",
       "      <td>37.400000</td>\n",
       "      <td>-121.950000</td>\n",
       "      <td>4123.000000</td>\n",
       "      <td>0.000000</td>\n",
       "      <td>0 days 00:07:22</td>\n",
       "    </tr>\n",
       "    <tr>\n",
       "      <th>50%</th>\n",
       "      <td>37.400000</td>\n",
       "      <td>-121.940000</td>\n",
       "      <td>37.400000</td>\n",
       "      <td>-121.940000</td>\n",
       "      <td>4172.000000</td>\n",
       "      <td>0.550182</td>\n",
       "      <td>0 days 00:13:14</td>\n",
       "    </tr>\n",
       "    <tr>\n",
       "      <th>75%</th>\n",
       "      <td>37.410000</td>\n",
       "      <td>-121.930000</td>\n",
       "      <td>37.410000</td>\n",
       "      <td>-121.930000</td>\n",
       "      <td>4245.000000</td>\n",
       "      <td>0.882230</td>\n",
       "      <td>0 days 00:26:42</td>\n",
       "    </tr>\n",
       "    <tr>\n",
       "      <th>max</th>\n",
       "      <td>37.450000</td>\n",
       "      <td>-121.840000</td>\n",
       "      <td>37.440000</td>\n",
       "      <td>-121.840000</td>\n",
       "      <td>4293.000000</td>\n",
       "      <td>9.988703</td>\n",
       "      <td>0 days 23:46:14</td>\n",
       "    </tr>\n",
       "  </tbody>\n",
       "</table>\n",
       "</div>"
      ],
      "text/plain": [
       "       Start Latitude  Start Longitude  End Latitude  End Longitude  \\\n",
       "count     7650.000000      7650.000000   7650.000000    7650.000000   \n",
       "mean        37.403454      -121.939016     37.402868    -121.938736   \n",
       "std          0.010805         0.013237      0.011680       0.013528   \n",
       "min         37.320000      -121.990000     37.280000    -122.000000   \n",
       "25%         37.400000      -121.950000     37.400000    -121.950000   \n",
       "50%         37.400000      -121.940000     37.400000    -121.940000   \n",
       "75%         37.410000      -121.930000     37.410000    -121.930000   \n",
       "max         37.450000      -121.840000     37.440000    -121.840000   \n",
       "\n",
       "         Bike Name  Distance [Miles]                Duration  \n",
       "count  7650.000000       7650.000000                    7650  \n",
       "mean   4172.396209          0.669710  0 days 00:28:40.141176  \n",
       "std      85.166273          0.729365  0 days 01:34:34.690294  \n",
       "min    3745.000000          0.000000         0 days 00:03:00  \n",
       "25%    4123.000000          0.000000         0 days 00:07:22  \n",
       "50%    4172.000000          0.550182         0 days 00:13:14  \n",
       "75%    4245.000000          0.882230         0 days 00:26:42  \n",
       "max    4293.000000          9.988703         0 days 23:46:14  "
      ]
     },
     "execution_count": 37,
     "metadata": {},
     "output_type": "execute_result"
    }
   ],
   "source": [
    "df_unknown.describe()"
   ]
  },
  {
   "cell_type": "code",
   "execution_count": 30,
   "metadata": {},
   "outputs": [
    {
     "name": "stdout",
     "output_type": "stream",
     "text": [
      "Min start date: 2017-09-01\n",
      "Min end date: 2017-09-01\n",
      "Max start date: 2018-08-31\n",
      "Max end date: 2018-09-01\n",
      "Number of days: 365\n"
     ]
    }
   ],
   "source": [
    "# Check dates (Sep 2017 - July 2018 has 334 days)\n",
    "print(\"Min start date: {}\".format(df['Start Date'].min()))\n",
    "print(\"Min end date: {}\".format(df['End Date'].min()))\n",
    "print(\"Max start date: {}\".format(df['Start Date'].max()))\n",
    "print(\"Max end date: {}\".format(df['End Date'].max()))\n",
    "print(\"Number of days: {}\".format(len(set(df['Start Date']))))"
   ]
  },
  {
   "cell_type": "markdown",
   "metadata": {},
   "source": [
    "#### <span style='color:#4095b5'>Fewest rentals</span>\n",
    "<li><span style='color:#4095b5'>26 nov 2017 - ??</span></li>\n",
    "    \n",
    "#### <span style='color:#4095b5'>Most rentals</span>\n",
    "<li><span style='color:#4095b5'>25 jul 2018 - Phish?</span></li>\n",
    "\n",
    "#### <span style='color:#4095b5'>Outliers on Upper side of Total or Avg Duration per day of week</span>\n",
    "<li><span style='color:#4095b5'>3 sep 2017 - Labor day weekend</span></li>\n",
    "<li><span style='color:#4095b5'>23-24 nov 2017 - Thanksgiving</span></li>\n",
    "<li><span style='color:#4095b5'>25 dec 2017</span></li>\n",
    "<li><span style='color:#4095b5'>1 jan 2018</span></li>\n"
   ]
  },
  {
   "cell_type": "code",
   "execution_count": null,
   "metadata": {},
   "outputs": [],
   "source": []
  },
  {
   "cell_type": "markdown",
   "metadata": {},
   "source": [
    "<hr>\n",
    "<a name=\"write\"></a>\n",
    "\n",
    "## <span style='color:#3b748a'>VIII. Write the full DataFrame to a csv file.</span>"
   ]
  },
  {
   "cell_type": "code",
   "execution_count": 31,
   "metadata": {},
   "outputs": [],
   "source": [
    "df.to_csv('../data/sf/trips_all.csv', index=False)"
   ]
  },
  {
   "cell_type": "code",
   "execution_count": null,
   "metadata": {},
   "outputs": [],
   "source": []
  },
  {
   "cell_type": "code",
   "execution_count": null,
   "metadata": {},
   "outputs": [],
   "source": []
  }
 ],
 "metadata": {
  "kernelspec": {
   "display_name": "Python 3",
   "language": "python",
   "name": "python3"
  },
  "language_info": {
   "codemirror_mode": {
    "name": "ipython",
    "version": 3
   },
   "file_extension": ".py",
   "mimetype": "text/x-python",
   "name": "python",
   "nbconvert_exporter": "python",
   "pygments_lexer": "ipython3",
   "version": "3.6.5"
  }
 },
 "nbformat": 4,
 "nbformat_minor": 2
}
