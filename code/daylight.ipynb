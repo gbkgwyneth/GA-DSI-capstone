{
 "cells": [
  {
   "cell_type": "markdown",
   "metadata": {},
   "source": [
    "<img src=\"../images/sunset-banner.jpg\" width=\"1000\">"
   ]
  },
  {
   "cell_type": "markdown",
   "metadata": {},
   "source": [
    "# <span style=\"color:#37535e\">Daylight Data</span>\n",
    "<span style=\"color:#3b748a\">Along with investigating day of the week bike usage and weather to make predictions, it seems likely that hours of daylight also can affect usage rates. To collect historical daylight data, I use <a href=\"https://www.crummy.com/software/BeautifulSoup/\"><span style=\"color:#37535e\">BeautifulSoup</span></a> to scrape from <a href=\"https://www.timeanddate.com/\"><span style=\"color:#37535e\">timeanddate.com</span></a>. </span>\n",
    "\n",
    "<span style=\"color:#3b748a\">For a given set of years, daylight data for each city is scraped into a separate DataFrame and written to a csv file.</span>\n",
    "\n",
    "<hr>\n",
    "\n",
    "## <span style='color:#3b748a'>Links</span>\n",
    "* <a href=\"https://www.crummy.com/software/BeautifulSoup/\"><span style=\"color:#37535e\">BeautifulSoup</span></a> \n",
    "* <a href=\"https://www.timeanddate.com/\"><span style=\"color:#37535e\">timeanddate.com</span></a>\n",
    "* <a href=\"main.ipynb\">Main notebook</a>\n",
    "\n",
    "## <span style='color:#3b748a'>Daylight links</span>\n",
    "* <a href=\"https://www.timeanddate.com/sun/usa/atlanta\"><span style=\"color:#37535e\">Atlanta</span></a> \n",
    "* <a href=\"https://www.timeanddate.com/sun/usa/boston\"><span style=\"color:#37535e\">Boston</span></a> \n",
    "* <a href=\"https://www.timeanddate.com/sun/usa/chicago\"><span style=\"color:#37535e\">Chicago</span></a> \n",
    "* <a href=\"https://www.timeanddate.com/sun/usa/los-angeles\"><span style=\"color:#37535e\">Los Angeles</span></a> \n",
    "* <a href=\"https://www.timeanddate.com/sun/usa/philadelphia\"><span style=\"color:#37535e\">Philadelphia</span></a> \n",
    "* <a href=\"https://www.timeanddate.com/sun/usa/san-francisco\"><span style=\"color:#37535e\">San Francisco</span></a> \n",
    "* <a href=\"https://www.timeanddate.com/sun/usa/washington-dc\"><span style=\"color:#37535e\">Washington, DC</span></a> \n",
    "* <a href=\"https://www.timeanddate.com/sun/usa/new-york\"><span style=\"color:#37535e\">NYC</span></a> \n",
    "\n",
    "<hr>"
   ]
  },
  {
   "cell_type": "code",
   "execution_count": 1,
   "metadata": {},
   "outputs": [],
   "source": [
    "# Let's get the administrative stuff done first\n",
    "# import all the libraries and set up the plotting\n",
    "\n",
    "import requests\n",
    "import pandas as pd\n",
    "from bs4 import BeautifulSoup\n",
    "from datetime import datetime\n"
   ]
  },
  {
   "cell_type": "markdown",
   "metadata": {},
   "source": [
    "## <span style='color:#3b748a'>Scrape monthly daylight data</span>\n",
    "<ul>\n",
    "    <li><span style='color:#4095b5'>For each month, visit the correct month and city on timeanddate.</span></li>\n",
    "    <li><span style='color:#4095b5'>Scrape using BeautifulSoup.</span></li>    \n",
    "</ul>"
   ]
  },
  {
   "cell_type": "code",
   "execution_count": 2,
   "metadata": {},
   "outputs": [],
   "source": [
    "def read_write_wx(start_year, end_year, wx_code):\n",
    "    list_wx = []\n",
    "    for yr in range(start_year, end_year+1):\n",
    "        for mn in range(1, 13):\n",
    "\n",
    "            # Open timedate.com url\n",
    "            url = \"https://www.timeanddate.com/sun/usa/\" + wx_code + \"?month=\" + str(mn)+ \"&year=\" + str(yr) + \"2018\"\n",
    "            res = requests.get(url)\n",
    "            res.status_code\n",
    "            soup = BeautifulSoup(res.content, 'lxml')\n",
    "\n",
    "            h = soup.find('table', { 'id' : 'as-monthsun'})\n",
    "            b = h.find('tbody')\n",
    "            row_list = b.find_all('tr', { 'title' : \"Click to expand for more details\"})\n",
    "            for row in row_list:\n",
    "                date_list = row.find('th')\n",
    "                day = date_list.text\n",
    "                date = datetime(yr, mn, int(day))\n",
    "                daylight = row.find('td', {'class' : 'c tr sep-l'}).text\n",
    "                list_wx.append({\"Date\" : date, \"Daylight\" : daylight})\n",
    "\n",
    "        df = pd.DataFrame(list_wx)\n",
    "    return df"
   ]
  },
  {
   "cell_type": "markdown",
   "metadata": {},
   "source": [
    "## <span style='color:#3b748a'>Cities and dates</span>"
   ]
  },
  {
   "cell_type": "code",
   "execution_count": 3,
   "metadata": {},
   "outputs": [],
   "source": [
    "city_codes = { \n",
    "    'atl' : \"atlanta\", \n",
    "    'bos' : \"boston\", \n",
    "    'chi' : \"chicago\", \n",
    "    'la' : \"los-angeles\", \n",
    "    'phl' : \"philadelphia\", \n",
    "    'sf' : \"san-francisco\", \n",
    "    'dc' : \"washington-dc\", \n",
    "    'nyc' : \"new-york\"\n",
    "        }\n",
    "\n",
    "start_year = 2017\n",
    "end_year = 2018"
   ]
  },
  {
   "cell_type": "markdown",
   "metadata": {},
   "source": [
    "## <span style='color:#3b748a'>Loop through cities, scrape data, write data to csv file.</span>"
   ]
  },
  {
   "cell_type": "code",
   "execution_count": 4,
   "metadata": {},
   "outputs": [],
   "source": [
    "for city, wx_code in city_codes.items():\n",
    "    df = read_write_wx(start_year, end_year, wx_code)\n",
    "    df.to_csv('../data/' + city + '/daylight.csv', index=False)"
   ]
  },
  {
   "cell_type": "code",
   "execution_count": null,
   "metadata": {},
   "outputs": [],
   "source": []
  },
  {
   "cell_type": "code",
   "execution_count": null,
   "metadata": {},
   "outputs": [],
   "source": []
  }
 ],
 "metadata": {
  "kernelspec": {
   "display_name": "Python 3",
   "language": "python",
   "name": "python3"
  },
  "language_info": {
   "codemirror_mode": {
    "name": "ipython",
    "version": 3
   },
   "file_extension": ".py",
   "mimetype": "text/x-python",
   "name": "python",
   "nbconvert_exporter": "python",
   "pygments_lexer": "ipython3",
   "version": "3.6.5"
  }
 },
 "nbformat": 4,
 "nbformat_minor": 2
}
