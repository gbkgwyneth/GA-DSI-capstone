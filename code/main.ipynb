{
 "cells": [
  {
   "cell_type": "markdown",
   "metadata": {},
   "source": [
    "<img src=\"../images/bikes_banner.jpg\" width=\"1000\" />"
   ]
  },
  {
   "cell_type": "markdown",
   "metadata": {},
   "source": [
    "# <span style=\"color:#37535e\">Bicycle Share Usage Predictions</span>\n",
    "<blockquote><span style=\"color:#3b748a\">Relay Bike Share is the City of Atlanta’s bike share operator. With 500 “smart bikes” and over 70 stations across the city, Relay seeks to be a healthy and enjoyable transportation solution.</span></blockquote>\n",
    "\n",
    "<span style=\"color:#3b748a\">I want to predict where and when will the bikes be used so we know many should be put at a station on a particular day? In addition, it would be interesting to predict how far a bike at a station might travel on a given day in order to balancing bikes for even usage.</span>\n",
    "\n",
    "<span style=\"color:#3b748a\">Trip data for the past year can be found at \n",
    "<a href=\"http://relaybikeshare.com/system-data/\">http://relaybikeshare.com/system-data/</a>.</span>"
   ]
  },
  {
   "cell_type": "markdown",
   "metadata": {},
   "source": [
    "##  <span style='color:#3b748a'>Bike angels</span>\n",
    "<span style=\"color:#3b748a\"><a href=\"https://www.newyorker.com/magazine/2017/12/04/hacking-the-citi-bike-points-system\"><span style=\"color:#3b748a\">Hacking the Citi Bike Points System</span></a>:</span>\n",
    "<blockquote><span style=\"color:#3b748a\">He had arranged to meet Collin Waldoch, who runs Bike Angels, the Citi Bike program that awards points, redeemable for extended membership and other modest benefits (a commemorative pin; a white bike key), to riders who help the company rebalance its network of twelve thousand bikes. Angels earn points for taking bikes from full stations and parking them at empty ones.</span></blockquote>"
   ]
  },
  {
   "cell_type": "markdown",
   "metadata": {},
   "source": [
    "## <span style='color:#3b748a'>Table of contents</span>\n",
    "* <a href=\"#step1\"><span style='color:#4095b5'>I. Define the problem.</span></a>\n",
    "* <a href=\"#step2\"><span style='color:#4095b5'>II. Obtain the data.</span></a>\n",
    "* <a href=\"#step3\"><span style='color:#4095b5'>III. Explore the data.</span></a>\n",
    "* <a href=\"#step4\"><span style='color:#4095b5'>IV. Model the data.</span></a>\n",
    "* <a href=\"#step5\"><span style='color:#4095b5'>V. Evaluate the model.</span></a>\n",
    "* <a href=\"#step6\"><span style='color:#4095b5'>VI. Answer the problem.</span></a>\n",
    "* <a href=\"#future\"><span style='color:#4095b5'>VII. Further explorations.</span></a>\n",
    "\n",
    "## <span style='color:#3b748a'>Project Links</span>\n",
    "* <a href=\"https://www.newyorker.com/magazine/2017/12/04/hacking-the-citi-bike-points-system\"><span style='color:#4095b5/https://docs.google.com/presentation/d/1wKPg5ixHR6wnIL1Ch6Md7X6fu3xuTKe8wIhZaTIeP10/edit?usp=sharing/'>Hacking the Citi Bike Points System</span></a>\n",
    "* <a href=\"https://docs.google.com/presentation/d/1wKPg5ixHR6wnIL1Ch6Md7X6fu3xuTKe8wIhZaTIeP10/edit?usp=sharing\"><span style='color:#4095b5'>Slide presentation</span></a>\n",
    "* <a href=\"https://github.com/gbkgwyneth/GA-DSI-capstone\"><span style='color:#4095b5'>On GitHub</span></a>\n",
    "\n",
    "\n",
    "## <span style='color:#3b748a'>Project Links</span>\n",
    "### <span style='color:#4095b5'>Initial EDA</span>\n",
    "* <a href=\"EDA-ATL.ipynb\"><span style='color:#4095b5'>Initial explorations for Atlanta</span></a>\n",
    "\n",
    "### <span style='color:#4095b5'>Scraping</span>\n",
    "* <a href=\"weather.ipynb\"><span style='color:#4095b5'>Weather data</span></a>\n",
    "* <a href=\"daylight.ipynb\"><span style='color:#4095b5'>Daylight data</span></a>\n",
    "\n",
    "### <span style='color:#4095b5'>Cleaning</span>\n",
    "* <a href=\"clean_atl.ipynb\"><span style='color:#4095b5'>Cleaning Atlanta trip data</span></a>\n",
    "* <a href=\"clean_bos.ipynb\"><span style='color:#4095b5'>Cleaning Boston trip data</span></a>\n",
    "* <a href=\"clean_chi.ipynb\"><span style='color:#4095b5'>Cleaning Chicago trip data</span></a>\n",
    "* <a href=\"clean_la.ipynb\"><span style='color:#4095b5'>Cleaning Los Angeles trip data</span></a>\n",
    "* <a href=\"clean_phl.ipynb\"><span style='color:#4095b5'>Cleaning Philadelphia trip data</span></a>\n",
    "* <a href=\"clean_sf.ipynb\"><span style='color:#4095b5'>Cleaning San Francisco trip data</span></a>\n",
    "* <a href=\"clean_dc.ipynb\"><span style='color:#4095b5'>Cleaning Wshington, DC trip data</span></a>\n",
    "\n",
    "### <span style='color:#4095b5'>Plotting</span>\n",
    "* <a href=\"clean_atl.ipynb\"><span style='color:#4095b5'>Plotting Atlanta data</span></a>\n",
    "* <a href=\"clean_bos.ipynb\"><span style='color:#4095b5'>Plotting Boston data</span></a>\n",
    "* <a href=\"clean_chi.ipynb\"><span style='color:#4095b5'>Plotting Chicago data</span></a>\n",
    "* <a href=\"clean_la.ipynb\"><span style='color:#4095b5'>Plotting Los Angeles data</span></a>\n",
    "* <a href=\"clean_phl.ipynb\"><span style='color:#4095b5'>Plotting Philadelphia data</span></a>\n",
    "* <a href=\"clean_sf.ipynb\"><span style='color:#4095b5'>Plotting San Francisco data</span></a>\n",
    "* <a href=\"clean_dc.ipynb\"><span style='color:#4095b5'>Plotting Wshington, DC data</span></a>\n",
    "* <a href=\"clean_atl.ipynb\"><span style='color:#4095b5'>Plotting comparisons of all cities</span></a>\n",
    "\n",
    "### <span style='color:#4095b5'>Modeling</span>\n",
    "* <a href=\"model.ipynb\"><span style='color:#4095b5'>Regression model</span></a>\n"
   ]
  },
  {
   "cell_type": "markdown",
   "metadata": {},
   "source": [
    "<hr>\n",
    " <a name=\"step1\"></a>\n",
    " ## <span style=\"color:#37535e\">I. Define the problem</span>\n",
    " \n",
    "<span style='color:#3b748a'>I propose to use regression modeling to determine how many bikes a rack needs to have at the start of the day so that it will not be empty. I also hope to investigate different methods of shuffling bikes so that they will get even amounts of usage.</span>"
   ]
  },
  {
   "cell_type": "markdown",
   "metadata": {},
   "source": [
    "<hr>\n",
    "<a name=\"step2\"></a>\n",
    "## <span style=\"color:#37535e\">II. Obtain the data.</span>\n",
    "\n",
    "<ul>\n",
    "    <li><span style='color:#3b748a'>6 cities with possibility of 2 more: Atlanta, Boston, Chicago, LA, Philly, and SF with possibility for DC and NYC. Only one year of data for now (Sep 2017- July 2018), but we have more for some of the cities.</span></li>\n",
    "    <li><span style='color:#3b748a'>Weather data scraped using BeautifulSoup from Weather Underground for all 8 cities for 2017 &amp; 2018 but can easily scrape more.</span></li>\n",
    "    <li><span style='color:#3b748a'>Daylight data scraped using BeautifulSoup from timedate.com for all 8 cities for 2017 &amp; 2018 but can easily scrape more (though it is cyclical, so it probably would not be useful).</span></li>\n",
    "</ul>"
   ]
  },
  {
   "cell_type": "markdown",
   "metadata": {},
   "source": [
    "### <span style='color:#3b748a'>Bike share data</span>\n",
    "<span style='color:#4095b5'>Each row (observation) data describes each rental. Each rental includes a starting place and time, a ending place and time, as well as distance, user, and bike information. </span>"
   ]
  },
  {
   "cell_type": "markdown",
   "metadata": {},
   "source": [
    "### <span style='color:#3b748a'>Weather data</span>\n",
    "<span style='color:#4095b5'>Each row (observation) data describes one day of weather. The information includes: date, temperature, dew, humidity, sea air pressure, visibility, precipitation, and \"events\". </span>"
   ]
  },
  {
   "cell_type": "markdown",
   "metadata": {},
   "source": [
    "### <span style='color:#3b748a'>Daylight data</span>\n",
    "<span style='color:#4095b5'>Each row (observation) data describes the number of hours of daylight for one day. </span>"
   ]
  },
  {
   "cell_type": "markdown",
   "metadata": {},
   "source": [
    "<hr>\n",
    "<a name=\"step3\"></a>\n",
    "## <span style=\"color:#37535e\">III. Explore the data.</span>\n",
    "\n",
    "<ul>\n",
    "    <li><span style='color:#3b748a'>Check the data read in from the csv files.</span></li>\n",
    "    <li><span style='color:#3b748a'>Clean the rental, weather, and daylight data read in from the csv files.</span>       <li><span style='color:#3b748a'>Plot the rental, weather, and daylight data read in from the csv files.</span>         <li><span style='color:#3b748a'>Plot correlations for each city.</span></li>\n",
    "</ul>"
   ]
  },
  {
   "cell_type": "markdown",
   "metadata": {},
   "source": [
    "<table><tr>\n",
    "    <td><img src=\"../images/day_bos.jpg\" /></td><td><img src=\"../images/dur_bos.jpg\"  /></td>\n",
    "    </tr></table>"
   ]
  },
  {
   "cell_type": "markdown",
   "metadata": {},
   "source": [
    "<img src=\"../images/wind-compare.jpg\" align=\"center\" width=\"900\" />"
   ]
  },
  {
   "cell_type": "markdown",
   "metadata": {},
   "source": [
    "<hr>\n",
    "<a name=\"step4\"></a>\n",
    "## <span style=\"color:#37535e\">IV. Model the data.</span>\n",
    "\n",
    "### <span style='color:#3b748a'>First model</span>\n",
    "<span style='color:#4095b5'>Let's predict how many rides a day (or total distance or total duration) based on day of week and weather.</span>\n",
    "\n",
    "### <span style='color:#3b748a'>Feature engineering</span>\n",
    "<ul>\n",
    "    <li><span style='color:#4095b5'>Use Groupby to create a DataFrame for daily trip data, using columns: Start Date, City, Total Duration, Total Duration, and Total Trips.</span></li>\n",
    "    <li><span style='color:#4095b5'>Merge the trip data with the weather and daylight data.</span></li>\n",
    "    <li><span style='color:#4095b5'>Add day of the week and week of the year.</span></li>\n",
    "    <li><span style='color:#4095b5'>Add day of the week and week of the year.</span></li>\n",
    "    <li><span style='color:#4095b5'>Create a \"peak\" variable to capture more of the cyclic usage.</span></li>\n",
    "    <li><span style='color:#4095b5'>Make dummies</span></li>\n",
    "</ul>"
   ]
  },
  {
   "cell_type": "markdown",
   "metadata": {},
   "source": [
    "<table><tr>\n",
    "    <td><img src=\"../images/dayofyear-bos.jpg\" /></td><td><img src=\"../images/peak-bos.jpg\"  /></td>\n",
    "    </tr></table>"
   ]
  },
  {
   "cell_type": "markdown",
   "metadata": {},
   "source": [
    "### <span style='color:#3b748a'>Use the MASSIVE Pipeline</span>\n",
    "<ul>\n",
    "    <li><span style='color:#4095b5'>The Pipeline function takes a set of features and a model and runs grid search over their parameters on the train/test data for the specified model.</span></li>\n",
    "    <li><span style='color:#4095b5'>Adjustment of the parameter ranges is not automated at this time. Each time it runs, we check to see if a parameter bound has been hit and adjust the value ranges.</span></li>\n",
    "    <li><span style='color:#4095b5'>The function returns information about the best model, but not the model itself. Perhaps to be included in the future.</span></li>\n",
    "</ul>"
   ]
  },
  {
   "cell_type": "markdown",
   "metadata": {},
   "source": [
    "### <span style='color:#3b748a'>Prepare for REGRESSION to predict # trips based on <span style=\"font-family:monospace\">day of week, date, weather, and daylight.</span></span>\n",
    "<ul>\n",
    "    <li><span style='color:#4095b5'>Use a subest of columns.</span></li>\n",
    "    <li><span style='color:#4095b5'>Do a train/test split on the data.</span></li>\n",
    "</ul>"
   ]
  },
  {
   "cell_type": "markdown",
   "metadata": {},
   "source": [
    "### <span style='color:#3b748a'>Call the pipeline to use REGRESSION to predict the number of rentals on a given day</span>\n",
    "<ul>\n",
    "    <li><span style='color:#4095b5'>Choose a regression model.</span></span></li>\n",
    "    <li><span style='color:#4095b5'>Use <span style=\"font-family:monospace\">StandardScaler</span>.</span></li>\n",
    "    <li><span style='color:#4095b5'>Update params values based on grid search and repeat (not automated).</span></li>       </ul>"
   ]
  },
  {
   "cell_type": "markdown",
   "metadata": {},
   "source": [
    "<hr>\n",
    "<a name=\"step5\"></a>\n",
    "## <span style=\"color:#37535e\">V. Evaluate the model.</span>\n"
   ]
  },
  {
   "cell_type": "markdown",
   "metadata": {},
   "source": [
    "|     |\tGradient Boost |    Train     |    Test      | Features |\n",
    "| :-: | :-----------: | :------------: | -----------: | -----------: | :------- |\n",
    "| ATL |       325      | 0.7205557045 | 0.6566920974 | Humidity, Precipitation, Temperature, Daylight, DaysFromPeak, DayOfWeek, Year |\n",
    "| BOS |       330      | 0.9047285172 | 0.943948623  | Humidity, Precipitation, Temperature, Wind Speed,  Daylight, DaysFromPeak, DayOfWeek, Year |\n",
    "| CHI |       324      | 0.9261900475 | 0.9637349791 | Humidity, Precipitation, Temperature, Wind Speed,  Daylight, DaysFromPeak, DayOfWeek, Year |\n",
    "| LA  |       328      | 0.4112204728 | 0.7040064071 | Humidity, Precipitation, Temperature, Wind Speed,  Daylight, DaysFromPeak, DayOfWeek, Date, Week |\n",
    "| PHL |       332      | 0.8858561748 | 0.9243714654 | Humidity, Precipitation, Temperature, Wind Speed,  Daylight, DaysFromPeak, DayOfWeek, Date, Week, Year |\n",
    "| SF  |       324      | 0.8954245704 | 0.9320860003 | Humidity, Precipitation, Temperature, Wind Speed,  Daylight, DaysFromPeak, DayOfWeek, Date, Week, Year |"
   ]
  },
  {
   "cell_type": "markdown",
   "metadata": {},
   "source": [
    "<img src=\"../images/residuals-chi.jpg\" align=\"center\" width=\"900\" />"
   ]
  },
  {
   "cell_type": "markdown",
   "metadata": {},
   "source": [
    "<hr>\n",
    "<a name=\"step6\"></a>\n",
    "## <span style=\"color:#37535e\">VI. Answer the question.</span>\n"
   ]
  },
  {
   "cell_type": "markdown",
   "metadata": {},
   "source": [
    "<hr>\n",
    "<a name=\"future\"></a>\n",
    "## <span style=\"color:#37535e\">VII. Further explorations.</span>\n",
    "- Find and add air quality metrics (LA!)\n",
    "- Investigate time series\n",
    "- Examine time of day/cumulative usage of bikes\n",
    "- Examine bike data\n",
    "  - Shuffle to aim for even wear and tear\n",
    "- Examine hub data\n",
    "  - Usage of hubs\n",
    "  - Rebalancing\n",
    "  - Roundtrip vs one-way (LA?)\n",
    "- Examine user data\n",
    "- Explore more cities (NYC, Tampa, etc)\n"
   ]
  },
  {
   "cell_type": "code",
   "execution_count": null,
   "metadata": {},
   "outputs": [],
   "source": []
  },
  {
   "cell_type": "code",
   "execution_count": null,
   "metadata": {},
   "outputs": [],
   "source": []
  }
 ],
 "metadata": {
  "kernelspec": {
   "display_name": "Python 3",
   "language": "python",
   "name": "python3"
  },
  "language_info": {
   "codemirror_mode": {
    "name": "ipython",
    "version": 3
   },
   "file_extension": ".py",
   "mimetype": "text/x-python",
   "name": "python",
   "nbconvert_exporter": "python",
   "pygments_lexer": "ipython3",
   "version": "3.6.5"
  }
 },
 "nbformat": 4,
 "nbformat_minor": 2
}
