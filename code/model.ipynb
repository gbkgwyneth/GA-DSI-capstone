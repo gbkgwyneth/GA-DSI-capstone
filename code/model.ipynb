{
 "cells": [
  {
   "cell_type": "markdown",
   "metadata": {},
   "source": [
    "<img src=\"../images/bikes_banner.jpg\" width=\"1000\" />"
   ]
  },
  {
   "cell_type": "markdown",
   "metadata": {},
   "source": [
    "# <span style=\"color:#37535e\">Bicycle Share Usage Prediction Modeling</span>\n",
    "<blockquote><span style=\"color:#3b748a\">Relay Bike Share is the City of Atlanta’s bike share operator. With 500 “smart bikes” and over 70 stations across the city, Relay seeks to be a healthy and enjoyable transportation solution.</span></blockquote>\n",
    "\n",
    "<span style=\"color:#3b748a\">I want to predict where and when will the bikes be used so we know many should be put at a station on a particular day? In addition, it would be interesting to predict how far a bike at a station might travel on a given day in order to balancing bikes for even usage.</span>\n",
    "\n",
    "<span style=\"color:#3b748a\">Trip data for the past year can be found at \n",
    "<a href=\"http://relaybikeshare.com/system-data/\">http://relaybikeshare.com/system-data/</a>.</span>"
   ]
  },
  {
   "cell_type": "markdown",
   "metadata": {},
   "source": [
    "## <span style='color:#3b748a'>Table of contents</span>\n",
    "* <a href=\"#step1\"><span style='color:#4095b5'>I. Define the problem.</span></a>\n",
    "* <a href=\"#step2\"><span style='color:#4095b5'>II. Obtain the data.</span></a>\n",
    "* <a href=\"#step3\"><span style='color:#4095b5'>III. Explore the data.</span></a>\n",
    "* <a href=\"#step4\"><span style='color:#4095b5'>IV. Model the data.</span></a>\n",
    "* <a href=\"#step5\"><span style='color:#4095b5'>V. Evaluate the model.</span></a>\n",
    "* <a href=\"#step6\"><span style='color:#4095b5'>VI. Answer the problem.</span></a>\n"
   ]
  },
  {
   "cell_type": "markdown",
   "metadata": {},
   "source": [
    "<hr>\n",
    " <a name=\"step1\"></a>\n",
    " ## <span style=\"color:#37535e\">I. Define the problem</span>\n",
    " \n",
    "<span style='color:#3b748a'>I propose to use regression modeling to determine how many bikes a rack needs to have at the start of the day so that it will not be empty. I also hope to investigate different methods of shuffling bikes so that they will get even amounts of usage.</span>"
   ]
  },
  {
   "cell_type": "markdown",
   "metadata": {},
   "source": [
    "<a name=\"step2\"></a>\n",
    "## <span style=\"color:#37535e\">II. Obtain the data.</span>\n",
    "\n",
    "<ul>\n",
    "    <li><span style='color:#3b748a'>6 cities with possibility of 2 more: Atlanta, Boston, Chicago, LA, Philly, and SF with possibility for DC and NYC. Only one year of data for now (Sep 2017 - Aug 2018 or Jul 2017 - Jun 2018), but we have more for some of the cities.</span></li>\n",
    "    <li><span style='color:#3b748a'>Weather data scraped using BeautifulSoup from Weather Underground for all 8 cities for 2017 &amp; 2018 but can easily scrape more. Daylight data scraped as well.</span></li>\n",
    "</ul>"
   ]
  },
  {
   "cell_type": "code",
   "execution_count": 1,
   "metadata": {},
   "outputs": [
    {
     "name": "stderr",
     "output_type": "stream",
     "text": [
      "/Users/gwyneth/anaconda3/lib/python3.6/site-packages/sklearn/ensemble/weight_boosting.py:29: DeprecationWarning: numpy.core.umath_tests is an internal NumPy module and should not be imported. It will be removed in a future NumPy release.\n",
      "  from numpy.core.umath_tests import inner1d\n"
     ]
    }
   ],
   "source": [
    "# Let's get the administrative stuff done first\n",
    "# import all the libraries and set up the plotting\n",
    "\n",
    "import pandas as pd\n",
    "import numpy as np\n",
    "from datetime import datetime,timedelta\n",
    "\n",
    "from sklearn.ensemble import AdaBoostRegressor, GradientBoostingRegressor, RandomForestRegressor\n",
    "from sklearn.ensemble import AdaBoostClassifier, GradientBoostingClassifier, RandomForestClassifier\n",
    "from sklearn.gaussian_process import GaussianProcessRegressor\n",
    "from sklearn.linear_model import Ridge, Lasso, ElasticNet, LinearRegression, LogisticRegression\n",
    "from sklearn.model_selection import train_test_split, GridSearchCV\n",
    "from sklearn.neighbors import KNeighborsRegressor, KNeighborsClassifier\n",
    "from sklearn.pipeline import Pipeline\n",
    "from sklearn.preprocessing import StandardScaler, PolynomialFeatures\n",
    "from sklearn.svm import SVC, SVR\n",
    "from sklearn.decomposition import PCA\n",
    "\n",
    "\n",
    "import matplotlib.pyplot as plt\n",
    "import seaborn as sns\n",
    "\n",
    "%matplotlib inline\n",
    "\n",
    "# GnBu_d\n",
    "colors = ['#37535e', '#3b748a', '#4095b5', '#52aec9', '#72bfc4', '#93d0bf']"
   ]
  },
  {
   "cell_type": "markdown",
   "metadata": {},
   "source": [
    "### <span style='color:#3b748a'>Check the data</span>"
   ]
  },
  {
   "cell_type": "code",
   "execution_count": 2,
   "metadata": {},
   "outputs": [],
   "source": [
    "# Check which numeric columns are missing values\n",
    "\n",
    "def check_data(df):\n",
    "    s = df.shape\n",
    "\n",
    "    # Check for null values\n",
    "    null_data = df.isnull().sum()\n",
    "    null_data_count = sum(df.isnull().sum())\n",
    "    print(\"Rows: {}\\t Cols: {}\\t NaNs: {}\".format(s[0],s[1],null_data_count))\n",
    "    if  null_data_count > 0:\n",
    "        print(\"Columns with NaN: {}\".format(list(null_data[null_data > 0].index)))\n",
    "\n",
    "    return"
   ]
  },
  {
   "cell_type": "markdown",
   "metadata": {},
   "source": [
    "### <span style='color:#3b748a'>Bike share data</span>\n",
    "<span style='color:#4095b5'>Each row (observation) data describes each rental. Each rental includes a starting place and time, a ending place and time, as well as distance, user, and bike information. </span>"
   ]
  },
  {
   "cell_type": "markdown",
   "metadata": {},
   "source": [
    "### <span style='color:#3b748a'>Weather data</span>\n",
    "<span style='color:#4095b5'>Each row (observation) data describes one day of weather. The information includes: date, temperature, dew, humidity, sea air pressure, visibility, precipitation, and \"events\". </span>"
   ]
  },
  {
   "cell_type": "markdown",
   "metadata": {},
   "source": [
    "### <span style='color:#3b748a'>Daylight data</span>\n",
    "<span style='color:#4095b5'>Each row (observation) data describes the number of hours of daylight for one day. </span>"
   ]
  },
  {
   "cell_type": "code",
   "execution_count": 3,
   "metadata": {},
   "outputs": [],
   "source": [
    "# NOTE: The trips_all.csv for bos, chi, phl, sf are TOO big to push to the GitHub repository\n",
    "# NOTE: I don't have cleaned trip data for DC and NYC yet\n",
    "\n",
    "city_code = 'atl'\n",
    "cities = { \n",
    "    'atl' : {\n",
    "        'name' : 'Atlanta',\n",
    "        'peak' : 195,\n",
    "        'drop_features' : {'Start Date', 'Month', 'DayOfYear', 'Week', 'Year', 'Date', 'wind_avg'}\n",
    "    },\n",
    "    'bos' : {\n",
    "        'name' : 'Boston',\n",
    "        'peak' : 205,\n",
    "        'drop_features' : {'Start Date', 'Month', 'DayOfYear', 'Week', 'Date'}\n",
    "    },\n",
    "    'chi' : {\n",
    "        'name' : 'Chicago',\n",
    "        'peak' : 206,\n",
    "        'drop_features' : {'Start Date', 'Month', 'DayOfYear', 'Week', 'Date'}\n",
    "    },\n",
    "    'la' : {\n",
    "        'name' : 'Los Angeles',\n",
    "        'peak' : 210,\n",
    "        'drop_features' : {'Start Date', 'Month', 'DayOfYear', 'Year'}\n",
    "    },\n",
    "    'phl' : {\n",
    "        'name' : 'Philadelphia',\n",
    "        'peak' : 220,\n",
    "        'drop_features' : {'Start Date', 'Month'}\n",
    "    },\n",
    "    'sf' : {\n",
    "        'name' : 'San Francisco',\n",
    "        'peak' : 177,\n",
    "        'drop_features' : {'Start Date', 'Month'}\n",
    "    }\n",
    "}\n"
   ]
  },
  {
   "cell_type": "code",
   "execution_count": 4,
   "metadata": {},
   "outputs": [],
   "source": [
    "# Read and clean data\n",
    "df_bikes = pd.DataFrame()\n",
    "df_weather = pd.DataFrame()\n",
    "df_daylight = pd.DataFrame()\n",
    "\n",
    "# Bike trips for city\n",
    "df = pd.read_csv('../data/' + city_code + '/trips_all.csv')\n",
    "df['City'] = city_code\n",
    "df['Start Date'] = pd.to_datetime(df['Start Date'])\n",
    "df['End Date'] = pd.to_datetime(df['End Date'])\n",
    "df['Start Time'] = pd.to_datetime(df['Start Time'])\n",
    "df['End Time'] = pd.to_datetime(df['End Time'])\n",
    "df['Duration'] = pd.to_timedelta(df['Duration'], unit='m')\n",
    "# Make duration as total minutes\n",
    "df['Duration'] = (df['Duration'].dt.total_seconds()/60)\n",
    "\n",
    "df_bikes = df_bikes.append(df)\n",
    "\n",
    "# Weather for city\n",
    "df = pd.read_csv('../data/' + city_code + '/weather.csv')\n",
    "df['City'] = city_code\n",
    "df.drop(['dew_avg', 'dew_max', 'dew_min', 'hum_max', 'hum_min', 'sea_avg', 'sea_max', 'sea_min',\n",
    "         'temp_max', 'temp_min', 'vis_avg', 'vis_max', 'vis_min', 'wind_max', 'wind_unk'], \n",
    "        axis=1, inplace=True)\n",
    "df['prec'].replace(to_replace='T',value = '0.01', inplace=True)\n",
    "df['prec'] = df['prec'].astype(float)\n",
    "df['date'] = pd.to_datetime(df['date'])\n",
    "df.rename(columns={'date': 'Start Date'}, inplace=True)\n",
    "\n",
    "df_weather = df_weather.append(df)\n",
    "\n",
    "# Daylight for city\n",
    "df = pd.read_csv('../data/' + city_code + '/daylight.csv')\n",
    "df['City'] = city_code\n",
    "\n",
    "# Make duration as total minutes\n",
    "df['Daylight'] = pd.to_timedelta(df['Daylight'], unit='m')\n",
    "df['Daylight'] = (df['Daylight'].dt.total_seconds()/60)\n",
    "df['Date'] = pd.to_datetime(df['Date'])\n",
    "df.rename(columns={'Date': 'Start Date'}, inplace=True)\n",
    "\n",
    "df_daylight = df_daylight.append(df)\n"
   ]
  },
  {
   "cell_type": "markdown",
   "metadata": {},
   "source": [
    "<a name=\"step3\"></a>\n",
    "## <span style=\"color:#37535e\">III. Explore the data.</span>\n",
    "\n",
    "<ul>\n",
    "    <li><span style='color:#3b748a'>Check the data read in from the csv files.</span></li>\n",
    "</ul>"
   ]
  },
  {
   "cell_type": "code",
   "execution_count": 5,
   "metadata": {},
   "outputs": [
    {
     "name": "stdout",
     "output_type": "stream",
     "text": [
      "Rows: 103706\t Cols: 14\t NaNs: 0\n",
      "Index(['Start Hub', 'Start Latitude', 'Start Longitude', 'Start Date',\n",
      "       'Start Time', 'End Hub', 'End Latitude', 'End Longitude', 'End Date',\n",
      "       'End Time', 'Bike Name', 'Distance [Miles]', 'Duration', 'City'],\n",
      "      dtype='object')\n"
     ]
    },
    {
     "data": {
      "text/plain": [
       "Start Hub                   object\n",
       "Start Latitude             float64\n",
       "Start Longitude            float64\n",
       "Start Date          datetime64[ns]\n",
       "Start Time          datetime64[ns]\n",
       "End Hub                     object\n",
       "End Latitude               float64\n",
       "End Longitude              float64\n",
       "End Date            datetime64[ns]\n",
       "End Time            datetime64[ns]\n",
       "Bike Name                   object\n",
       "Distance [Miles]           float64\n",
       "Duration                   float64\n",
       "City                        object\n",
       "dtype: object"
      ]
     },
     "execution_count": 5,
     "metadata": {},
     "output_type": "execute_result"
    }
   ],
   "source": [
    "check_data(df_bikes)\n",
    "print(df_bikes.columns)\n",
    "df_bikes.dtypes"
   ]
  },
  {
   "cell_type": "code",
   "execution_count": 6,
   "metadata": {},
   "outputs": [
    {
     "name": "stdout",
     "output_type": "stream",
     "text": [
      "Rows: 647\t Cols: 7\t NaNs: 0\n",
      "Index(['Start Date', 'events', 'hum_avg', 'prec', 'temp_avg', 'wind_avg',\n",
      "       'City'],\n",
      "      dtype='object')\n"
     ]
    },
    {
     "data": {
      "text/plain": [
       "Start Date    datetime64[ns]\n",
       "events                object\n",
       "hum_avg                int64\n",
       "prec                 float64\n",
       "temp_avg               int64\n",
       "wind_avg               int64\n",
       "City                  object\n",
       "dtype: object"
      ]
     },
     "execution_count": 6,
     "metadata": {},
     "output_type": "execute_result"
    }
   ],
   "source": [
    "check_data(df_weather)\n",
    "print(df_weather.columns)\n",
    "df_weather.dtypes"
   ]
  },
  {
   "cell_type": "code",
   "execution_count": 7,
   "metadata": {},
   "outputs": [
    {
     "name": "stdout",
     "output_type": "stream",
     "text": [
      "Rows: 730\t Cols: 3\t NaNs: 0\n",
      "Index(['Start Date', 'Daylight', 'City'], dtype='object')\n"
     ]
    },
    {
     "data": {
      "text/plain": [
       "Start Date    datetime64[ns]\n",
       "Daylight             float64\n",
       "City                  object\n",
       "dtype: object"
      ]
     },
     "execution_count": 7,
     "metadata": {},
     "output_type": "execute_result"
    }
   ],
   "source": [
    "check_data(df_daylight)\n",
    "print(df_daylight.columns)\n",
    "df_daylight.dtypes"
   ]
  },
  {
   "cell_type": "markdown",
   "metadata": {},
   "source": [
    "<a name=\"step4\"></a>\n",
    "## <span style=\"color:#37535e\">IV. Model the data.</span>\n",
    "\n",
    "### <span style='color:#3b748a'>First model</span>\n",
    "<span style='color:#4095b5'>Let's predict how many rides a day (or total distance or total duration) based on day of week and weather.</span>\n",
    "\n",
    "### <span style='color:#3b748a'>Feature engineering</span>\n",
    "<ul>\n",
    "    <li><span style='color:#4095b5'>Use Groupby to create a DataFrame for daily trip data, using columns: Start Date, City, Total Duration, Total Duration, and Total Trips.</span></li>\n",
    "    <li><span style='color:#4095b5'>Merge the trip data with the weather data.</span></li>\n",
    "    <li><span style='color:#4095b5'>Add day of the week and week of the year.</span></li>\n",
    "    <li><span style='color:#4095b5'>Add day of the week and week of the year.</span></li>\n",
    "    <li><span style='color:#4095b5'>Create a \"peak\" variable to capture more of the cyclic usage.</span></li>\n",
    "    <li><span style='color:#4095b5'>Make dummies</span></li>\n",
    "</ul>"
   ]
  },
  {
   "cell_type": "code",
   "execution_count": 8,
   "metadata": {},
   "outputs": [],
   "source": [
    "# Drop unnecssary columns\n",
    "cols_drop = ['Start Hub', 'Start Latitude', 'Start Longitude', \n",
    "       'Start Time', 'End Hub', 'End Latitude', 'End Longitude', 'End Date',\n",
    "       'End Time', 'Bike Name']\n",
    "cols_drop = list(set(df_bikes.columns) & set(cols_drop))\n",
    "             \n",
    "df_bikes.drop(cols_drop, axis=1, inplace=True)\n",
    "df_weather.drop(['events'], axis=1, inplace=True)"
   ]
  },
  {
   "cell_type": "code",
   "execution_count": 9,
   "metadata": {},
   "outputs": [],
   "source": [
    "# Group the data frame by month and item and extract a number of stats from each group\n",
    "# Used https://www.shanelynn.ie/summarising-aggregation-and-grouping-data-in-python-pandas/\n",
    "\n",
    "df_daily = df_bikes.groupby(['Start Date','City'], as_index=False).agg({\n",
    "    \"Duration\": ['sum', 'count'],\n",
    "    \"Distance [Miles]\" : ['sum']\n",
    "})\n",
    "\n",
    "df_daily.columns = [\"_\".join(x) for x in df_daily.columns.ravel()]\n",
    "df_daily.rename(columns={\n",
    "    'Start Date_' : 'Start Date',\n",
    "    'City_' : 'City',\n",
    "    'Duration_count': 'Trips', \n",
    "    'Duration_sum' : 'Total Duration', \n",
    "    'Distance [Miles]_sum' : 'Total Distance'\n",
    "}, inplace=True)"
   ]
  },
  {
   "cell_type": "markdown",
   "metadata": {},
   "source": [
    " #### <span style='color:#4095b5'>Merge daily, weather, and daylight</span>"
   ]
  },
  {
   "cell_type": "code",
   "execution_count": 10,
   "metadata": {},
   "outputs": [],
   "source": [
    "# Merge on city and date\n",
    "df = pd.merge(df_daily, df_weather, on = ['Start Date', 'City'], how = 'left')\n",
    "df = pd.merge(df, df_daylight, on = ['Start Date', 'City'], how = 'left')"
   ]
  },
  {
   "cell_type": "markdown",
   "metadata": {},
   "source": [
    " #### <span style='color:#4095b5'>Add all parts of a date to the merged dataframe</span>"
   ]
  },
  {
   "cell_type": "code",
   "execution_count": 11,
   "metadata": {},
   "outputs": [],
   "source": [
    "df['Date'] = df['Start Date'].astype(int)\n",
    "df['Day'] = (df['Start Date'].dt.strftime('%w'))\n",
    "df['DayOfYear'] = (df['Start Date'].dt.strftime('%-j')).astype(int)\n",
    "df['Week'] = (df['Start Date'].dt.strftime('%W')).astype(int)\n",
    "df['Month'] = (df['Start Date'].dt.strftime('%-m')).astype(int)\n",
    "df['Year'] = (df['Start Date'].dt.strftime('%Y')).astype(int)"
   ]
  },
  {
   "cell_type": "markdown",
   "metadata": {},
   "source": [
    " #### <span style='color:#4095b5'>Distance from \"midsummer\" peak </span>\n",
    " <span style='color:#4095b5'>This date may vary by city.</span>"
   ]
  },
  {
   "cell_type": "code",
   "execution_count": 12,
   "metadata": {},
   "outputs": [],
   "source": [
    "# How many days in year to peak\n",
    "peak = cities[city_code]['peak']\n",
    "df['Peak'] = np.minimum(abs(df['DayOfYear'] - peak), abs(365+peak-df['DayOfYear']))"
   ]
  },
  {
   "cell_type": "markdown",
   "metadata": {},
   "source": [
    " #### <span style='color:#4095b5'>Make dummies</span>"
   ]
  },
  {
   "cell_type": "code",
   "execution_count": 13,
   "metadata": {},
   "outputs": [
    {
     "name": "stdout",
     "output_type": "stream",
     "text": [
      "Before make dummies: (365, 17)\n",
      "After make dummies: (365, 23)\n"
     ]
    },
    {
     "data": {
      "text/plain": [
       "Index(['Start Date', 'Total Duration', 'Trips', 'Total Distance', 'hum_avg',\n",
       "       'prec', 'temp_avg', 'wind_avg', 'Daylight', 'Date', 'DayOfYear', 'Week',\n",
       "       'Month', 'Year', 'Peak', 'City_atl', 'Day_0', 'Day_1', 'Day_2', 'Day_3',\n",
       "       'Day_4', 'Day_5', 'Day_6'],\n",
       "      dtype='object')"
      ]
     },
     "execution_count": 13,
     "metadata": {},
     "output_type": "execute_result"
    }
   ],
   "source": [
    "# Make dummies\n",
    "print(\"Before make dummies: {}\".format(df.shape))\n",
    "df = pd.get_dummies(df)\n",
    "print(\"After make dummies: {}\".format(df.shape))\n",
    "df.columns"
   ]
  },
  {
   "cell_type": "markdown",
   "metadata": {},
   "source": [
    "### <span style='color:#3b748a'>The MASSIVE Pipeline</span>\n",
    "<ul>\n",
    "    <li><span style='color:#4095b5'>The Pipeline function takes a set of features and a model and runs grid search over their parameters on the train/test data for the specified model.</span></li>\n",
    "    <li><span style='color:#4095b5'>Adjustment of the parameter ranges is not automated at this time. Each time it runs, we check to see if a parameter bound has been hit and adjust the value ranges.</span></li>\n",
    "    <li><span style='color:#4095b5'>The function returns information about the best model, but not the model itself. Perhaps to be included in the future.</span></li>\n",
    "</ul>"
   ]
  },
  {
   "cell_type": "code",
   "execution_count": 14,
   "metadata": {},
   "outputs": [],
   "source": [
    "def run_pipline(items, X_train, X_test, y_train, y_test):\n",
    "\n",
    "    # Add a pipe, add a param !\n",
    "    pipe_items = {\n",
    "        'ss' : StandardScaler(),\n",
    "        'pf' : PolynomialFeatures(),\n",
    "        'pca' : PCA(),\n",
    "\n",
    "        'lr' : LinearRegression(),\n",
    "        'rd' : Ridge(),\n",
    "        'la' : Lasso(),\n",
    "        'en' : ElasticNet(), \n",
    "        'gr' : GaussianProcessRegressor(),\n",
    "        'rf' : RandomForestRegressor(),\n",
    "        'gb' : GradientBoostingRegressor(),\n",
    "        'ab' : AdaBoostRegressor(),\n",
    "        'svm' : SVR(),\n",
    "        'knn' : KNeighborsRegressor(),\n",
    "        \n",
    "        'lgr' : LogisticRegression(),\n",
    "        'rfc' : RandomForestClassifier(),\n",
    "        'gbc' : GradientBoostingClassifier(),\n",
    "        'abc' : AdaBoostClassifier(),\n",
    "        'svc' : SVC(),\n",
    "        'knnc' : KNeighborsClassifier()\n",
    "\n",
    "    }\n",
    "\n",
    "    # Include at least one param for each pipe item\n",
    "    param_items = {\n",
    "        'ss' : {\n",
    "            'ss__with_mean' : [False]\n",
    "        },\n",
    "        'pf' : {\n",
    "            'pf__degree' : [2]\n",
    "        },\n",
    "        'pca' : {\n",
    "            'pca__n_components' : [10,11, 12]\n",
    "        },\n",
    "        'lr' : {\n",
    "            'lr__n_jobs' : [1]\n",
    "        },\n",
    "        'rd' : {\n",
    "             'rd__alpha' : [1.1, 1.3, 1.5, 1.7, 1.8, 1.9, 2.0, 2.1, 2.2, 2.5, 3.0, 4.0, 4.6, 4.8, 5.0, 6.0, 6.5, 7.0, 7.5, 8.0, 9.5, \n",
    "                            12.0, 15.0, 25.0, 30.0, 35.0, 40.0, 45.0, 50.0, 55.0, 60.0, 65.0, \n",
    "                           70.0] # ATL 8.0, BOS 1.5\n",
    "        },\n",
    "        'la' : {\n",
    "             'la__alpha' : [0.3, 0.5, 0.6, 0.7, 0.8, 0.9, 1.0, 1.5, 1.8, 1.9, 2.0, 2.1, 2.2, 2.3, 2.4, 2.5, 2.7, \n",
    "                            3.0, 7.8, 8.0, 8.5, \n",
    "                            10.0, 15.0, 20.0, 25.0, 30.0, 35.0, 40.0, 45.0, 50.0 ],\n",
    "             'la__max_iter' : [100, 250, 500, 1000] # ATL 100\n",
    "        },\n",
    "        'en' : {\n",
    "             'en__alpha' : [0.04, 0.08, 0.1, 0.2, 0.3, 1.0, 1.5, 1.8, 1.9, 2.0, 2.2, 2.5, 3.0],\n",
    "             'en__l1_ratio' : [0.4, 0.6, 0.8, 1, 1.2],\n",
    "             'en__max_iter' : [250, 500, 750, 1000]\n",
    "        },\n",
    "\n",
    "        'gr' : {\n",
    "            'gr__alpha' : [1, 0.1]\n",
    "        },\n",
    "        'rf' : {\n",
    "            'rf__n_estimators' : [10, 11, 12, 13, 14, 15, 16, 17, 18, 19, 20, 21, 22, \n",
    "                                  23, 24, 25, 26, 27, 28, 29, 30],\n",
    "            'rf__criterion' : ['mse', 'mae']\n",
    "        },\n",
    "        'gb' : {\n",
    "            'gb__n_estimators' : [325, 326, 327, 328, 329, 330, 331, 332, 333, 334],\n",
    "            'gb__loss' : ['ls', 'lad', 'huber', 'quantile']\n",
    "        },\n",
    "        'ab' : {\n",
    "            'ab__n_estimators' : [53, 54, 55, 56, 57, 58, 59, 60, 61, 62, 63, 64]\n",
    "        },\n",
    "        'svm' : {\n",
    "            'svm__kernel' : ['linear','poly']\n",
    "        },\n",
    "        'knn' : {\n",
    "            'knn__n_neighbors' : [2, 3, 4, 5, 6, 7, 8, 9, 10] \n",
    "        },\n",
    "        'lgr' : {\n",
    "            'lgr__C' : [.04, .05, .06],\n",
    "            'lgr__penalty' : ['l1','l2']\n",
    "        },\n",
    "        'rfc' : {\n",
    "            'rfc__n_estimators' : [7, 8, 9, 10]\n",
    "        },\n",
    "        'gbc' : {\n",
    "            'gbc__n_estimators' : [35, 40, 45]\n",
    "        },\n",
    "        'abc' : {\n",
    "            'abc__n_estimators' : [80, 90, 100]\n",
    "        },\n",
    "        'svc' : {\n",
    "            'svc__kernel' : ['linear','poly']\n",
    "        },\n",
    "        'knnc' : {\n",
    "            'knnc__n_neighbors' : [35, 40, 45, 50]\n",
    "        }\n",
    "\n",
    "    }\n",
    "\n",
    "    # Create the parameters for GridSearch\n",
    "    params = dict()\n",
    "    for i in items:\n",
    "        for p in param_items[i]:\n",
    "            params[p] = param_items[i][p]\n",
    "\n",
    "    # Create the pipeline\n",
    "    pipe_list = [(i,pipe_items[i]) for i in items]\n",
    "    print(\"Using:\")\n",
    "    for p in pipe_list:\n",
    "        print(\"\\t\" + str(p[1]).split('(')[0])\n",
    "    pipe = Pipeline(pipe_list)\n",
    "\n",
    "    # Grid search\n",
    "    gs = GridSearchCV(pipe, param_grid=params, verbose=1)\n",
    "    gs.fit(X_train, y_train)\n",
    "\n",
    "    # Print the results\n",
    "    train_params = gs.best_params_\n",
    "    train_score = gs.best_score_\n",
    "    y_test_hat = gs.predict(X_test)\n",
    "    test_score = gs.score(X_test, y_test)\n",
    "\n",
    "    for k in train_params:\n",
    "        print(\"{}: {}\".format(k,train_params[k]))\n",
    "\n",
    "    print(\"Train score: {} Test score {}\".format(train_score, test_score))\n",
    "    print(\"\")\n",
    "\n",
    "    return train_score, test_score, y_test_hat, train_params"
   ]
  },
  {
   "cell_type": "markdown",
   "metadata": {},
   "source": [
    "### <span style='color:#3b748a'>Prepare for REGRESSION to predict # trips based on day of week, week of year, dylight hours, and weather.</span>\n",
    "<ul>\n",
    "    <li><span style='color:#4095b5'>Use a subest of columns.</span></li>\n",
    "    <li><span style='color:#4095b5'>Do a train/test split on the data.</span></li>\n",
    "</ul>"
   ]
  },
  {
   "cell_type": "code",
   "execution_count": 15,
   "metadata": {},
   "outputs": [
    {
     "name": "stdout",
     "output_type": "stream",
     "text": [
      "['hum_avg', 'prec', 'temp_avg', 'Daylight', 'Peak', 'City_atl', 'Day_0', 'Day_1', 'Day_2', 'Day_3', 'Day_4', 'Day_5', 'Day_6']\n"
     ]
    }
   ],
   "source": [
    "# Let's start with a few features\n",
    "X_cols = list(df.columns)\n",
    "X_cols.remove('Trips')\n",
    "X_cols.remove('Total Duration')\n",
    "X_cols.remove('Total Distance')\n",
    "# X_cols.remove('Daylight')\n",
    "# X_cols.remove('Peak')\n",
    "# X_cols.remove('Month')\n",
    "# X_cols.remove('DayOfYear')\n",
    "# X_cols.remove('Week')\n",
    "# X_cols.remove('Year')\n",
    "# X_cols.remove('Date')\n",
    "# X_cols.remove('prec')\n",
    "# X_cols.remove('wind_avg')\n",
    "# X_cols.remove('temp_avg')\n",
    "# X_cols.remove('hum_avg')\n",
    "remove = list(cities[city_code]['drop_features'])\n",
    "for r in remove:\n",
    "    X_cols.remove(r)\n",
    "    \n",
    "print(X_cols)\n",
    "\n",
    "# Target variable\n",
    "y_trips = df['Trips'].values\n",
    "X = df[X_cols]  "
   ]
  },
  {
   "cell_type": "code",
   "execution_count": 16,
   "metadata": {},
   "outputs": [],
   "source": [
    "# Test/train split of \"full training\" data\n",
    "X_train, X_test, y_train, y_test = train_test_split(X, y_trips, random_state=42)"
   ]
  },
  {
   "cell_type": "markdown",
   "metadata": {},
   "source": [
    "### <span style='color:#3b748a'>Call the pipeline to use REGRESSION to predict the number of trips for a given day</span>\n",
    "<ul>\n",
    "    <li><span style='color:#4095b5'>Choose a regression model.</span></span></li>\n",
    "    <li><span style='color:#4095b5'>Use <span style=\"font-family:monospace\">StandardScaler</span>.</span></li>\n",
    "    <li><span style='color:#4095b5'>Update params values based on grid search and repeat (not automated).</span></li>\n",
    "</ul>"
   ]
  },
  {
   "cell_type": "code",
   "execution_count": 17,
   "metadata": {
    "scrolled": false
   },
   "outputs": [
    {
     "name": "stdout",
     "output_type": "stream",
     "text": [
      "Modeling: Atlanta\n",
      "Using:\n",
      "\tStandardScaler\n",
      "\tRandomForestRegressor\n",
      "Fitting 3 folds for each of 42 candidates, totalling 126 fits\n"
     ]
    },
    {
     "name": "stderr",
     "output_type": "stream",
     "text": [
      "[Parallel(n_jobs=1)]: Done 126 out of 126 | elapsed:   10.8s finished\n"
     ]
    },
    {
     "name": "stdout",
     "output_type": "stream",
     "text": [
      "rf__criterion: mse\n",
      "rf__n_estimators: 19\n",
      "ss__with_mean: False\n",
      "Train score: 0.7397934366648042 Test score 0.5853574451992052\n",
      "\n",
      "Using:\n",
      "\tStandardScaler\n",
      "\tGradientBoostingRegressor\n",
      "Fitting 3 folds for each of 40 candidates, totalling 120 fits\n",
      "gb__loss: ls\n",
      "gb__n_estimators: 325\n",
      "ss__with_mean: False\n",
      "Train score: 0.7195275526825138 Test score 0.6546059438354298\n",
      "\n"
     ]
    },
    {
     "name": "stderr",
     "output_type": "stream",
     "text": [
      "[Parallel(n_jobs=1)]: Done 120 out of 120 | elapsed:   45.0s finished\n"
     ]
    }
   ],
   "source": [
    "# Regression models\n",
    "# 'ss' : StandardScaler(),\n",
    "# 'pf' : PolynomialFeatures(),\n",
    "# 'lr' : LinearRegression(),\n",
    "# 'rd' : Ridge(),\n",
    "# 'la' : Lasso(),\n",
    "# 'en' : ElasticNet(), \n",
    "# 'gr' : GaussianProcessRegressor(),\n",
    "# 'rf' : RandomForestRegressor(),\n",
    "# 'gb' : GradientBoostingRegressor(),\n",
    "# 'ab' : AdaBoostRegressor(),\n",
    "# 'svm' : SVR(),\n",
    "# 'knn' : KNeighborsRegressor(),\n",
    "\n",
    "models = ['lr','rd','la','rf','gb','ab','knn'] # 'en', 'gr', 'svm']\n",
    "print(\"Modeling: {}\".format(cities[city_code]['name']))\n",
    "models = ['rf','gb']\n",
    "\n",
    "model_solns = []\n",
    "for m in models:\n",
    "    pipe_items = ['ss', m]\n",
    "    [train_score, test_score, y_test_hat, best_params] = run_pipline(pipe_items,\n",
    "                                                            X_train, X_test, \n",
    "                                                            y_train, y_test)\n",
    "    model_solns.append({'model': m, \n",
    "                        'train_score': train_score, 'test_score': test_score, \n",
    "                        'best_params': best_params, 'y_test_hat' : y_test_hat})\n",
    "    "
   ]
  },
  {
   "cell_type": "markdown",
   "metadata": {},
   "source": [
    "### <span style='color:#3b748a'>Let's try PCA?</span>"
   ]
  },
  {
   "cell_type": "code",
   "execution_count": 18,
   "metadata": {},
   "outputs": [
    {
     "name": "stdout",
     "output_type": "stream",
     "text": [
      "Explained variance:             [9.50734373e-01 3.18914483e-02 1.35713929e-02 3.71642448e-03\n",
      " 1.57868442e-05 1.29992111e-05 1.24321432e-05 1.21483293e-05\n",
      " 1.18315746e-05 1.16850152e-05 9.47781200e-06 5.38820943e-37\n",
      " 1.04309856e-38]\n",
      "Cumulative explained variance:  [0.95073437 0.98262582 0.99619721 0.99991364 0.99992943 0.99994243\n",
      " 0.99995486 0.99996701 0.99997884 0.99999052 1.         1.\n",
      " 1.        ]\n"
     ]
    }
   ],
   "source": [
    "# Create PCA model\n",
    "pca = PCA()\n",
    "pca = pca.fit(X_train)\n",
    "PCA_train = pca.transform(X_train)\n",
    "PCA_test = pca.transform(X_test)\n",
    "\n",
    "var_exp = pca.explained_variance_ratio_\n",
    "print('Explained variance:            ', var_exp)\n",
    "cum_var_exp = np.cumsum(var_exp)\n",
    "print('Cumulative explained variance: ', cum_var_exp)"
   ]
  },
  {
   "cell_type": "code",
   "execution_count": 19,
   "metadata": {},
   "outputs": [],
   "source": [
    "# Prepare the pipline\n",
    "\n",
    "models = ['lr','rd','la','rf','gb','ab','knn'] # 'gr',svm']\n",
    "\n",
    "model_solns = []\n",
    "if False:\n",
    "    for m in models:\n",
    "        pipe_items = ['ss','pca', m]\n",
    "        [train_score, test_score, y_test_hat, best_params] = run_pipline(pipe_items,\n",
    "                                                                X_train, X_test, \n",
    "                                                                y_train, y_test)\n",
    "        model_solns.append({'model': m, \n",
    "                            'train_score': train_score, 'test_score': test_score, \n",
    "                            'best_params': best_params, 'y_test_hat' : y_test_hat})\n"
   ]
  },
  {
   "cell_type": "markdown",
   "metadata": {},
   "source": [
    "\n",
    "\n",
    "\n",
    "\n",
    "\n",
    "<a name=\"step5\"></a>\n",
    "## <span style=\"color:#37535e\">IV. Evaluate the model.</span>\n"
   ]
  },
  {
   "cell_type": "code",
   "execution_count": 20,
   "metadata": {},
   "outputs": [
    {
     "name": "stdout",
     "output_type": "stream",
     "text": [
      "Fitting 3 folds for each of 44 candidates, totalling 132 fits\n",
      "gb__loss: ls\n",
      "gb__n_estimators: 332\n",
      "Train score: 0.721959656450052 Test score 0.6506210275019166\n"
     ]
    },
    {
     "name": "stderr",
     "output_type": "stream",
     "text": [
      "[Parallel(n_jobs=1)]: Done 132 out of 132 | elapsed:   40.9s finished\n"
     ]
    }
   ],
   "source": [
    "# Test/train split of \"full training\" data\n",
    "X_train, X_test, y_train, y_test = train_test_split(X, y_trips, random_state=42)\n",
    "\n",
    "pipe = Pipeline([\n",
    "                ('ss', StandardScaler()),\n",
    "                ('gb', GradientBoostingRegressor())\n",
    "            ])\n",
    "params = { \n",
    "    'gb__n_estimators' : [324, 325, 326, 327, 328, 329, 330, 331, 332, 333, 334],\n",
    "    'gb__loss' : ['ls', 'lad', 'huber', 'quantile']\n",
    "}\n",
    "\n",
    "gs = GridSearchCV(pipe, param_grid=params, verbose=1)\n",
    "gs.fit(X_train, y_train)\n",
    "\n",
    "train_score = gs.best_score_\n",
    "y_test_hat = gs.predict(X_test)\n",
    "test_score = gs.score(X_test, y_test)\n",
    "\n",
    "train_params = gs.best_params_\n",
    "for k in train_params:\n",
    "    print(\"{}: {}\".format(k,train_params[k]))\n",
    "\n",
    "print(\"Train score: {} Test score {}\".format(train_score, test_score))"
   ]
  },
  {
   "cell_type": "code",
   "execution_count": 21,
   "metadata": {},
   "outputs": [
    {
     "name": "stderr",
     "output_type": "stream",
     "text": [
      "/Users/gwyneth/anaconda3/lib/python3.6/site-packages/scipy/stats/stats.py:1713: FutureWarning: Using a non-tuple sequence for multidimensional indexing is deprecated; use `arr[tuple(seq)]` instead of `arr[seq]`. In the future this will be interpreted as an array index, `arr[np.array(seq)]`, which will result either in an error or a different result.\n",
      "  return np.add.reduce(sorted[indexer] * weights, axis=axis) / sumval\n"
     ]
    },
    {
     "data": {
      "image/png": "[encoded data removed]",
      "text/plain": [
       "<Figure size 1296x576 with 2 Axes>"
      ]
     },
     "metadata": {},
     "output_type": "display_data"
    }
   ],
   "source": [
    "fig, ax = plt.subplots(1,2, figsize=(18, 8))\n",
    "fig.suptitle('Residual plot for ' + cities[city_code]['name'] )\n",
    "\n",
    "sns.regplot(y_test, y_test_hat, color=colors[3],ax=ax[0])\n",
    "ax[0].set_xlabel(\"Trips per day\")\n",
    "ax[0].set_ylabel(\"Predicted trips per day\")\n",
    "sns.residplot(y_test, y_test_hat, lowess=True, color=colors[3],ax=ax[1])\n",
    "ax[1].set_xlabel(\"Trips per day\")\n",
    "ax[1].set_ylabel(\"Residuals of predicted trips per day\");"
   ]
  },
  {
   "cell_type": "markdown",
   "metadata": {},
   "source": [
    "<hr>\n",
    "<a name=\"step6\"></a>\n",
    "## <span style=\"color:#37535e\">V. Answer the question.</span>\n",
    "\n"
   ]
  },
  {
   "cell_type": "code",
   "execution_count": null,
   "metadata": {},
   "outputs": [],
   "source": []
  },
  {
   "cell_type": "code",
   "execution_count": null,
   "metadata": {},
   "outputs": [],
   "source": []
  },
  {
   "cell_type": "code",
   "execution_count": null,
   "metadata": {},
   "outputs": [],
   "source": []
  }
 ],
 "metadata": {
  "kernelspec": {
   "display_name": "Python 3",
   "language": "python",
   "name": "python3"
  },
  "language_info": {
   "codemirror_mode": {
    "name": "ipython",
    "version": 3
   },
   "file_extension": ".py",
   "mimetype": "text/x-python",
   "name": "python",
   "nbconvert_exporter": "python",
   "pygments_lexer": "ipython3",
   "version": "3.6.5"
  }
 },
 "nbformat": 4,
 "nbformat_minor": 2
}
