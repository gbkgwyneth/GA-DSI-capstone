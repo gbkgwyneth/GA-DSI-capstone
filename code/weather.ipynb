{
 "cells": [
  {
   "cell_type": "markdown",
   "metadata": {},
   "source": [
    "<img src=\"../images/action-bicycle-bike.jpg\" width=\"900\">"
   ]
  },
  {
   "cell_type": "markdown",
   "metadata": {},
   "source": [
    "# <span style=\"color:#37535e\">Historical Weather Data</span>\n",
    "<span style=\"color:#3b748a\">Along with investigating the bike usage data, it is clear that weather affects usage rates. To collect historical weather data, I use <a href=\"https://www.crummy.com/software/BeautifulSoup/\"><span style=\"color:#37535e\">BeautifulSoup</span></a> to scrape from <a href=\"https://english.wunderground.com/\"><span style=\"color:#37535e\">Weather Underground</span></a>. </span>\n",
    "\n",
    "<span style=\"color:#3b748a\">For a given set of years, weather data for each city is scraped into a separate DataFrame and written to a csv file.</span>\n",
    "\n",
    "<hr>\n",
    "\n",
    "## <span style='color:#3b748a'>Links</span>\n",
    "* <a href=\"https://www.crummy.com/software/BeautifulSoup/\"><span style=\"color:#37535e\">BeautifulSoup</span></a> \n",
    "* <a href=\"https://english.wunderground.com/\"><span style=\"color:#37535e\">Weather Underground</span></a>\n",
    "* <a href=\"main.ipynb\">Main notebook</a>\n",
    "\n",
    "## <span style='color:#3b748a'>Weather links</span>\n",
    "* <a href=\"https://english.wunderground.com/history/airport/KATL/2018/7/1/MonthlyHistory.html?req_city=Atlanta&req_state=GA&req_statename=&reqdb.zip=30301&reqdb.magic=1&reqdb.wmo=99999\"><span style=\"color:#37535e\">Atlanta weather: KATL</span></a> \n",
    "* <a href=\"https://english.wunderground.com/history/airport/KBOS/2018/7/1/MonthlyHistory.html?req_city=Atlanta&req_state=GA&req_statename=&reqdb.zip=30301&reqdb.magic=1&reqdb.wmo=99999\"><span style=\"color:#37535e\">Boston weather: KBOS</span></a> \n",
    "* <a href=\"https://english.wunderground.com/history/airport/KORD/2018/7/1/MonthlyHistory.html?req_city=Atlanta&req_state=GA&req_statename=&reqdb.zip=30301&reqdb.magic=1&reqdb.wmo=99999\"><span style=\"color:#37535e\">Chicago weather: KORD</span></a> \n",
    "* <a href=\"https://english.wunderground.com/history/airport/KCQT/2018/7/1/MonthlyHistory.html?req_city=Atlanta&req_state=GA&req_statename=&reqdb.zip=30301&reqdb.magic=1&reqdb.wmo=99999\"><span style=\"color:#37535e\">Los Angeles weather: KCQT</span></a> \n",
    "* <a href=\"https://english.wunderground.com/history/airport/KPHL/2018/7/1/MonthlyHistory.html?req_city=Atlanta&req_state=GA&req_statename=&reqdb.zip=30301&reqdb.magic=1&reqdb.wmo=99999\"><span style=\"color:#37535e\">Philadelphia weather: KPHL</span></a> \n",
    "* <a href=\"https://english.wunderground.com/history/airport/KSFO/2018/7/1/MonthlyHistory.html?req_city=Atlanta&req_state=GA&req_statename=&reqdb.zip=30301&reqdb.magic=1&reqdb.wmo=99999\"><span style=\"color:#37535e\">San Francisco weather: KSFO</span></a> \n",
    "* <a href=\"https://english.wunderground.com/history/airport/KDCA/2018/7/1/MonthlyHistory.html?req_city=Atlanta&req_state=GA&req_statename=&reqdb.zip=30301&reqdb.magic=1&reqdb.wmo=99999\"><span style=\"color:#37535e\">Washington, DC weather: KDCA</span></a> \n",
    "* <a href=\"https://english.wunderground.com/history/airport/KNYC/2018/7/1/MonthlyHistory.html?req_city=Atlanta&req_state=GA&req_statename=&reqdb.zip=30301&reqdb.magic=1&reqdb.wmo=99999\"><span style=\"color:#37535e\">NYC weather: KNYC</span></a> \n",
    "\n",
    "<hr>"
   ]
  },
  {
   "cell_type": "code",
   "execution_count": 5,
   "metadata": {},
   "outputs": [],
   "source": [
    "# Let's get the administrative stuff done first\n",
    "# import all the libraries and set up the plotting\n",
    "\n",
    "import requests\n",
    "import pandas as pd\n",
    "from bs4 import BeautifulSoup\n",
    "from datetime import datetime\n"
   ]
  },
  {
   "cell_type": "markdown",
   "metadata": {},
   "source": [
    "## <span style='color:#3b748a'>Scrape monthly weather data</span>\n",
    "<ul>\n",
    "    <li><span style='color:#4095b5'>For each month, visit the correct MonthlyData site on Weather Underground.</span></li>\n",
    "    <li><span style='color:#4095b5'>Not sure why I have to use 'english\" instead of \"www\".</span></li>\n",
    "    <li><span style='color:#4095b5'>Scrape using BeautifulSoup.</span></li>\n",
    "    <li><span style='color:#4095b5'>Wind data is mislabeled on the webpages.</span></li>\n",
    "    <li><span style='color:#4095b5'>Precipitation and Events might be null or blank.</span></li>\n",
    "    \n",
    "</ul>"
   ]
  },
  {
   "cell_type": "code",
   "execution_count": 1,
   "metadata": {},
   "outputs": [],
   "source": [
    "def read_write_wx(start_year, end_year, wx_code):\n",
    "    weather_cols = [\"date\", 'temp_max', 'temp_avg', 'temp_min', 'dew_max', 'dew_avg', 'dew_min',\n",
    "                    'hum_max', 'hum_avg', 'hum_min', 'sea_max', 'sea_avg', 'sea_min',\n",
    "                    'vis_max', 'vis_avg', 'vis_min', 'wind_max', 'wind_avg', 'wind_unk',\n",
    "                    'prec', 'events' ]\n",
    "\n",
    "    list_wx = []\n",
    "    for yr in range(start_year, end_year+1):\n",
    "        for mn in range(1, 13):\n",
    "\n",
    "            # Open wunderground.com url\n",
    "            url = \"http://english.wunderground.com/history/airport/\" + wx_code + \"/\" + str(yr)+ \"/\" + str(mn) + \"/1/MonthlyHistory.html?&reqdb.zip=&reqdb.magic=&reqdb.wmo=\"\n",
    "            res = requests.get(url)\n",
    "            res.status_code\n",
    "            soup = BeautifulSoup(res.content, 'lxml')\n",
    "\n",
    "            hist_table = soup.find_all('table', { 'id' : 'obsTable'})\n",
    "            for h in hist_table:\n",
    "                body = h.find_all('tbody')\n",
    "                for b in body[1:]:\n",
    "                    row_list = b.find_all('tr')\n",
    "                    for row in row_list:\n",
    "                        col_list = row.find_all('td')\n",
    "                        wx = dict()\n",
    "                        day = col_list[0].find('a').text\n",
    "                        wx[\"date\"] = datetime(yr, mn, int(day))\n",
    "                        for i in range(1,20):\n",
    "                            val = 0\n",
    "                            elem = col_list[i].find('span')\n",
    "                            if elem:\n",
    "                                val = elem.text\n",
    "                            wx[weather_cols[i]] = val\n",
    "                        events = \"None\"\n",
    "                        elem = col_list[20]\n",
    "                        if elem:\n",
    "                            events = elem.text.strip()\n",
    "                            events = events.replace('\\t','')\n",
    "                            events = events.replace('\\n','')\n",
    "                            if len(events) == 0:\n",
    "                                events = \"None\"\n",
    "                        wx['events'] = events\n",
    "                        list_wx.append(wx)\n",
    "\n",
    "    df = pd.DataFrame(list_wx)\n",
    "    return df"
   ]
  },
  {
   "cell_type": "markdown",
   "metadata": {},
   "source": [
    "## <span style='color:#3b748a'>Cities and dates</span>"
   ]
  },
  {
   "cell_type": "code",
   "execution_count": 2,
   "metadata": {},
   "outputs": [],
   "source": [
    "city_codes = { \n",
    "    'atl' : \"KATL\", \n",
    "    'bos' : \"KBOS\", \n",
    "    'chi' : \"KORD\", \n",
    "    'la' : \"KCQT\", \n",
    "    'phl' : \"KPHL\", \n",
    "    'sf' : \"KSFO\", \n",
    "    'dc' : \"KDCA\", \n",
    "    'nyc' : \"KNYC\"\n",
    "        }\n",
    "\n",
    "start_year = 2017\n",
    "end_year = 2018"
   ]
  },
  {
   "cell_type": "markdown",
   "metadata": {},
   "source": [
    "## <span style='color:#3b748a'>Loop through cities, scrape data, write data to csv file.</span>"
   ]
  },
  {
   "cell_type": "code",
   "execution_count": 8,
   "metadata": {},
   "outputs": [],
   "source": [
    "for city, wx_code in city_codes.items():\n",
    "    df = read_write_wx(start_year, end_year, wx_code)\n",
    "    df.to_csv('../data/' + city + '/weather.csv', index=False)"
   ]
  },
  {
   "cell_type": "code",
   "execution_count": null,
   "metadata": {},
   "outputs": [],
   "source": []
  }
 ],
 "metadata": {
  "kernelspec": {
   "display_name": "Python 3",
   "language": "python",
   "name": "python3"
  },
  "language_info": {
   "codemirror_mode": {
    "name": "ipython",
    "version": 3
   },
   "file_extension": ".py",
   "mimetype": "text/x-python",
   "name": "python",
   "nbconvert_exporter": "python",
   "pygments_lexer": "ipython3",
   "version": "3.6.5"
  }
 },
 "nbformat": 4,
 "nbformat_minor": 2
}
